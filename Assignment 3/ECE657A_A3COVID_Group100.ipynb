{
 "cells": [
  {
   "cell_type": "markdown",
   "metadata": {
    "id": "28X0KASaDRnD"
   },
   "source": [
    "# THE COVID-19 DATASET ANALYSIS (CM1-4)"
   ]
  },
  {
   "cell_type": "markdown",
   "metadata": {
    "id": "5GISvMRNDj8M"
   },
   "source": [
    "### **Group 100**\n",
    "\n",
    "### *Amy Bhatia* 20876862\n",
    "### *Mengxuan Shi* 20632148"
   ]
  },
  {
   "cell_type": "code",
   "execution_count": 9,
   "metadata": {
    "id": "U4cGHzgjmKeN"
   },
   "outputs": [],
   "source": [
    " import tensorflow as tf\n",
    " tf.config.run_functions_eagerly(True)\n",
    "import keras\n",
    "from keras.models import Sequential\n",
    "import pandas as pd\n",
    "from keras.layers import Dense, SimpleRNN, LSTM\n",
    "import matplotlib.pyplot as plt\n",
    "import numpy as np\n",
    "from sklearn.model_selection import train_test_split\n",
    "import time\n",
    "from tensorflow.keras.callbacks import EarlyStopping"
   ]
  },
  {
   "cell_type": "markdown",
   "metadata": {
    "id": "X-uQ1nJkw_zR"
   },
   "source": [
    "# CM1 Preprocessing"
   ]
  },
  {
   "cell_type": "code",
   "execution_count": 10,
   "metadata": {
    "id": "6hdPpKf2UiET"
   },
   "outputs": [],
   "source": [
    "# load dkmacovid training data\n",
    "df = pd.read_csv('dkmacovid_train.csv')\n",
    "\n",
    "# remove comma from dataframe in 'Resident Population 2020 Census' and 'Population Density 2020 Census'\n",
    "df = df.replace(',','', regex=True)\n",
    "# convert string to numeric data\n",
    "df['Resident Population 2020 Census'] = df['Resident Population 2020 Census'].astype(float) \n",
    "df['Population Density 2020 Census'] = df['Population Density 2020 Census'].astype(float) \n",
    "df['Confirmed'].replace({True:1,False:0},inplace=True)\n",
    "df['Deaths'].replace({True:1,False:0},inplace=True)\n",
    "df['Recovered'].replace({True:1,False:0},inplace=True)\n",
    "\n",
    "from sklearn.preprocessing import StandardScaler\n",
    "std_scaler = StandardScaler()\n",
    "# select features to normalize\n",
    "features=['Day','State ID','Lat','Long_','Active', 'Incident_Rate', 'Total_Test_Results', 'Case_Fatality_Ratio', 'Testing_Rate', 'Resident Population 2020 Census', 'Population Density 2020 Census', 'Density Rank 2020 Census', 'SexRatio']\n",
    "df_z= df.loc[:,features]\n",
    "df_z.iloc[:,:]=std_scaler.fit_transform(df_z.iloc[:,:])\n",
    "df_z.head()\n",
    "\n",
    "X= df_z.loc[:,features]\n",
    "# set y1= Confirmed y2= deaths y3= Recovered\n",
    "y1=df.loc[:,'Confirmed']\n",
    "y2=df.loc[:,'Deaths']\n",
    "y3=df.loc[:,'Recovered']"
   ]
  },
  {
   "cell_type": "code",
   "execution_count": 11,
   "metadata": {
    "colab": {
     "base_uri": "https://localhost:8080/"
    },
    "id": "UNDERtKVp_Rw",
    "outputId": "f3d589e1-7a9a-4ca7-ca5b-f92de47534bd"
   },
   "outputs": [
    {
     "data": {
      "text/plain": [
       "Day                                0\n",
       "State ID                           0\n",
       "State                              0\n",
       "Lat                                0\n",
       "Long_                              0\n",
       "Active                             0\n",
       "Incident_Rate                      0\n",
       "Total_Test_Results                 0\n",
       "Case_Fatality_Ratio                0\n",
       "Testing_Rate                       0\n",
       "Resident Population 2020 Census    0\n",
       "Population Density 2020 Census     0\n",
       "Density Rank 2020 Census           0\n",
       "SexRatio                           0\n",
       "Confirmed                          0\n",
       "Deaths                             0\n",
       "Recovered                          0\n",
       "dtype: int64"
      ]
     },
     "execution_count": 11,
     "metadata": {
      "tags": []
     },
     "output_type": "execute_result"
    }
   ],
   "source": [
    "df.isnull().sum()"
   ]
  },
  {
   "cell_type": "markdown",
   "metadata": {
    "id": "D3MdcAAWopsX"
   },
   "source": [
    "The dataset was checked for null values as the presence of these can hamper the performance of neural networks which are trained on the data for further analysis. \n",
    "\n",
    "Some other pre-processing steps were performed to convert the data into a neural network ready format. This included removing 'commas' from some columns and updating the data types for columns which contained numbers in string formats. Finally, the dataset columns were scaled using StandardScaler. This is an important stpe to enhance the training and performance of neural networks."
   ]
  },
  {
   "cell_type": "markdown",
   "metadata": {
    "id": "pvBdP4C0O6Z8"
   },
   "source": [
    "\\pagebreak"
   ]
  },
  {
   "cell_type": "markdown",
   "metadata": {
    "id": "DyYSvy0XURbA"
   },
   "source": [
    "Defining below some functions to be used for training further models"
   ]
  },
  {
   "cell_type": "code",
   "execution_count": 12,
   "metadata": {
    "id": "SwpFxmV12CaN"
   },
   "outputs": [],
   "source": [
    "#Defining a function which will be used for plotting model performance graphs\n",
    "def plot_metric(history, metric):\n",
    "    train_metrics = history.history[metric]\n",
    "    val_metrics = history.history['val_'+metric]\n",
    "    epochs = range(1, len(train_metrics) + 1)\n",
    "    plt.plot(epochs, train_metrics)\n",
    "    plt.plot(epochs, val_metrics)\n",
    "    plt.title('Training and validation '+ metric)\n",
    "    plt.xlabel(\"Epochs\")\n",
    "    plt.ylabel(metric)\n",
    "    plt.legend([\"train_\"+metric, 'val_'+metric])\n",
    "    plt.show()"
   ]
  },
  {
   "cell_type": "code",
   "execution_count": 13,
   "metadata": {
    "id": "kKbawPi336te"
   },
   "outputs": [],
   "source": [
    "def model_trainer_1(model, y, X, epo, batch, es):\n",
    "  model.reset_metrics()\n",
    "  model.reset_states()\n",
    "  y=np.ravel(y)\n",
    "  X_train, X_test, y_train, y_test = train_test_split(X, y, test_size=0.2,random_state =0)\n",
    "  features = X_train.shape[1]\n",
    "  strat_time = time.time()\n",
    " \n",
    "  # ADD early stopping [1]\n",
    "  if (es=='0'):\n",
    "    history = model.fit(X_train,y_train,epochs=epo,validation_split=0.25, batch_size=batch)\n",
    "  else:\n",
    "    history = model.fit(X_train,y_train,epochs=epo,validation_split=0.25, batch_size=batch, callbacks=[es])\n",
    "\n",
    "  end_time = time.time()\n",
    "  print(\"Running time is {:.2f} seconds per {} epoches\".format(end_time-strat_time, epo))\n",
    "  loss, acc = model.evaluate(X_test, y_test, verbose=0)\n",
    "  print('Test Accuracy: %.3f' % acc)\n",
    "\n",
    "  return history"
   ]
  },
  {
   "cell_type": "markdown",
   "metadata": {
    "id": "1rx2omV0-o-X"
   },
   "source": [
    "# CM2"
   ]
  },
  {
   "cell_type": "markdown",
   "metadata": {
    "id": "mxCwn_n1ER6S"
   },
   "source": [
    "Below is a neural network which has 2 hidden layers with 20 units each. The activation function used in both the layers is ReLU activation. For the output layer, softmax activation function has been used. Three separate models have been trained for the labels 'Confirmed', 'Recovered' and 'Deaths'."
   ]
  },
  {
   "cell_type": "code",
   "execution_count": 14,
   "metadata": {
    "id": "n7sjy6bcqUOT"
   },
   "outputs": [],
   "source": [
    "model_cm2 = Sequential()\n",
    "model_cm2.add(Dense(20, activation='relu', input_shape=(13,)))\n",
    "model_cm2.add(Dense(20, activation='relu'))\n",
    "model_cm2.add(Dense(1, activation='softmax'))\n",
    "model_cm2.compile(loss='binary_crossentropy',\n",
    "              optimizer='sgd',\n",
    "              metrics=['accuracy'])\n",
    "                  "
   ]
  },
  {
   "cell_type": "code",
   "execution_count": 15,
   "metadata": {
    "id": "wl7QUh8V-29-"
   },
   "outputs": [],
   "source": [
    "es_cm2= EarlyStopping(\n",
    "    monitor='val_loss', \n",
    "    patience=8, \n",
    "    min_delta=0.001, \n",
    "  \n",
    ")"
   ]
  },
  {
   "cell_type": "code",
   "execution_count": 16,
   "metadata": {
    "colab": {
     "base_uri": "https://localhost:8080/"
    },
    "id": "VwIDIxrGAJwf",
    "outputId": "00355a3d-1668-414e-fc9a-59a67b88ca06"
   },
   "outputs": [
    {
     "name": "stdout",
     "output_type": "stream",
     "text": [
      "Epoch 1/200\n",
      " 3/83 [>.............................] - ETA: 2s - loss: 0.4435 - accuracy: 0.9389"
     ]
    },
    {
     "name": "stderr",
     "output_type": "stream",
     "text": [
      "/usr/local/lib/python3.7/dist-packages/tensorflow/python/data/ops/dataset_ops.py:3704: UserWarning: Even though the `tf.config.experimental_run_functions_eagerly` option is set, this option does not apply to tf.data functions. To force eager execution of tf.data functions, please use `tf.data.experimental.enable.debug_mode()`.\n",
      "  \"Even though the `tf.config.experimental_run_functions_eagerly` \"\n",
      "/usr/local/lib/python3.7/dist-packages/tensorflow/python/data/ops/dataset_ops.py:3704: UserWarning: Even though the `tf.config.experimental_run_functions_eagerly` option is set, this option does not apply to tf.data functions. To force eager execution of tf.data functions, please use `tf.data.experimental.enable.debug_mode()`.\n",
      "  \"Even though the `tf.config.experimental_run_functions_eagerly` \"\n"
     ]
    },
    {
     "name": "stdout",
     "output_type": "stream",
     "text": [
      "81/83 [============================>.] - ETA: 0s - loss: 0.4513 - accuracy: 0.9603"
     ]
    },
    {
     "name": "stderr",
     "output_type": "stream",
     "text": [
      "/usr/local/lib/python3.7/dist-packages/tensorflow/python/data/ops/dataset_ops.py:3704: UserWarning: Even though the `tf.config.experimental_run_functions_eagerly` option is set, this option does not apply to tf.data functions. To force eager execution of tf.data functions, please use `tf.data.experimental.enable.debug_mode()`.\n",
      "  \"Even though the `tf.config.experimental_run_functions_eagerly` \"\n"
     ]
    },
    {
     "name": "stdout",
     "output_type": "stream",
     "text": [
      "83/83 [==============================] - 2s 29ms/step - loss: 0.4494 - accuracy: 0.9603 - val_loss: 0.3042 - val_accuracy: 0.9710\n",
      "Epoch 2/200\n",
      "83/83 [==============================] - 2s 30ms/step - loss: 0.3027 - accuracy: 0.9442 - val_loss: 0.2153 - val_accuracy: 0.9710\n",
      "Epoch 3/200\n",
      "83/83 [==============================] - 2s 28ms/step - loss: 0.2551 - accuracy: 0.9448 - val_loss: 0.1764 - val_accuracy: 0.9710\n",
      "Epoch 4/200\n",
      "83/83 [==============================] - 2s 27ms/step - loss: 0.2307 - accuracy: 0.9484 - val_loss: 0.1590 - val_accuracy: 0.9710\n",
      "Epoch 5/200\n",
      "83/83 [==============================] - 2s 29ms/step - loss: 0.1669 - accuracy: 0.9664 - val_loss: 0.1500 - val_accuracy: 0.9710\n",
      "Epoch 6/200\n",
      "83/83 [==============================] - 2s 29ms/step - loss: 0.1814 - accuracy: 0.9547 - val_loss: 0.1440 - val_accuracy: 0.9710\n",
      "Epoch 7/200\n",
      "83/83 [==============================] - 2s 27ms/step - loss: 0.1684 - accuracy: 0.9605 - val_loss: 0.1401 - val_accuracy: 0.9710\n",
      "Epoch 8/200\n",
      "83/83 [==============================] - 2s 27ms/step - loss: 0.1520 - accuracy: 0.9651 - val_loss: 0.1377 - val_accuracy: 0.9710\n",
      "Epoch 9/200\n",
      "83/83 [==============================] - 2s 29ms/step - loss: 0.1674 - accuracy: 0.9562 - val_loss: 0.1357 - val_accuracy: 0.9710\n",
      "Epoch 10/200\n",
      "83/83 [==============================] - 2s 27ms/step - loss: 0.1702 - accuracy: 0.9551 - val_loss: 0.1340 - val_accuracy: 0.9710\n",
      "Epoch 11/200\n",
      "83/83 [==============================] - 2s 30ms/step - loss: 0.1584 - accuracy: 0.9588 - val_loss: 0.1328 - val_accuracy: 0.9710\n",
      "Epoch 12/200\n",
      "83/83 [==============================] - 2s 30ms/step - loss: 0.1613 - accuracy: 0.9588 - val_loss: 0.1317 - val_accuracy: 0.9710\n",
      "Epoch 13/200\n",
      "83/83 [==============================] - 3s 30ms/step - loss: 0.1740 - accuracy: 0.9515 - val_loss: 0.1307 - val_accuracy: 0.9710\n",
      "Epoch 14/200\n",
      "83/83 [==============================] - 2s 28ms/step - loss: 0.1488 - accuracy: 0.9610 - val_loss: 0.1301 - val_accuracy: 0.9710\n",
      "Epoch 15/200\n",
      "83/83 [==============================] - 2s 28ms/step - loss: 0.1524 - accuracy: 0.9577 - val_loss: 0.1295 - val_accuracy: 0.9710\n",
      "Epoch 16/200\n",
      "83/83 [==============================] - 2s 27ms/step - loss: 0.1290 - accuracy: 0.9660 - val_loss: 0.1291 - val_accuracy: 0.9710\n",
      "Epoch 17/200\n",
      "83/83 [==============================] - 3s 31ms/step - loss: 0.1845 - accuracy: 0.9494 - val_loss: 0.1284 - val_accuracy: 0.9710\n",
      "Epoch 18/200\n",
      "83/83 [==============================] - 3s 31ms/step - loss: 0.1680 - accuracy: 0.9496 - val_loss: 0.1280 - val_accuracy: 0.9710\n",
      "Epoch 19/200\n",
      "83/83 [==============================] - 2s 27ms/step - loss: 0.1813 - accuracy: 0.9467 - val_loss: 0.1276 - val_accuracy: 0.9710\n",
      "Epoch 20/200\n",
      "83/83 [==============================] - 2s 27ms/step - loss: 0.1797 - accuracy: 0.9485 - val_loss: 0.1272 - val_accuracy: 0.9710\n",
      "Epoch 21/200\n",
      "83/83 [==============================] - 2s 29ms/step - loss: 0.1452 - accuracy: 0.9561 - val_loss: 0.1269 - val_accuracy: 0.9710\n",
      "Epoch 22/200\n",
      "83/83 [==============================] - 2s 28ms/step - loss: 0.1388 - accuracy: 0.9639 - val_loss: 0.1268 - val_accuracy: 0.9710\n",
      "Epoch 23/200\n",
      "83/83 [==============================] - 2s 27ms/step - loss: 0.1598 - accuracy: 0.9512 - val_loss: 0.1264 - val_accuracy: 0.9710\n",
      "Epoch 24/200\n",
      "83/83 [==============================] - 2s 27ms/step - loss: 0.1126 - accuracy: 0.9708 - val_loss: 0.1264 - val_accuracy: 0.9710\n",
      "Epoch 25/200\n",
      "83/83 [==============================] - 2s 28ms/step - loss: 0.0986 - accuracy: 0.9763 - val_loss: 0.1264 - val_accuracy: 0.9710\n",
      "Epoch 26/200\n",
      "83/83 [==============================] - 2s 28ms/step - loss: 0.1253 - accuracy: 0.9649 - val_loss: 0.1262 - val_accuracy: 0.9710\n",
      "Epoch 27/200\n",
      "83/83 [==============================] - 2s 28ms/step - loss: 0.1272 - accuracy: 0.9649 - val_loss: 0.1261 - val_accuracy: 0.9710\n",
      "Epoch 28/200\n",
      "83/83 [==============================] - 2s 30ms/step - loss: 0.1390 - accuracy: 0.9590 - val_loss: 0.1259 - val_accuracy: 0.9710\n",
      "Epoch 29/200\n",
      "83/83 [==============================] - 2s 27ms/step - loss: 0.1135 - accuracy: 0.9697 - val_loss: 0.1259 - val_accuracy: 0.9710\n",
      "Epoch 30/200\n",
      "83/83 [==============================] - 2s 30ms/step - loss: 0.1630 - accuracy: 0.9523 - val_loss: 0.1256 - val_accuracy: 0.9710\n",
      "Epoch 31/200\n",
      "83/83 [==============================] - 2s 27ms/step - loss: 0.1104 - accuracy: 0.9683 - val_loss: 0.1255 - val_accuracy: 0.9710\n",
      "Epoch 32/200\n",
      "83/83 [==============================] - 2s 30ms/step - loss: 0.1640 - accuracy: 0.9469 - val_loss: 0.1252 - val_accuracy: 0.9710\n",
      "Epoch 33/200\n",
      "83/83 [==============================] - 2s 26ms/step - loss: 0.1380 - accuracy: 0.9586 - val_loss: 0.1250 - val_accuracy: 0.9710\n",
      "Epoch 34/200\n",
      "83/83 [==============================] - 2s 27ms/step - loss: 0.1335 - accuracy: 0.9612 - val_loss: 0.1251 - val_accuracy: 0.9710\n",
      "Epoch 35/200\n",
      "83/83 [==============================] - 2s 28ms/step - loss: 0.1155 - accuracy: 0.9635 - val_loss: 0.1252 - val_accuracy: 0.9710\n",
      "Epoch 36/200\n",
      "83/83 [==============================] - 2s 29ms/step - loss: 0.1432 - accuracy: 0.9582 - val_loss: 0.1251 - val_accuracy: 0.9710\n",
      "Running time is 84.82 seconds per 200 epoches\n",
      "Test Accuracy: 0.971\n"
     ]
    },
    {
     "name": "stderr",
     "output_type": "stream",
     "text": [
      "/usr/local/lib/python3.7/dist-packages/tensorflow/python/data/ops/dataset_ops.py:3704: UserWarning: Even though the `tf.config.experimental_run_functions_eagerly` option is set, this option does not apply to tf.data functions. To force eager execution of tf.data functions, please use `tf.data.experimental.enable.debug_mode()`.\n",
      "  \"Even though the `tf.config.experimental_run_functions_eagerly` \"\n"
     ]
    }
   ],
   "source": [
    "history_cm2_y1=model_trainer_1(model_cm2, y1, X, 200, 10,es_cm2)"
   ]
  },
  {
   "cell_type": "code",
   "execution_count": 17,
   "metadata": {
    "colab": {
     "base_uri": "https://localhost:8080/",
     "height": 573
    },
    "id": "MZuA95G0Qw-8",
    "outputId": "ec822b5e-549c-4b5c-b2ad-28f56cec4de6"
   },
   "outputs": [
    {
     "data": {
      "image/png": "[encoded data removed]",
      "text/plain": [
       "<Figure size 432x288 with 1 Axes>"
      ]
     },
     "metadata": {
      "needs_background": "light",
      "tags": []
     },
     "output_type": "display_data"
    },
    {
     "data": {
      "image/png": "[encoded data removed]",
      "text/plain": [
       "<Figure size 432x288 with 1 Axes>"
      ]
     },
     "metadata": {
      "needs_background": "light",
      "tags": []
     },
     "output_type": "display_data"
    }
   ],
   "source": [
    "plot_metric(history_cm2_y1,'loss')\n",
    "plot_metric(history_cm2_y1,'accuracy')"
   ]
  },
  {
   "cell_type": "code",
   "execution_count": 18,
   "metadata": {
    "colab": {
     "base_uri": "https://localhost:8080/"
    },
    "id": "ctz9z88HDiBS",
    "outputId": "3b938705-362a-4c73-af6d-b7803214c54e"
   },
   "outputs": [
    {
     "name": "stdout",
     "output_type": "stream",
     "text": [
      "Epoch 1/200\n",
      " 4/83 [>.............................] - ETA: 1s - loss: 0.1035 - accuracy: 0.9750"
     ]
    },
    {
     "name": "stderr",
     "output_type": "stream",
     "text": [
      "/usr/local/lib/python3.7/dist-packages/tensorflow/python/data/ops/dataset_ops.py:3704: UserWarning: Even though the `tf.config.experimental_run_functions_eagerly` option is set, this option does not apply to tf.data functions. To force eager execution of tf.data functions, please use `tf.data.experimental.enable.debug_mode()`.\n",
      "  \"Even though the `tf.config.experimental_run_functions_eagerly` \"\n",
      "/usr/local/lib/python3.7/dist-packages/tensorflow/python/data/ops/dataset_ops.py:3704: UserWarning: Even though the `tf.config.experimental_run_functions_eagerly` option is set, this option does not apply to tf.data functions. To force eager execution of tf.data functions, please use `tf.data.experimental.enable.debug_mode()`.\n",
      "  \"Even though the `tf.config.experimental_run_functions_eagerly` \"\n"
     ]
    },
    {
     "name": "stdout",
     "output_type": "stream",
     "text": [
      "82/83 [============================>.] - ETA: 0s - loss: 0.3786 - accuracy: 0.9000"
     ]
    },
    {
     "name": "stderr",
     "output_type": "stream",
     "text": [
      "/usr/local/lib/python3.7/dist-packages/tensorflow/python/data/ops/dataset_ops.py:3704: UserWarning: Even though the `tf.config.experimental_run_functions_eagerly` option is set, this option does not apply to tf.data functions. To force eager execution of tf.data functions, please use `tf.data.experimental.enable.debug_mode()`.\n",
      "  \"Even though the `tf.config.experimental_run_functions_eagerly` \"\n"
     ]
    },
    {
     "name": "stdout",
     "output_type": "stream",
     "text": [
      "83/83 [==============================] - 2s 27ms/step - loss: 0.3758 - accuracy: 0.9010 - val_loss: 0.3686 - val_accuracy: 0.8986\n",
      "Epoch 2/200\n",
      "83/83 [==============================] - 2s 29ms/step - loss: 0.3177 - accuracy: 0.9010 - val_loss: 0.3325 - val_accuracy: 0.8986\n",
      "Epoch 3/200\n",
      "83/83 [==============================] - 2s 26ms/step - loss: 0.3008 - accuracy: 0.9010 - val_loss: 0.3175 - val_accuracy: 0.8986\n",
      "Epoch 4/200\n",
      "83/83 [==============================] - 2s 26ms/step - loss: 0.2922 - accuracy: 0.9010 - val_loss: 0.3084 - val_accuracy: 0.8986\n",
      "Epoch 5/200\n",
      "83/83 [==============================] - 2s 27ms/step - loss: 0.2858 - accuracy: 0.9010 - val_loss: 0.3007 - val_accuracy: 0.8986\n",
      "Epoch 6/200\n",
      "83/83 [==============================] - 2s 26ms/step - loss: 0.2804 - accuracy: 0.9010 - val_loss: 0.2944 - val_accuracy: 0.8986\n",
      "Epoch 7/200\n",
      "83/83 [==============================] - 2s 26ms/step - loss: 0.2759 - accuracy: 0.9010 - val_loss: 0.2890 - val_accuracy: 0.8986\n",
      "Epoch 8/200\n",
      "83/83 [==============================] - 2s 29ms/step - loss: 0.2714 - accuracy: 0.9010 - val_loss: 0.2844 - val_accuracy: 0.8986\n",
      "Epoch 9/200\n",
      "83/83 [==============================] - 2s 26ms/step - loss: 0.2678 - accuracy: 0.9010 - val_loss: 0.2798 - val_accuracy: 0.8986\n",
      "Epoch 10/200\n",
      "83/83 [==============================] - 2s 26ms/step - loss: 0.2647 - accuracy: 0.9010 - val_loss: 0.2764 - val_accuracy: 0.8986\n",
      "Epoch 11/200\n",
      "83/83 [==============================] - 2s 26ms/step - loss: 0.2617 - accuracy: 0.9010 - val_loss: 0.2739 - val_accuracy: 0.8986\n",
      "Epoch 12/200\n",
      "83/83 [==============================] - 2s 26ms/step - loss: 0.2592 - accuracy: 0.9010 - val_loss: 0.2718 - val_accuracy: 0.8986\n",
      "Epoch 13/200\n",
      "83/83 [==============================] - 2s 26ms/step - loss: 0.2567 - accuracy: 0.9010 - val_loss: 0.2697 - val_accuracy: 0.8986\n",
      "Epoch 14/200\n",
      "83/83 [==============================] - 2s 26ms/step - loss: 0.2546 - accuracy: 0.9010 - val_loss: 0.2680 - val_accuracy: 0.8986\n",
      "Epoch 15/200\n",
      "83/83 [==============================] - 2s 26ms/step - loss: 0.2526 - accuracy: 0.9010 - val_loss: 0.2669 - val_accuracy: 0.8986\n",
      "Epoch 16/200\n",
      "83/83 [==============================] - 2s 27ms/step - loss: 0.2510 - accuracy: 0.9010 - val_loss: 0.2657 - val_accuracy: 0.8986\n",
      "Epoch 17/200\n",
      "83/83 [==============================] - 2s 29ms/step - loss: 0.2495 - accuracy: 0.9010 - val_loss: 0.2642 - val_accuracy: 0.8986\n",
      "Epoch 18/200\n",
      "83/83 [==============================] - 2s 26ms/step - loss: 0.2480 - accuracy: 0.9010 - val_loss: 0.2624 - val_accuracy: 0.8986\n",
      "Epoch 19/200\n",
      "83/83 [==============================] - 2s 26ms/step - loss: 0.2462 - accuracy: 0.9010 - val_loss: 0.2620 - val_accuracy: 0.8986\n",
      "Epoch 20/200\n",
      "83/83 [==============================] - 2s 29ms/step - loss: 0.2451 - accuracy: 0.9010 - val_loss: 0.2609 - val_accuracy: 0.8986\n",
      "Epoch 21/200\n",
      "83/83 [==============================] - 2s 27ms/step - loss: 0.2435 - accuracy: 0.9010 - val_loss: 0.2604 - val_accuracy: 0.8986\n",
      "Epoch 22/200\n",
      "83/83 [==============================] - 2s 27ms/step - loss: 0.2427 - accuracy: 0.9010 - val_loss: 0.2590 - val_accuracy: 0.8986\n",
      "Epoch 23/200\n",
      "83/83 [==============================] - 2s 29ms/step - loss: 0.2416 - accuracy: 0.9010 - val_loss: 0.2582 - val_accuracy: 0.8986\n",
      "Epoch 24/200\n",
      "83/83 [==============================] - 2s 26ms/step - loss: 0.2397 - accuracy: 0.9010 - val_loss: 0.2591 - val_accuracy: 0.8986\n",
      "Epoch 25/200\n",
      "83/83 [==============================] - 2s 30ms/step - loss: 0.2402 - accuracy: 0.9010 - val_loss: 0.2570 - val_accuracy: 0.8986\n",
      "Epoch 26/200\n",
      "83/83 [==============================] - 2s 29ms/step - loss: 0.2384 - accuracy: 0.9010 - val_loss: 0.2557 - val_accuracy: 0.8986\n",
      "Epoch 27/200\n",
      "83/83 [==============================] - 2s 26ms/step - loss: 0.2378 - accuracy: 0.9010 - val_loss: 0.2555 - val_accuracy: 0.8986\n",
      "Epoch 28/200\n",
      "83/83 [==============================] - 2s 27ms/step - loss: 0.2370 - accuracy: 0.9010 - val_loss: 0.2549 - val_accuracy: 0.8986\n",
      "Epoch 29/200\n",
      "83/83 [==============================] - 2s 26ms/step - loss: 0.2359 - accuracy: 0.9010 - val_loss: 0.2548 - val_accuracy: 0.8986\n",
      "Epoch 30/200\n",
      "83/83 [==============================] - 2s 30ms/step - loss: 0.2352 - accuracy: 0.9010 - val_loss: 0.2542 - val_accuracy: 0.8986\n",
      "Epoch 31/200\n",
      "83/83 [==============================] - 2s 27ms/step - loss: 0.2342 - accuracy: 0.9010 - val_loss: 0.2539 - val_accuracy: 0.8986\n",
      "Epoch 32/200\n",
      "83/83 [==============================] - 2s 27ms/step - loss: 0.2339 - accuracy: 0.9010 - val_loss: 0.2535 - val_accuracy: 0.8986\n",
      "Epoch 33/200\n",
      "83/83 [==============================] - 2s 27ms/step - loss: 0.2331 - accuracy: 0.9010 - val_loss: 0.2530 - val_accuracy: 0.8986\n",
      "Epoch 34/200\n",
      "83/83 [==============================] - 2s 27ms/step - loss: 0.2323 - accuracy: 0.9010 - val_loss: 0.2529 - val_accuracy: 0.8986\n",
      "Epoch 35/200\n",
      "83/83 [==============================] - 2s 28ms/step - loss: 0.2315 - accuracy: 0.9010 - val_loss: 0.2526 - val_accuracy: 0.8986\n",
      "Epoch 36/200\n",
      "83/83 [==============================] - 2s 29ms/step - loss: 0.2307 - accuracy: 0.9010 - val_loss: 0.2522 - val_accuracy: 0.8986\n",
      "Epoch 37/200\n",
      "83/83 [==============================] - 2s 27ms/step - loss: 0.2304 - accuracy: 0.9010 - val_loss: 0.2515 - val_accuracy: 0.8986\n",
      "Epoch 38/200\n",
      "83/83 [==============================] - 2s 27ms/step - loss: 0.2297 - accuracy: 0.9010 - val_loss: 0.2513 - val_accuracy: 0.8986\n",
      "Epoch 39/200\n",
      "83/83 [==============================] - 2s 29ms/step - loss: 0.2288 - accuracy: 0.9010 - val_loss: 0.2517 - val_accuracy: 0.8986\n",
      "Epoch 40/200\n",
      "83/83 [==============================] - 2s 28ms/step - loss: 0.2281 - accuracy: 0.9010 - val_loss: 0.2510 - val_accuracy: 0.8986\n",
      "Epoch 41/200\n",
      "83/83 [==============================] - 2s 26ms/step - loss: 0.2277 - accuracy: 0.9010 - val_loss: 0.2506 - val_accuracy: 0.8986\n",
      "Epoch 42/200\n",
      "83/83 [==============================] - 2s 30ms/step - loss: 0.2269 - accuracy: 0.9010 - val_loss: 0.2506 - val_accuracy: 0.8986\n",
      "Epoch 43/200\n",
      "83/83 [==============================] - 2s 27ms/step - loss: 0.2265 - accuracy: 0.9010 - val_loss: 0.2500 - val_accuracy: 0.8986\n",
      "Epoch 44/200\n",
      "83/83 [==============================] - 2s 27ms/step - loss: 0.2251 - accuracy: 0.9010 - val_loss: 0.2511 - val_accuracy: 0.8986\n",
      "Epoch 45/200\n",
      "83/83 [==============================] - 2s 27ms/step - loss: 0.2250 - accuracy: 0.9010 - val_loss: 0.2491 - val_accuracy: 0.8986\n",
      "Epoch 46/200\n",
      "83/83 [==============================] - 2s 27ms/step - loss: 0.2246 - accuracy: 0.9010 - val_loss: 0.2493 - val_accuracy: 0.8986\n",
      "Epoch 47/200\n",
      "83/83 [==============================] - 2s 30ms/step - loss: 0.2237 - accuracy: 0.9010 - val_loss: 0.2492 - val_accuracy: 0.8986\n",
      "Epoch 48/200\n",
      "83/83 [==============================] - 2s 28ms/step - loss: 0.2234 - accuracy: 0.9010 - val_loss: 0.2484 - val_accuracy: 0.8986\n",
      "Epoch 49/200\n",
      "83/83 [==============================] - 3s 31ms/step - loss: 0.2229 - accuracy: 0.9010 - val_loss: 0.2490 - val_accuracy: 0.8986\n",
      "Epoch 50/200\n",
      "83/83 [==============================] - 2s 28ms/step - loss: 0.2223 - accuracy: 0.9010 - val_loss: 0.2489 - val_accuracy: 0.8986\n",
      "Epoch 51/200\n",
      "83/83 [==============================] - 2s 28ms/step - loss: 0.2215 - accuracy: 0.9010 - val_loss: 0.2501 - val_accuracy: 0.8986\n",
      "Epoch 52/200\n",
      "83/83 [==============================] - 2s 30ms/step - loss: 0.2211 - accuracy: 0.9010 - val_loss: 0.2484 - val_accuracy: 0.8986\n",
      "Epoch 53/200\n",
      "83/83 [==============================] - 2s 28ms/step - loss: 0.2206 - accuracy: 0.9010 - val_loss: 0.2487 - val_accuracy: 0.8986\n",
      "Epoch 54/200\n",
      "83/83 [==============================] - 2s 28ms/step - loss: 0.2202 - accuracy: 0.9010 - val_loss: 0.2484 - val_accuracy: 0.8986\n",
      "Epoch 55/200\n",
      "83/83 [==============================] - 2s 29ms/step - loss: 0.2194 - accuracy: 0.9010 - val_loss: 0.2482 - val_accuracy: 0.8986\n",
      "Epoch 56/200\n",
      "83/83 [==============================] - 3s 31ms/step - loss: 0.2189 - accuracy: 0.9010 - val_loss: 0.2481 - val_accuracy: 0.8986\n",
      "Running time is 127.96 seconds per 200 epoches\n",
      "Test Accuracy: 0.906\n"
     ]
    },
    {
     "name": "stderr",
     "output_type": "stream",
     "text": [
      "/usr/local/lib/python3.7/dist-packages/tensorflow/python/data/ops/dataset_ops.py:3704: UserWarning: Even though the `tf.config.experimental_run_functions_eagerly` option is set, this option does not apply to tf.data functions. To force eager execution of tf.data functions, please use `tf.data.experimental.enable.debug_mode()`.\n",
      "  \"Even though the `tf.config.experimental_run_functions_eagerly` \"\n"
     ]
    }
   ],
   "source": [
    "history_cm2_y2=model_trainer_1(model_cm2, y2, X, 200, 10,es_cm2)"
   ]
  },
  {
   "cell_type": "code",
   "execution_count": 19,
   "metadata": {
    "colab": {
     "base_uri": "https://localhost:8080/",
     "height": 573
    },
    "id": "yr0g7TMLxzbk",
    "outputId": "22db13c3-e7d9-443b-9e9d-5ff2192e0fa3"
   },
   "outputs": [
    {
     "data": {
      "image/png": "[encoded data removed]",
      "text/plain": [
       "<Figure size 432x288 with 1 Axes>"
      ]
     },
     "metadata": {
      "needs_background": "light",
      "tags": []
     },
     "output_type": "display_data"
    },
    {
     "data": {
      "image/png": "[encoded data removed]",
      "text/plain": [
       "<Figure size 432x288 with 1 Axes>"
      ]
     },
     "metadata": {
      "needs_background": "light",
      "tags": []
     },
     "output_type": "display_data"
    }
   ],
   "source": [
    "plot_metric(history_cm2_y2,'loss')\n",
    "plot_metric(history_cm2_y2,'accuracy')"
   ]
  },
  {
   "cell_type": "code",
   "execution_count": 20,
   "metadata": {
    "colab": {
     "base_uri": "https://localhost:8080/"
    },
    "id": "vDsZyJ0RJFiz",
    "outputId": "27b28c7f-9af7-4481-84e4-bfa467f1c9a9"
   },
   "outputs": [
    {
     "name": "stdout",
     "output_type": "stream",
     "text": [
      "Epoch 1/200\n",
      " 4/83 [>.............................] - ETA: 1s - loss: 1.7716 - accuracy: 0.5750"
     ]
    },
    {
     "name": "stderr",
     "output_type": "stream",
     "text": [
      "/usr/local/lib/python3.7/dist-packages/tensorflow/python/data/ops/dataset_ops.py:3704: UserWarning: Even though the `tf.config.experimental_run_functions_eagerly` option is set, this option does not apply to tf.data functions. To force eager execution of tf.data functions, please use `tf.data.experimental.enable.debug_mode()`.\n",
      "  \"Even though the `tf.config.experimental_run_functions_eagerly` \"\n",
      "/usr/local/lib/python3.7/dist-packages/tensorflow/python/data/ops/dataset_ops.py:3704: UserWarning: Even though the `tf.config.experimental_run_functions_eagerly` option is set, this option does not apply to tf.data functions. To force eager execution of tf.data functions, please use `tf.data.experimental.enable.debug_mode()`.\n",
      "  \"Even though the `tf.config.experimental_run_functions_eagerly` \"\n"
     ]
    },
    {
     "name": "stdout",
     "output_type": "stream",
     "text": [
      "81/83 [============================>.] - ETA: 0s - loss: 0.9266 - accuracy: 0.6222"
     ]
    },
    {
     "name": "stderr",
     "output_type": "stream",
     "text": [
      "/usr/local/lib/python3.7/dist-packages/tensorflow/python/data/ops/dataset_ops.py:3704: UserWarning: Even though the `tf.config.experimental_run_functions_eagerly` option is set, this option does not apply to tf.data functions. To force eager execution of tf.data functions, please use `tf.data.experimental.enable.debug_mode()`.\n",
      "  \"Even though the `tf.config.experimental_run_functions_eagerly` \"\n"
     ]
    },
    {
     "name": "stdout",
     "output_type": "stream",
     "text": [
      "83/83 [==============================] - 3s 31ms/step - loss: 0.9180 - accuracy: 0.6232 - val_loss: 0.6771 - val_accuracy: 0.6196\n",
      "Epoch 2/200\n",
      "83/83 [==============================] - 2s 27ms/step - loss: 0.6151 - accuracy: 0.6232 - val_loss: 0.5639 - val_accuracy: 0.6196\n",
      "Epoch 3/200\n",
      "83/83 [==============================] - 2s 27ms/step - loss: 0.5332 - accuracy: 0.6232 - val_loss: 0.5077 - val_accuracy: 0.6196\n",
      "Epoch 4/200\n",
      "83/83 [==============================] - 2s 27ms/step - loss: 0.4853 - accuracy: 0.6232 - val_loss: 0.4726 - val_accuracy: 0.6196\n",
      "Epoch 5/200\n",
      "83/83 [==============================] - 2s 28ms/step - loss: 0.4532 - accuracy: 0.6232 - val_loss: 0.4473 - val_accuracy: 0.6196\n",
      "Epoch 6/200\n",
      "83/83 [==============================] - 2s 27ms/step - loss: 0.4290 - accuracy: 0.6232 - val_loss: 0.4269 - val_accuracy: 0.6196\n",
      "Epoch 7/200\n",
      "83/83 [==============================] - 2s 27ms/step - loss: 0.4093 - accuracy: 0.6232 - val_loss: 0.4109 - val_accuracy: 0.6196\n",
      "Epoch 8/200\n",
      "83/83 [==============================] - 2s 28ms/step - loss: 0.3933 - accuracy: 0.6232 - val_loss: 0.3977 - val_accuracy: 0.6196\n",
      "Epoch 9/200\n",
      "83/83 [==============================] - 2s 30ms/step - loss: 0.3799 - accuracy: 0.6232 - val_loss: 0.3851 - val_accuracy: 0.6196\n",
      "Epoch 10/200\n",
      "83/83 [==============================] - 2s 27ms/step - loss: 0.3678 - accuracy: 0.6232 - val_loss: 0.3743 - val_accuracy: 0.6196\n",
      "Epoch 11/200\n",
      "83/83 [==============================] - 2s 28ms/step - loss: 0.3573 - accuracy: 0.6232 - val_loss: 0.3646 - val_accuracy: 0.6196\n",
      "Epoch 12/200\n",
      "83/83 [==============================] - 2s 29ms/step - loss: 0.3474 - accuracy: 0.6232 - val_loss: 0.3559 - val_accuracy: 0.6196\n",
      "Epoch 13/200\n",
      "83/83 [==============================] - 2s 28ms/step - loss: 0.3394 - accuracy: 0.6232 - val_loss: 0.3475 - val_accuracy: 0.6196\n",
      "Epoch 14/200\n",
      "83/83 [==============================] - 2s 28ms/step - loss: 0.3314 - accuracy: 0.6232 - val_loss: 0.3396 - val_accuracy: 0.6196\n",
      "Epoch 15/200\n",
      "83/83 [==============================] - 2s 29ms/step - loss: 0.3239 - accuracy: 0.6232 - val_loss: 0.3309 - val_accuracy: 0.6196\n",
      "Epoch 16/200\n",
      "83/83 [==============================] - 2s 29ms/step - loss: 0.3169 - accuracy: 0.6232 - val_loss: 0.3264 - val_accuracy: 0.6196\n",
      "Epoch 17/200\n",
      "83/83 [==============================] - 2s 28ms/step - loss: 0.3109 - accuracy: 0.6232 - val_loss: 0.3178 - val_accuracy: 0.6196\n",
      "Epoch 18/200\n",
      "83/83 [==============================] - 2s 29ms/step - loss: 0.3046 - accuracy: 0.6232 - val_loss: 0.3106 - val_accuracy: 0.6196\n",
      "Epoch 19/200\n",
      "83/83 [==============================] - 3s 31ms/step - loss: 0.2993 - accuracy: 0.6232 - val_loss: 0.3037 - val_accuracy: 0.6196\n",
      "Epoch 20/200\n",
      "83/83 [==============================] - 2s 27ms/step - loss: 0.2932 - accuracy: 0.6232 - val_loss: 0.3005 - val_accuracy: 0.6196\n",
      "Epoch 21/200\n",
      "83/83 [==============================] - 2s 27ms/step - loss: 0.2885 - accuracy: 0.6232 - val_loss: 0.2911 - val_accuracy: 0.6196\n",
      "Epoch 22/200\n",
      "83/83 [==============================] - 2s 27ms/step - loss: 0.2831 - accuracy: 0.6232 - val_loss: 0.2862 - val_accuracy: 0.6196\n",
      "Epoch 23/200\n",
      "83/83 [==============================] - 2s 27ms/step - loss: 0.2785 - accuracy: 0.6232 - val_loss: 0.2801 - val_accuracy: 0.6196\n",
      "Epoch 24/200\n",
      "83/83 [==============================] - 2s 27ms/step - loss: 0.2740 - accuracy: 0.6232 - val_loss: 0.2734 - val_accuracy: 0.6196\n",
      "Epoch 25/200\n",
      "83/83 [==============================] - 2s 27ms/step - loss: 0.2695 - accuracy: 0.6232 - val_loss: 0.2669 - val_accuracy: 0.6196\n",
      "Epoch 26/200\n",
      "83/83 [==============================] - 2s 26ms/step - loss: 0.2654 - accuracy: 0.6232 - val_loss: 0.2630 - val_accuracy: 0.6196\n",
      "Epoch 27/200\n",
      "83/83 [==============================] - 2s 26ms/step - loss: 0.2612 - accuracy: 0.6232 - val_loss: 0.2590 - val_accuracy: 0.6196\n",
      "Epoch 28/200\n",
      "83/83 [==============================] - 2s 29ms/step - loss: 0.2575 - accuracy: 0.6232 - val_loss: 0.2532 - val_accuracy: 0.6196\n",
      "Epoch 29/200\n",
      "83/83 [==============================] - 2s 27ms/step - loss: 0.2526 - accuracy: 0.6232 - val_loss: 0.2498 - val_accuracy: 0.6196\n",
      "Epoch 30/200\n",
      "83/83 [==============================] - 2s 26ms/step - loss: 0.2497 - accuracy: 0.6232 - val_loss: 0.2438 - val_accuracy: 0.6196\n",
      "Epoch 31/200\n",
      "83/83 [==============================] - 2s 30ms/step - loss: 0.2463 - accuracy: 0.6232 - val_loss: 0.2389 - val_accuracy: 0.6196\n",
      "Epoch 32/200\n",
      "83/83 [==============================] - 2s 27ms/step - loss: 0.2425 - accuracy: 0.6232 - val_loss: 0.2357 - val_accuracy: 0.6196\n",
      "Epoch 33/200\n",
      "83/83 [==============================] - 2s 26ms/step - loss: 0.2390 - accuracy: 0.6232 - val_loss: 0.2314 - val_accuracy: 0.6196\n",
      "Epoch 34/200\n",
      "83/83 [==============================] - 2s 29ms/step - loss: 0.2364 - accuracy: 0.6232 - val_loss: 0.2276 - val_accuracy: 0.6196\n",
      "Epoch 35/200\n",
      "83/83 [==============================] - 2s 27ms/step - loss: 0.2348 - accuracy: 0.6232 - val_loss: 0.2229 - val_accuracy: 0.6196\n",
      "Epoch 36/200\n",
      "83/83 [==============================] - 2s 26ms/step - loss: 0.2311 - accuracy: 0.6232 - val_loss: 0.2192 - val_accuracy: 0.6196\n",
      "Epoch 37/200\n",
      "83/83 [==============================] - 2s 26ms/step - loss: 0.2285 - accuracy: 0.6232 - val_loss: 0.2159 - val_accuracy: 0.6196\n",
      "Epoch 38/200\n",
      "83/83 [==============================] - 2s 27ms/step - loss: 0.2269 - accuracy: 0.6232 - val_loss: 0.2144 - val_accuracy: 0.6196\n",
      "Epoch 39/200\n",
      "83/83 [==============================] - 2s 29ms/step - loss: 0.2231 - accuracy: 0.6232 - val_loss: 0.2085 - val_accuracy: 0.6196\n",
      "Epoch 40/200\n",
      "83/83 [==============================] - 2s 27ms/step - loss: 0.2219 - accuracy: 0.6232 - val_loss: 0.2076 - val_accuracy: 0.6196\n",
      "Epoch 41/200\n",
      "83/83 [==============================] - 2s 28ms/step - loss: 0.2198 - accuracy: 0.6232 - val_loss: 0.2044 - val_accuracy: 0.6196\n",
      "Epoch 42/200\n",
      "83/83 [==============================] - 3s 30ms/step - loss: 0.2178 - accuracy: 0.6232 - val_loss: 0.2010 - val_accuracy: 0.6196\n",
      "Epoch 43/200\n",
      "83/83 [==============================] - 2s 28ms/step - loss: 0.2160 - accuracy: 0.6232 - val_loss: 0.2002 - val_accuracy: 0.6196\n",
      "Epoch 44/200\n",
      "83/83 [==============================] - 2s 28ms/step - loss: 0.2135 - accuracy: 0.6232 - val_loss: 0.1975 - val_accuracy: 0.6196\n",
      "Epoch 45/200\n",
      "83/83 [==============================] - 2s 27ms/step - loss: 0.2125 - accuracy: 0.6232 - val_loss: 0.1962 - val_accuracy: 0.6196\n",
      "Epoch 46/200\n",
      "83/83 [==============================] - 2s 28ms/step - loss: 0.2112 - accuracy: 0.6232 - val_loss: 0.1953 - val_accuracy: 0.6196\n",
      "Epoch 47/200\n",
      "83/83 [==============================] - 2s 28ms/step - loss: 0.2097 - accuracy: 0.6232 - val_loss: 0.1956 - val_accuracy: 0.6196\n",
      "Epoch 48/200\n",
      "83/83 [==============================] - 2s 27ms/step - loss: 0.2084 - accuracy: 0.6232 - val_loss: 0.1891 - val_accuracy: 0.6196\n",
      "Epoch 49/200\n",
      "83/83 [==============================] - 2s 26ms/step - loss: 0.2062 - accuracy: 0.6232 - val_loss: 0.1898 - val_accuracy: 0.6196\n",
      "Epoch 50/200\n",
      "83/83 [==============================] - 2s 29ms/step - loss: 0.2050 - accuracy: 0.6232 - val_loss: 0.1883 - val_accuracy: 0.6196\n",
      "Epoch 51/200\n",
      "83/83 [==============================] - 2s 27ms/step - loss: 0.2046 - accuracy: 0.6232 - val_loss: 0.1876 - val_accuracy: 0.6196\n",
      "Epoch 52/200\n",
      "83/83 [==============================] - 2s 28ms/step - loss: 0.2040 - accuracy: 0.6232 - val_loss: 0.1871 - val_accuracy: 0.6196\n",
      "Epoch 53/200\n",
      "83/83 [==============================] - 2s 27ms/step - loss: 0.2018 - accuracy: 0.6232 - val_loss: 0.1819 - val_accuracy: 0.6196\n",
      "Epoch 54/200\n",
      "83/83 [==============================] - 2s 27ms/step - loss: 0.2012 - accuracy: 0.6232 - val_loss: 0.1833 - val_accuracy: 0.6196\n",
      "Epoch 55/200\n",
      "83/83 [==============================] - 2s 27ms/step - loss: 0.2009 - accuracy: 0.6232 - val_loss: 0.1785 - val_accuracy: 0.6196\n",
      "Epoch 56/200\n",
      "83/83 [==============================] - 2s 28ms/step - loss: 0.2002 - accuracy: 0.6232 - val_loss: 0.1784 - val_accuracy: 0.6196\n",
      "Epoch 57/200\n",
      "83/83 [==============================] - 3s 30ms/step - loss: 0.1970 - accuracy: 0.6232 - val_loss: 0.1853 - val_accuracy: 0.6196\n",
      "Epoch 58/200\n",
      "83/83 [==============================] - 2s 28ms/step - loss: 0.1981 - accuracy: 0.6232 - val_loss: 0.1757 - val_accuracy: 0.6196\n",
      "Epoch 59/200\n",
      "83/83 [==============================] - 2s 27ms/step - loss: 0.1966 - accuracy: 0.6232 - val_loss: 0.1787 - val_accuracy: 0.6196\n",
      "Epoch 60/200\n",
      "83/83 [==============================] - 2s 26ms/step - loss: 0.1963 - accuracy: 0.6232 - val_loss: 0.1744 - val_accuracy: 0.6196\n",
      "Epoch 61/200\n",
      "83/83 [==============================] - 2s 27ms/step - loss: 0.1952 - accuracy: 0.6232 - val_loss: 0.1766 - val_accuracy: 0.6196\n",
      "Epoch 62/200\n",
      "83/83 [==============================] - 2s 28ms/step - loss: 0.1936 - accuracy: 0.6232 - val_loss: 0.1734 - val_accuracy: 0.6196\n",
      "Epoch 63/200\n",
      "83/83 [==============================] - 3s 30ms/step - loss: 0.1944 - accuracy: 0.6232 - val_loss: 0.1703 - val_accuracy: 0.6196\n",
      "Epoch 64/200\n",
      "83/83 [==============================] - 2s 27ms/step - loss: 0.1930 - accuracy: 0.6232 - val_loss: 0.1707 - val_accuracy: 0.6196\n",
      "Epoch 65/200\n",
      "83/83 [==============================] - 2s 27ms/step - loss: 0.1912 - accuracy: 0.6232 - val_loss: 0.1781 - val_accuracy: 0.6196\n",
      "Epoch 66/200\n",
      "83/83 [==============================] - 2s 27ms/step - loss: 0.1920 - accuracy: 0.6232 - val_loss: 0.1716 - val_accuracy: 0.6196\n",
      "Epoch 67/200\n",
      "83/83 [==============================] - 2s 28ms/step - loss: 0.1903 - accuracy: 0.6232 - val_loss: 0.1782 - val_accuracy: 0.6196\n",
      "Epoch 68/200\n",
      "83/83 [==============================] - 3s 32ms/step - loss: 0.1898 - accuracy: 0.6232 - val_loss: 0.1704 - val_accuracy: 0.6196\n",
      "Epoch 69/200\n",
      "83/83 [==============================] - 2s 27ms/step - loss: 0.1889 - accuracy: 0.6232 - val_loss: 0.1725 - val_accuracy: 0.6196\n",
      "Epoch 70/200\n",
      "83/83 [==============================] - 2s 28ms/step - loss: 0.1883 - accuracy: 0.6232 - val_loss: 0.1691 - val_accuracy: 0.6196\n",
      "Epoch 71/200\n",
      "83/83 [==============================] - 2s 28ms/step - loss: 0.1903 - accuracy: 0.6232 - val_loss: 0.1658 - val_accuracy: 0.6196\n",
      "Epoch 72/200\n",
      "83/83 [==============================] - 3s 30ms/step - loss: 0.1896 - accuracy: 0.6232 - val_loss: 0.1689 - val_accuracy: 0.6196\n",
      "Epoch 73/200\n",
      "83/83 [==============================] - 2s 28ms/step - loss: 0.1890 - accuracy: 0.6232 - val_loss: 0.1740 - val_accuracy: 0.6196\n",
      "Epoch 74/200\n",
      "83/83 [==============================] - 2s 28ms/step - loss: 0.1874 - accuracy: 0.6232 - val_loss: 0.1645 - val_accuracy: 0.6196\n",
      "Epoch 75/200\n",
      "83/83 [==============================] - 2s 26ms/step - loss: 0.1876 - accuracy: 0.6232 - val_loss: 0.1646 - val_accuracy: 0.6196\n",
      "Epoch 76/200\n",
      "83/83 [==============================] - 2s 29ms/step - loss: 0.1867 - accuracy: 0.6232 - val_loss: 0.1636 - val_accuracy: 0.6196\n",
      "Epoch 77/200\n",
      "83/83 [==============================] - 2s 27ms/step - loss: 0.1874 - accuracy: 0.6232 - val_loss: 0.1642 - val_accuracy: 0.6196\n",
      "Epoch 78/200\n",
      "83/83 [==============================] - 3s 31ms/step - loss: 0.1861 - accuracy: 0.6232 - val_loss: 0.1666 - val_accuracy: 0.6196\n",
      "Epoch 79/200\n",
      "83/83 [==============================] - 3s 31ms/step - loss: 0.1853 - accuracy: 0.6232 - val_loss: 0.1650 - val_accuracy: 0.6196\n",
      "Epoch 80/200\n",
      "83/83 [==============================] - 2s 28ms/step - loss: 0.1849 - accuracy: 0.6232 - val_loss: 0.1662 - val_accuracy: 0.6196\n",
      "Epoch 81/200\n",
      "83/83 [==============================] - 2s 27ms/step - loss: 0.1866 - accuracy: 0.6232 - val_loss: 0.1652 - val_accuracy: 0.6196\n",
      "Epoch 82/200\n",
      "83/83 [==============================] - 2s 28ms/step - loss: 0.1832 - accuracy: 0.6232 - val_loss: 0.1633 - val_accuracy: 0.6196\n",
      "Epoch 83/200\n",
      "83/83 [==============================] - 2s 28ms/step - loss: 0.1829 - accuracy: 0.6232 - val_loss: 0.1678 - val_accuracy: 0.6196\n",
      "Epoch 84/200\n",
      "83/83 [==============================] - 2s 29ms/step - loss: 0.1844 - accuracy: 0.6232 - val_loss: 0.1659 - val_accuracy: 0.6196\n",
      "Epoch 85/200\n",
      "83/83 [==============================] - 2s 27ms/step - loss: 0.1840 - accuracy: 0.6232 - val_loss: 0.1611 - val_accuracy: 0.6196\n",
      "Epoch 86/200\n",
      "83/83 [==============================] - 2s 28ms/step - loss: 0.1813 - accuracy: 0.6232 - val_loss: 0.1687 - val_accuracy: 0.6196\n",
      "Epoch 87/200\n",
      "83/83 [==============================] - 2s 27ms/step - loss: 0.1840 - accuracy: 0.6232 - val_loss: 0.1659 - val_accuracy: 0.6196\n",
      "Epoch 88/200\n",
      "83/83 [==============================] - 2s 30ms/step - loss: 0.1837 - accuracy: 0.6232 - val_loss: 0.1628 - val_accuracy: 0.6196\n",
      "Epoch 89/200\n",
      "83/83 [==============================] - 2s 30ms/step - loss: 0.1831 - accuracy: 0.6232 - val_loss: 0.1633 - val_accuracy: 0.6196\n",
      "Epoch 90/200\n",
      "83/83 [==============================] - 2s 27ms/step - loss: 0.1808 - accuracy: 0.6232 - val_loss: 0.1623 - val_accuracy: 0.6196\n",
      "Epoch 91/200\n",
      "83/83 [==============================] - 2s 28ms/step - loss: 0.1824 - accuracy: 0.6232 - val_loss: 0.1612 - val_accuracy: 0.6196\n",
      "Epoch 92/200\n",
      "83/83 [==============================] - 3s 31ms/step - loss: 0.1816 - accuracy: 0.6232 - val_loss: 0.1631 - val_accuracy: 0.6196\n",
      "Epoch 93/200\n",
      "83/83 [==============================] - 2s 27ms/step - loss: 0.1804 - accuracy: 0.6232 - val_loss: 0.1632 - val_accuracy: 0.6196\n",
      "Running time is 215.98 seconds per 200 epoches\n",
      "Test Accuracy: 0.641\n"
     ]
    },
    {
     "name": "stderr",
     "output_type": "stream",
     "text": [
      "/usr/local/lib/python3.7/dist-packages/tensorflow/python/data/ops/dataset_ops.py:3704: UserWarning: Even though the `tf.config.experimental_run_functions_eagerly` option is set, this option does not apply to tf.data functions. To force eager execution of tf.data functions, please use `tf.data.experimental.enable.debug_mode()`.\n",
      "  \"Even though the `tf.config.experimental_run_functions_eagerly` \"\n"
     ]
    }
   ],
   "source": [
    "history_cm2_y3=model_trainer_1(model_cm2, y3, X, 200, 10,es_cm2)"
   ]
  },
  {
   "cell_type": "code",
   "execution_count": 21,
   "metadata": {
    "colab": {
     "base_uri": "https://localhost:8080/",
     "height": 573
    },
    "id": "XwaJyYTHJ7aP",
    "outputId": "70ec6870-1c7e-41c9-f565-37acde416132"
   },
   "outputs": [
    {
     "data": {
      "image/png": "[encoded data removed]",
      "text/plain": [
       "<Figure size 432x288 with 1 Axes>"
      ]
     },
     "metadata": {
      "needs_background": "light",
      "tags": []
     },
     "output_type": "display_data"
    },
    {
     "data": {
      "image/png": "[encoded data removed]",
      "text/plain": [
       "<Figure size 432x288 with 1 Axes>"
      ]
     },
     "metadata": {
      "needs_background": "light",
      "tags": []
     },
     "output_type": "display_data"
    }
   ],
   "source": [
    "plot_metric(history_cm2_y3,'loss')\n",
    "plot_metric(history_cm2_y3,'accuracy')"
   ]
  },
  {
   "cell_type": "markdown",
   "metadata": {
    "id": "mwA9Tar1PCSX"
   },
   "source": [
    "\\pagebreak"
   ]
  },
  {
   "cell_type": "markdown",
   "metadata": {
    "id": "UdfPvNLdNAn0"
   },
   "source": [
    "# CM3"
   ]
  },
  {
   "cell_type": "markdown",
   "metadata": {
    "id": "MbPbXYBbNObS"
   },
   "source": [
    "For this question, we have tried using different models to find out the one that performs the best. The models that we have considered and compared  include a basic DNN architecture, 2 LSTM models and a RNN model. "
   ]
  },
  {
   "cell_type": "markdown",
   "metadata": {
    "id": "HI66hQieSeS_"
   },
   "source": [
    "### CM3 - (i) [2]"
   ]
  },
  {
   "cell_type": "markdown",
   "metadata": {
    "id": "MQk_hxHTF1to"
   },
   "source": [
    "Below is a neural network which has **7 hidden layers** with **64** and **128** units varying in each as can been seen from the code. The activation function used in all the hidden layers is **LeakyReLU activation** since it offers an improvement above the ReLU function. For the output layer, **sigmoid activation function** has been used. The optimizer which we have used is '**sgd**' which stands for Stochastic Gradient Descent. To prevent overfitting, the regularization method which we have used here is **early stopping** with a **delta value of 0.001**. The model stops training after we see no improvement in the validation loss for 4 epochs. The input layer uses 13 features to determine the output class label. Three separate models have been trained (**200 epochs and 40 batch size**) for the labels 'Confirmed', 'Recovered' and 'Deaths'. The performance of all the three models has been plotted using two graphs - \n",
    "<br> The training and validation loss by epochs\n",
    "<br> The training and validation accuracy by epochs"
   ]
  },
  {
   "cell_type": "code",
   "execution_count": 22,
   "metadata": {
    "id": "tBLuWUuGSjPz"
   },
   "outputs": [],
   "source": [
    "# Basic architecture of a NNet\n",
    "model_dnn = Sequential()\n",
    "model_dnn.add(Dense(64, activation='LeakyReLU', input_shape=(13,)))\n",
    "model_dnn.add(Dense(128, activation='LeakyReLU'))\n",
    "model_dnn.add(Dense(128, activation='LeakyReLU'))\n",
    "model_dnn.add(Dense(128, activation='LeakyReLU'))\n",
    "model_dnn.add(Dense(64, activation='LeakyReLU'))\n",
    "model_dnn.add(Dense(64, activation='LeakyReLU'))\n",
    "model_dnn.add(Dense(64, activation='LeakyReLU'))\n",
    "model_dnn.add(Dense(1, activation='sigmoid'))\n",
    "model_dnn.compile(loss='binary_crossentropy',\n",
    "              optimizer='sgd',\n",
    "              metrics=['accuracy'])\n",
    "                  "
   ]
  },
  {
   "cell_type": "code",
   "execution_count": 23,
   "metadata": {
    "id": "TsKNKrNXh367"
   },
   "outputs": [],
   "source": [
    "es_dnn= EarlyStopping(\n",
    "    monitor='val_loss', \n",
    "    patience=4, \n",
    "    min_delta=0.001, \n",
    "  \n",
    ")"
   ]
  },
  {
   "cell_type": "code",
   "execution_count": 24,
   "metadata": {
    "colab": {
     "base_uri": "https://localhost:8080/"
    },
    "id": "lXBz49Y0KZGk",
    "outputId": "78cc10a6-d232-44a8-d2f3-08374e41bb64"
   },
   "outputs": [
    {
     "name": "stdout",
     "output_type": "stream",
     "text": [
      "Epoch 1/200\n",
      " 3/21 [===>..........................] - ETA: 0s - loss: 0.7063 - accuracy: 0.4167"
     ]
    },
    {
     "name": "stderr",
     "output_type": "stream",
     "text": [
      "/usr/local/lib/python3.7/dist-packages/tensorflow/python/data/ops/dataset_ops.py:3704: UserWarning: Even though the `tf.config.experimental_run_functions_eagerly` option is set, this option does not apply to tf.data functions. To force eager execution of tf.data functions, please use `tf.data.experimental.enable.debug_mode()`.\n",
      "  \"Even though the `tf.config.experimental_run_functions_eagerly` \"\n",
      "/usr/local/lib/python3.7/dist-packages/tensorflow/python/data/ops/dataset_ops.py:3704: UserWarning: Even though the `tf.config.experimental_run_functions_eagerly` option is set, this option does not apply to tf.data functions. To force eager execution of tf.data functions, please use `tf.data.experimental.enable.debug_mode()`.\n",
      "  \"Even though the `tf.config.experimental_run_functions_eagerly` \"\n"
     ]
    },
    {
     "name": "stdout",
     "output_type": "stream",
     "text": [
      "21/21 [==============================] - 1s 40ms/step - loss: 0.6741 - accuracy: 0.7101 - val_loss: 0.5801 - val_accuracy: 0.9710\n",
      "Epoch 2/200\n",
      " 1/21 [>.............................] - ETA: 0s - loss: 0.5854 - accuracy: 0.9500"
     ]
    },
    {
     "name": "stderr",
     "output_type": "stream",
     "text": [
      "/usr/local/lib/python3.7/dist-packages/tensorflow/python/data/ops/dataset_ops.py:3704: UserWarning: Even though the `tf.config.experimental_run_functions_eagerly` option is set, this option does not apply to tf.data functions. To force eager execution of tf.data functions, please use `tf.data.experimental.enable.debug_mode()`.\n",
      "  \"Even though the `tf.config.experimental_run_functions_eagerly` \"\n"
     ]
    },
    {
     "name": "stdout",
     "output_type": "stream",
     "text": [
      "21/21 [==============================] - 1s 37ms/step - loss: 0.5611 - accuracy: 0.9499 - val_loss: 0.4745 - val_accuracy: 0.9710\n",
      "Epoch 3/200\n",
      "21/21 [==============================] - 1s 37ms/step - loss: 0.4646 - accuracy: 0.9547 - val_loss: 0.3825 - val_accuracy: 0.9710\n",
      "Epoch 4/200\n",
      "21/21 [==============================] - 1s 37ms/step - loss: 0.3804 - accuracy: 0.9565 - val_loss: 0.3039 - val_accuracy: 0.9710\n",
      "Epoch 5/200\n",
      "21/21 [==============================] - 1s 38ms/step - loss: 0.3082 - accuracy: 0.9585 - val_loss: 0.2421 - val_accuracy: 0.9710\n",
      "Epoch 6/200\n",
      "21/21 [==============================] - 1s 36ms/step - loss: 0.2507 - accuracy: 0.9615 - val_loss: 0.1991 - val_accuracy: 0.9710\n",
      "Epoch 7/200\n",
      "21/21 [==============================] - 1s 36ms/step - loss: 0.2337 - accuracy: 0.9516 - val_loss: 0.1712 - val_accuracy: 0.9710\n",
      "Epoch 8/200\n",
      "21/21 [==============================] - 1s 38ms/step - loss: 0.2107 - accuracy: 0.9537 - val_loss: 0.1544 - val_accuracy: 0.9710\n",
      "Epoch 9/200\n",
      "21/21 [==============================] - 1s 35ms/step - loss: 0.2077 - accuracy: 0.9496 - val_loss: 0.1437 - val_accuracy: 0.9710\n",
      "Epoch 10/200\n",
      "21/21 [==============================] - 1s 35ms/step - loss: 0.1649 - accuracy: 0.9648 - val_loss: 0.1373 - val_accuracy: 0.9710\n",
      "Epoch 11/200\n",
      "21/21 [==============================] - 1s 37ms/step - loss: 0.1845 - accuracy: 0.9556 - val_loss: 0.1327 - val_accuracy: 0.9710\n",
      "Epoch 12/200\n",
      "21/21 [==============================] - 1s 35ms/step - loss: 0.1836 - accuracy: 0.9548 - val_loss: 0.1297 - val_accuracy: 0.9710\n",
      "Epoch 13/200\n",
      "21/21 [==============================] - 1s 36ms/step - loss: 0.1451 - accuracy: 0.9674 - val_loss: 0.1277 - val_accuracy: 0.9710\n",
      "Epoch 14/200\n",
      "21/21 [==============================] - 1s 37ms/step - loss: 0.1757 - accuracy: 0.9565 - val_loss: 0.1258 - val_accuracy: 0.9710\n",
      "Epoch 15/200\n",
      "21/21 [==============================] - 1s 37ms/step - loss: 0.1873 - accuracy: 0.9517 - val_loss: 0.1244 - val_accuracy: 0.9710\n",
      "Epoch 16/200\n",
      "21/21 [==============================] - 1s 35ms/step - loss: 0.1682 - accuracy: 0.9581 - val_loss: 0.1231 - val_accuracy: 0.9710\n",
      "Epoch 17/200\n",
      "21/21 [==============================] - 1s 36ms/step - loss: 0.1783 - accuracy: 0.9534 - val_loss: 0.1222 - val_accuracy: 0.9710\n",
      "Epoch 18/200\n",
      "21/21 [==============================] - 1s 36ms/step - loss: 0.1268 - accuracy: 0.9708 - val_loss: 0.1218 - val_accuracy: 0.9710\n",
      "Epoch 19/200\n",
      "21/21 [==============================] - 1s 38ms/step - loss: 0.1654 - accuracy: 0.9562 - val_loss: 0.1209 - val_accuracy: 0.9710\n",
      "Epoch 20/200\n",
      "21/21 [==============================] - 1s 36ms/step - loss: 0.1846 - accuracy: 0.9496 - val_loss: 0.1202 - val_accuracy: 0.9710\n",
      "Epoch 21/200\n",
      "21/21 [==============================] - 1s 37ms/step - loss: 0.1540 - accuracy: 0.9599 - val_loss: 0.1198 - val_accuracy: 0.9710\n",
      "Epoch 22/200\n",
      "21/21 [==============================] - 1s 35ms/step - loss: 0.1694 - accuracy: 0.9529 - val_loss: 0.1193 - val_accuracy: 0.9710\n",
      "Epoch 23/200\n",
      "21/21 [==============================] - 1s 38ms/step - loss: 0.1472 - accuracy: 0.9612 - val_loss: 0.1189 - val_accuracy: 0.9710\n",
      "Epoch 24/200\n",
      "21/21 [==============================] - 1s 37ms/step - loss: 0.1668 - accuracy: 0.9551 - val_loss: 0.1184 - val_accuracy: 0.9710\n",
      "Epoch 25/200\n",
      "21/21 [==============================] - 1s 36ms/step - loss: 0.1655 - accuracy: 0.9542 - val_loss: 0.1180 - val_accuracy: 0.9710\n",
      "Epoch 26/200\n",
      "21/21 [==============================] - 1s 36ms/step - loss: 0.1448 - accuracy: 0.9612 - val_loss: 0.1181 - val_accuracy: 0.9710\n",
      "Epoch 27/200\n",
      "21/21 [==============================] - 1s 38ms/step - loss: 0.1603 - accuracy: 0.9534 - val_loss: 0.1176 - val_accuracy: 0.9710\n",
      "Epoch 28/200\n",
      "21/21 [==============================] - 1s 38ms/step - loss: 0.1679 - accuracy: 0.9544 - val_loss: 0.1173 - val_accuracy: 0.9710\n",
      "Epoch 29/200\n",
      "21/21 [==============================] - 1s 37ms/step - loss: 0.1651 - accuracy: 0.9526 - val_loss: 0.1170 - val_accuracy: 0.9710\n",
      "Epoch 30/200\n",
      "21/21 [==============================] - 1s 36ms/step - loss: 0.1383 - accuracy: 0.9620 - val_loss: 0.1169 - val_accuracy: 0.9710\n",
      "Epoch 31/200\n",
      "21/21 [==============================] - 1s 36ms/step - loss: 0.1669 - accuracy: 0.9529 - val_loss: 0.1167 - val_accuracy: 0.9710\n",
      "Running time is 23.95 seconds per 200 epoches\n",
      "Test Accuracy: 0.971\n"
     ]
    },
    {
     "name": "stderr",
     "output_type": "stream",
     "text": [
      "/usr/local/lib/python3.7/dist-packages/tensorflow/python/data/ops/dataset_ops.py:3704: UserWarning: Even though the `tf.config.experimental_run_functions_eagerly` option is set, this option does not apply to tf.data functions. To force eager execution of tf.data functions, please use `tf.data.experimental.enable.debug_mode()`.\n",
      "  \"Even though the `tf.config.experimental_run_functions_eagerly` \"\n"
     ]
    }
   ],
   "source": [
    "history_dnn_y1=model_trainer_1(model_dnn, y1, X, 200, 40,es_dnn)"
   ]
  },
  {
   "cell_type": "code",
   "execution_count": 25,
   "metadata": {
    "colab": {
     "base_uri": "https://localhost:8080/",
     "height": 573
    },
    "id": "zZDLDnjKhGci",
    "outputId": "faee9d20-b7b7-4b37-f227-dd325b65b71e"
   },
   "outputs": [
    {
     "data": {
      "image/png": "[encoded data removed]",
      "text/plain": [
       "<Figure size 432x288 with 1 Axes>"
      ]
     },
     "metadata": {
      "needs_background": "light",
      "tags": []
     },
     "output_type": "display_data"
    },
    {
     "data": {
      "image/png": "[encoded data removed]",
      "text/plain": [
       "<Figure size 432x288 with 1 Axes>"
      ]
     },
     "metadata": {
      "needs_background": "light",
      "tags": []
     },
     "output_type": "display_data"
    }
   ],
   "source": [
    "plot_metric(history_dnn_y1,'loss')\n",
    "plot_metric(history_dnn_y1,'accuracy')"
   ]
  },
  {
   "cell_type": "code",
   "execution_count": 26,
   "metadata": {
    "colab": {
     "base_uri": "https://localhost:8080/"
    },
    "id": "RBMIOzZQhRH4",
    "outputId": "5acf64e5-b10c-4b2c-eddf-77739c3a7eba"
   },
   "outputs": [
    {
     "name": "stdout",
     "output_type": "stream",
     "text": [
      "Epoch 1/200\n",
      " 3/21 [===>..........................] - ETA: 0s - loss: 0.3961 - accuracy: 0.8917"
     ]
    },
    {
     "name": "stderr",
     "output_type": "stream",
     "text": [
      "/usr/local/lib/python3.7/dist-packages/tensorflow/python/data/ops/dataset_ops.py:3704: UserWarning: Even though the `tf.config.experimental_run_functions_eagerly` option is set, this option does not apply to tf.data functions. To force eager execution of tf.data functions, please use `tf.data.experimental.enable.debug_mode()`.\n",
      "  \"Even though the `tf.config.experimental_run_functions_eagerly` \"\n",
      "/usr/local/lib/python3.7/dist-packages/tensorflow/python/data/ops/dataset_ops.py:3704: UserWarning: Even though the `tf.config.experimental_run_functions_eagerly` option is set, this option does not apply to tf.data functions. To force eager execution of tf.data functions, please use `tf.data.experimental.enable.debug_mode()`.\n",
      "  \"Even though the `tf.config.experimental_run_functions_eagerly` \"\n"
     ]
    },
    {
     "name": "stdout",
     "output_type": "stream",
     "text": [
      "21/21 [==============================] - 1s 39ms/step - loss: 0.3744 - accuracy: 0.9010 - val_loss: 0.3728 - val_accuracy: 0.8986\n",
      "Epoch 2/200\n",
      " 1/21 [>.............................] - ETA: 0s - loss: 0.3727 - accuracy: 0.8750"
     ]
    },
    {
     "name": "stderr",
     "output_type": "stream",
     "text": [
      "/usr/local/lib/python3.7/dist-packages/tensorflow/python/data/ops/dataset_ops.py:3704: UserWarning: Even though the `tf.config.experimental_run_functions_eagerly` option is set, this option does not apply to tf.data functions. To force eager execution of tf.data functions, please use `tf.data.experimental.enable.debug_mode()`.\n",
      "  \"Even though the `tf.config.experimental_run_functions_eagerly` \"\n"
     ]
    },
    {
     "name": "stdout",
     "output_type": "stream",
     "text": [
      "21/21 [==============================] - 1s 35ms/step - loss: 0.3393 - accuracy: 0.9010 - val_loss: 0.3467 - val_accuracy: 0.8986\n",
      "Epoch 3/200\n",
      "21/21 [==============================] - 1s 36ms/step - loss: 0.3237 - accuracy: 0.9010 - val_loss: 0.3324 - val_accuracy: 0.8986\n",
      "Epoch 4/200\n",
      "21/21 [==============================] - 1s 36ms/step - loss: 0.3147 - accuracy: 0.9010 - val_loss: 0.3235 - val_accuracy: 0.8986\n",
      "Epoch 5/200\n",
      "21/21 [==============================] - 1s 35ms/step - loss: 0.3089 - accuracy: 0.9010 - val_loss: 0.3171 - val_accuracy: 0.8986\n",
      "Epoch 6/200\n",
      "21/21 [==============================] - 1s 35ms/step - loss: 0.3044 - accuracy: 0.9010 - val_loss: 0.3115 - val_accuracy: 0.8986\n",
      "Epoch 7/200\n",
      "21/21 [==============================] - 1s 36ms/step - loss: 0.3007 - accuracy: 0.9010 - val_loss: 0.3069 - val_accuracy: 0.8986\n",
      "Epoch 8/200\n",
      "21/21 [==============================] - 1s 36ms/step - loss: 0.2970 - accuracy: 0.9010 - val_loss: 0.3030 - val_accuracy: 0.8986\n",
      "Epoch 9/200\n",
      "21/21 [==============================] - 1s 35ms/step - loss: 0.2944 - accuracy: 0.9010 - val_loss: 0.2995 - val_accuracy: 0.8986\n",
      "Epoch 10/200\n",
      "21/21 [==============================] - 1s 33ms/step - loss: 0.2916 - accuracy: 0.9010 - val_loss: 0.2964 - val_accuracy: 0.8986\n",
      "Epoch 11/200\n",
      "21/21 [==============================] - 1s 36ms/step - loss: 0.2892 - accuracy: 0.9010 - val_loss: 0.2936 - val_accuracy: 0.8986\n",
      "Epoch 12/200\n",
      "21/21 [==============================] - 1s 37ms/step - loss: 0.2870 - accuracy: 0.9010 - val_loss: 0.2911 - val_accuracy: 0.8986\n",
      "Epoch 13/200\n",
      "21/21 [==============================] - 1s 36ms/step - loss: 0.2852 - accuracy: 0.9010 - val_loss: 0.2885 - val_accuracy: 0.8986\n",
      "Epoch 14/200\n",
      "21/21 [==============================] - 1s 34ms/step - loss: 0.2832 - accuracy: 0.9010 - val_loss: 0.2864 - val_accuracy: 0.8986\n",
      "Epoch 15/200\n",
      "21/21 [==============================] - 1s 34ms/step - loss: 0.2814 - accuracy: 0.9010 - val_loss: 0.2842 - val_accuracy: 0.8986\n",
      "Epoch 16/200\n",
      "21/21 [==============================] - 1s 37ms/step - loss: 0.2797 - accuracy: 0.9010 - val_loss: 0.2821 - val_accuracy: 0.8986\n",
      "Epoch 17/200\n",
      "21/21 [==============================] - 1s 35ms/step - loss: 0.2780 - accuracy: 0.9010 - val_loss: 0.2801 - val_accuracy: 0.8986\n",
      "Epoch 18/200\n",
      "21/21 [==============================] - 1s 34ms/step - loss: 0.2763 - accuracy: 0.9010 - val_loss: 0.2781 - val_accuracy: 0.8986\n",
      "Epoch 19/200\n",
      "21/21 [==============================] - 1s 38ms/step - loss: 0.2747 - accuracy: 0.9010 - val_loss: 0.2763 - val_accuracy: 0.8986\n",
      "Epoch 20/200\n",
      "21/21 [==============================] - 1s 45ms/step - loss: 0.2730 - accuracy: 0.9010 - val_loss: 0.2744 - val_accuracy: 0.8986\n",
      "Epoch 21/200\n",
      "21/21 [==============================] - 1s 38ms/step - loss: 0.2714 - accuracy: 0.9010 - val_loss: 0.2729 - val_accuracy: 0.8986\n",
      "Epoch 22/200\n",
      "21/21 [==============================] - 1s 36ms/step - loss: 0.2700 - accuracy: 0.9010 - val_loss: 0.2715 - val_accuracy: 0.8986\n",
      "Epoch 23/200\n",
      "21/21 [==============================] - 1s 35ms/step - loss: 0.2686 - accuracy: 0.9010 - val_loss: 0.2702 - val_accuracy: 0.8986\n",
      "Epoch 24/200\n",
      "21/21 [==============================] - 1s 36ms/step - loss: 0.2673 - accuracy: 0.9010 - val_loss: 0.2687 - val_accuracy: 0.8986\n",
      "Epoch 25/200\n",
      "21/21 [==============================] - 1s 35ms/step - loss: 0.2660 - accuracy: 0.9010 - val_loss: 0.2673 - val_accuracy: 0.8986\n",
      "Epoch 26/200\n",
      "21/21 [==============================] - 1s 37ms/step - loss: 0.2646 - accuracy: 0.9010 - val_loss: 0.2659 - val_accuracy: 0.8986\n",
      "Epoch 27/200\n",
      "21/21 [==============================] - 1s 35ms/step - loss: 0.2632 - accuracy: 0.9010 - val_loss: 0.2650 - val_accuracy: 0.8986\n",
      "Epoch 28/200\n",
      "21/21 [==============================] - 1s 36ms/step - loss: 0.2621 - accuracy: 0.9010 - val_loss: 0.2640 - val_accuracy: 0.8986\n",
      "Epoch 29/200\n",
      "21/21 [==============================] - 1s 35ms/step - loss: 0.2609 - accuracy: 0.9010 - val_loss: 0.2626 - val_accuracy: 0.8986\n",
      "Epoch 30/200\n",
      "21/21 [==============================] - 1s 36ms/step - loss: 0.2594 - accuracy: 0.9010 - val_loss: 0.2616 - val_accuracy: 0.8986\n",
      "Epoch 31/200\n",
      "21/21 [==============================] - 1s 33ms/step - loss: 0.2583 - accuracy: 0.9010 - val_loss: 0.2605 - val_accuracy: 0.8986\n",
      "Epoch 32/200\n",
      "21/21 [==============================] - 1s 36ms/step - loss: 0.2570 - accuracy: 0.9010 - val_loss: 0.2594 - val_accuracy: 0.8986\n",
      "Epoch 33/200\n",
      "21/21 [==============================] - 1s 35ms/step - loss: 0.2560 - accuracy: 0.9010 - val_loss: 0.2584 - val_accuracy: 0.8986\n",
      "Epoch 34/200\n",
      "21/21 [==============================] - 1s 37ms/step - loss: 0.2550 - accuracy: 0.9010 - val_loss: 0.2573 - val_accuracy: 0.8986\n",
      "Epoch 35/200\n",
      "21/21 [==============================] - 1s 35ms/step - loss: 0.2537 - accuracy: 0.9010 - val_loss: 0.2565 - val_accuracy: 0.8986\n",
      "Epoch 36/200\n",
      "21/21 [==============================] - 1s 36ms/step - loss: 0.2527 - accuracy: 0.9010 - val_loss: 0.2558 - val_accuracy: 0.8986\n",
      "Epoch 37/200\n",
      "21/21 [==============================] - 1s 37ms/step - loss: 0.2513 - accuracy: 0.9010 - val_loss: 0.2557 - val_accuracy: 0.8986\n",
      "Epoch 38/200\n",
      "21/21 [==============================] - 1s 34ms/step - loss: 0.2507 - accuracy: 0.9010 - val_loss: 0.2549 - val_accuracy: 0.8986\n",
      "Epoch 39/200\n",
      "21/21 [==============================] - 1s 35ms/step - loss: 0.2495 - accuracy: 0.9010 - val_loss: 0.2541 - val_accuracy: 0.8986\n",
      "Epoch 40/200\n",
      "21/21 [==============================] - 1s 36ms/step - loss: 0.2485 - accuracy: 0.9010 - val_loss: 0.2536 - val_accuracy: 0.8986\n",
      "Epoch 41/200\n",
      "21/21 [==============================] - 1s 36ms/step - loss: 0.2475 - accuracy: 0.9010 - val_loss: 0.2533 - val_accuracy: 0.8986\n",
      "Epoch 42/200\n",
      "21/21 [==============================] - 1s 36ms/step - loss: 0.2465 - accuracy: 0.9010 - val_loss: 0.2523 - val_accuracy: 0.8986\n",
      "Epoch 43/200\n",
      "21/21 [==============================] - 1s 36ms/step - loss: 0.2456 - accuracy: 0.9010 - val_loss: 0.2520 - val_accuracy: 0.8986\n",
      "Epoch 44/200\n",
      "21/21 [==============================] - 1s 35ms/step - loss: 0.2444 - accuracy: 0.9010 - val_loss: 0.2512 - val_accuracy: 0.8986\n",
      "Epoch 45/200\n",
      "21/21 [==============================] - 1s 35ms/step - loss: 0.2437 - accuracy: 0.9010 - val_loss: 0.2509 - val_accuracy: 0.8986\n",
      "Epoch 46/200\n",
      "21/21 [==============================] - 1s 34ms/step - loss: 0.2425 - accuracy: 0.9010 - val_loss: 0.2513 - val_accuracy: 0.8986\n",
      "Epoch 47/200\n",
      "21/21 [==============================] - 1s 36ms/step - loss: 0.2418 - accuracy: 0.9010 - val_loss: 0.2502 - val_accuracy: 0.8986\n",
      "Epoch 48/200\n",
      "21/21 [==============================] - 1s 39ms/step - loss: 0.2408 - accuracy: 0.9010 - val_loss: 0.2497 - val_accuracy: 0.8986\n",
      "Epoch 49/200\n",
      "21/21 [==============================] - 1s 36ms/step - loss: 0.2400 - accuracy: 0.9010 - val_loss: 0.2498 - val_accuracy: 0.8986\n",
      "Epoch 50/200\n",
      "21/21 [==============================] - 1s 36ms/step - loss: 0.2392 - accuracy: 0.9010 - val_loss: 0.2491 - val_accuracy: 0.8986\n",
      "Epoch 51/200\n",
      "21/21 [==============================] - 1s 37ms/step - loss: 0.2386 - accuracy: 0.9010 - val_loss: 0.2488 - val_accuracy: 0.8986\n",
      "Epoch 52/200\n",
      "21/21 [==============================] - 1s 36ms/step - loss: 0.2376 - accuracy: 0.9010 - val_loss: 0.2484 - val_accuracy: 0.8986\n",
      "Epoch 53/200\n",
      "21/21 [==============================] - 1s 37ms/step - loss: 0.2369 - accuracy: 0.9010 - val_loss: 0.2489 - val_accuracy: 0.8986\n",
      "Epoch 54/200\n",
      "21/21 [==============================] - 1s 38ms/step - loss: 0.2360 - accuracy: 0.9010 - val_loss: 0.2489 - val_accuracy: 0.8986\n",
      "Running time is 40.79 seconds per 200 epoches\n",
      "Test Accuracy: 0.906\n"
     ]
    },
    {
     "name": "stderr",
     "output_type": "stream",
     "text": [
      "/usr/local/lib/python3.7/dist-packages/tensorflow/python/data/ops/dataset_ops.py:3704: UserWarning: Even though the `tf.config.experimental_run_functions_eagerly` option is set, this option does not apply to tf.data functions. To force eager execution of tf.data functions, please use `tf.data.experimental.enable.debug_mode()`.\n",
      "  \"Even though the `tf.config.experimental_run_functions_eagerly` \"\n"
     ]
    }
   ],
   "source": [
    "history_dnn_y2=model_trainer_1(model_dnn, y2, X, 200, 40,es_dnn)"
   ]
  },
  {
   "cell_type": "code",
   "execution_count": 27,
   "metadata": {
    "colab": {
     "base_uri": "https://localhost:8080/",
     "height": 573
    },
    "id": "tElbKkhkitpV",
    "outputId": "88336325-9e31-4538-e40a-7217db916b75"
   },
   "outputs": [
    {
     "data": {
      "image/png": "[encoded data removed]",
      "text/plain": [
       "<Figure size 432x288 with 1 Axes>"
      ]
     },
     "metadata": {
      "needs_background": "light",
      "tags": []
     },
     "output_type": "display_data"
    },
    {
     "data": {
      "image/png": "[encoded data removed]",
      "text/plain": [
       "<Figure size 432x288 with 1 Axes>"
      ]
     },
     "metadata": {
      "needs_background": "light",
      "tags": []
     },
     "output_type": "display_data"
    }
   ],
   "source": [
    "plot_metric(history_dnn_y2,'loss')\n",
    "plot_metric(history_dnn_y2,'accuracy')"
   ]
  },
  {
   "cell_type": "code",
   "execution_count": 28,
   "metadata": {
    "colab": {
     "base_uri": "https://localhost:8080/"
    },
    "id": "gEi-nsRHi1_g",
    "outputId": "ecfa2238-f3d9-4e13-d352-67dfa6f7a40b"
   },
   "outputs": [
    {
     "name": "stdout",
     "output_type": "stream",
     "text": [
      "Epoch 1/200\n",
      " 3/21 [===>..........................] - ETA: 0s - loss: 1.5531 - accuracy: 0.5833"
     ]
    },
    {
     "name": "stderr",
     "output_type": "stream",
     "text": [
      "/usr/local/lib/python3.7/dist-packages/tensorflow/python/data/ops/dataset_ops.py:3704: UserWarning: Even though the `tf.config.experimental_run_functions_eagerly` option is set, this option does not apply to tf.data functions. To force eager execution of tf.data functions, please use `tf.data.experimental.enable.debug_mode()`.\n",
      "  \"Even though the `tf.config.experimental_run_functions_eagerly` \"\n",
      "/usr/local/lib/python3.7/dist-packages/tensorflow/python/data/ops/dataset_ops.py:3704: UserWarning: Even though the `tf.config.experimental_run_functions_eagerly` option is set, this option does not apply to tf.data functions. To force eager execution of tf.data functions, please use `tf.data.experimental.enable.debug_mode()`.\n",
      "  \"Even though the `tf.config.experimental_run_functions_eagerly` \"\n"
     ]
    },
    {
     "name": "stdout",
     "output_type": "stream",
     "text": [
      "21/21 [==============================] - 1s 40ms/step - loss: 0.9241 - accuracy: 0.6280 - val_loss: 0.6806 - val_accuracy: 0.6594\n",
      "Epoch 2/200\n",
      " 1/21 [>.............................] - ETA: 0s - loss: 0.5940 - accuracy: 0.7000"
     ]
    },
    {
     "name": "stderr",
     "output_type": "stream",
     "text": [
      "/usr/local/lib/python3.7/dist-packages/tensorflow/python/data/ops/dataset_ops.py:3704: UserWarning: Even though the `tf.config.experimental_run_functions_eagerly` option is set, this option does not apply to tf.data functions. To force eager execution of tf.data functions, please use `tf.data.experimental.enable.debug_mode()`.\n",
      "  \"Even though the `tf.config.experimental_run_functions_eagerly` \"\n"
     ]
    },
    {
     "name": "stdout",
     "output_type": "stream",
     "text": [
      "21/21 [==============================] - 1s 38ms/step - loss: 0.6384 - accuracy: 0.6655 - val_loss: 0.6153 - val_accuracy: 0.7065\n",
      "Epoch 3/200\n",
      "21/21 [==============================] - 1s 37ms/step - loss: 0.5922 - accuracy: 0.6848 - val_loss: 0.5832 - val_accuracy: 0.7029\n",
      "Epoch 4/200\n",
      "21/21 [==============================] - 1s 37ms/step - loss: 0.5609 - accuracy: 0.7017 - val_loss: 0.5559 - val_accuracy: 0.6993\n",
      "Epoch 5/200\n",
      "21/21 [==============================] - 1s 35ms/step - loss: 0.5333 - accuracy: 0.7246 - val_loss: 0.5316 - val_accuracy: 0.7065\n",
      "Epoch 6/200\n",
      "21/21 [==============================] - 1s 37ms/step - loss: 0.5091 - accuracy: 0.7464 - val_loss: 0.5094 - val_accuracy: 0.7210\n",
      "Epoch 7/200\n",
      "21/21 [==============================] - 1s 36ms/step - loss: 0.4861 - accuracy: 0.7585 - val_loss: 0.4895 - val_accuracy: 0.7319\n",
      "Epoch 8/200\n",
      "21/21 [==============================] - 1s 38ms/step - loss: 0.4661 - accuracy: 0.7766 - val_loss: 0.4706 - val_accuracy: 0.7391\n",
      "Epoch 9/200\n",
      "21/21 [==============================] - 1s 35ms/step - loss: 0.4471 - accuracy: 0.7838 - val_loss: 0.4543 - val_accuracy: 0.7500\n",
      "Epoch 10/200\n",
      "21/21 [==============================] - 1s 36ms/step - loss: 0.4318 - accuracy: 0.7886 - val_loss: 0.4442 - val_accuracy: 0.8116\n",
      "Epoch 11/200\n",
      "21/21 [==============================] - 1s 37ms/step - loss: 0.4190 - accuracy: 0.8092 - val_loss: 0.4318 - val_accuracy: 0.7899\n",
      "Epoch 12/200\n",
      "21/21 [==============================] - 1s 37ms/step - loss: 0.4075 - accuracy: 0.8152 - val_loss: 0.4194 - val_accuracy: 0.7971\n",
      "Epoch 13/200\n",
      "21/21 [==============================] - 1s 36ms/step - loss: 0.3970 - accuracy: 0.8164 - val_loss: 0.4084 - val_accuracy: 0.8333\n",
      "Epoch 14/200\n",
      "21/21 [==============================] - 1s 36ms/step - loss: 0.3872 - accuracy: 0.8273 - val_loss: 0.3998 - val_accuracy: 0.8406\n",
      "Epoch 15/200\n",
      "21/21 [==============================] - 1s 38ms/step - loss: 0.3769 - accuracy: 0.8321 - val_loss: 0.3917 - val_accuracy: 0.8297\n",
      "Epoch 16/200\n",
      "21/21 [==============================] - 1s 35ms/step - loss: 0.3682 - accuracy: 0.8309 - val_loss: 0.3775 - val_accuracy: 0.8406\n",
      "Epoch 17/200\n",
      "21/21 [==============================] - 1s 35ms/step - loss: 0.3597 - accuracy: 0.8370 - val_loss: 0.3710 - val_accuracy: 0.8478\n",
      "Epoch 18/200\n",
      "21/21 [==============================] - 1s 35ms/step - loss: 0.3509 - accuracy: 0.8370 - val_loss: 0.3619 - val_accuracy: 0.8478\n",
      "Epoch 19/200\n",
      "21/21 [==============================] - 1s 37ms/step - loss: 0.3421 - accuracy: 0.8527 - val_loss: 0.3583 - val_accuracy: 0.8478\n",
      "Epoch 20/200\n",
      "21/21 [==============================] - 1s 39ms/step - loss: 0.3343 - accuracy: 0.8599 - val_loss: 0.3419 - val_accuracy: 0.8587\n",
      "Epoch 21/200\n",
      "21/21 [==============================] - 1s 36ms/step - loss: 0.3252 - accuracy: 0.8720 - val_loss: 0.3333 - val_accuracy: 0.8551\n",
      "Epoch 22/200\n",
      "21/21 [==============================] - 1s 37ms/step - loss: 0.3164 - accuracy: 0.8792 - val_loss: 0.3292 - val_accuracy: 0.8623\n",
      "Epoch 23/200\n",
      "21/21 [==============================] - 1s 35ms/step - loss: 0.3079 - accuracy: 0.8768 - val_loss: 0.3177 - val_accuracy: 0.8768\n",
      "Epoch 24/200\n",
      "21/21 [==============================] - 1s 36ms/step - loss: 0.3019 - accuracy: 0.8877 - val_loss: 0.3091 - val_accuracy: 0.8841\n",
      "Epoch 25/200\n",
      "21/21 [==============================] - 1s 35ms/step - loss: 0.2934 - accuracy: 0.8889 - val_loss: 0.3009 - val_accuracy: 0.8877\n",
      "Epoch 26/200\n",
      "21/21 [==============================] - 1s 36ms/step - loss: 0.2885 - accuracy: 0.8865 - val_loss: 0.2977 - val_accuracy: 0.9058\n",
      "Epoch 27/200\n",
      "21/21 [==============================] - 1s 36ms/step - loss: 0.2811 - accuracy: 0.8937 - val_loss: 0.2881 - val_accuracy: 0.8877\n",
      "Epoch 28/200\n",
      "21/21 [==============================] - 1s 36ms/step - loss: 0.2745 - accuracy: 0.8949 - val_loss: 0.3109 - val_accuracy: 0.8406\n",
      "Epoch 29/200\n",
      "21/21 [==============================] - 1s 36ms/step - loss: 0.2709 - accuracy: 0.8925 - val_loss: 0.2749 - val_accuracy: 0.9058\n",
      "Epoch 30/200\n",
      "21/21 [==============================] - 1s 36ms/step - loss: 0.2658 - accuracy: 0.8937 - val_loss: 0.2693 - val_accuracy: 0.9130\n",
      "Epoch 31/200\n",
      "21/21 [==============================] - 1s 36ms/step - loss: 0.2581 - accuracy: 0.9034 - val_loss: 0.2628 - val_accuracy: 0.9167\n",
      "Epoch 32/200\n",
      "21/21 [==============================] - 1s 37ms/step - loss: 0.2537 - accuracy: 0.8998 - val_loss: 0.2551 - val_accuracy: 0.9167\n",
      "Epoch 33/200\n",
      "21/21 [==============================] - 1s 37ms/step - loss: 0.2514 - accuracy: 0.9058 - val_loss: 0.2576 - val_accuracy: 0.9058\n",
      "Epoch 34/200\n",
      "21/21 [==============================] - 1s 36ms/step - loss: 0.2491 - accuracy: 0.9034 - val_loss: 0.2511 - val_accuracy: 0.9130\n",
      "Epoch 35/200\n",
      "21/21 [==============================] - 1s 35ms/step - loss: 0.2466 - accuracy: 0.9022 - val_loss: 0.2594 - val_accuracy: 0.8804\n",
      "Epoch 36/200\n",
      "21/21 [==============================] - 1s 38ms/step - loss: 0.2400 - accuracy: 0.9034 - val_loss: 0.2394 - val_accuracy: 0.9058\n",
      "Epoch 37/200\n",
      "21/21 [==============================] - 1s 37ms/step - loss: 0.2442 - accuracy: 0.8986 - val_loss: 0.2300 - val_accuracy: 0.9239\n",
      "Epoch 38/200\n",
      "21/21 [==============================] - 1s 36ms/step - loss: 0.2350 - accuracy: 0.9058 - val_loss: 0.2277 - val_accuracy: 0.9167\n",
      "Epoch 39/200\n",
      "21/21 [==============================] - 1s 39ms/step - loss: 0.2325 - accuracy: 0.9082 - val_loss: 0.2329 - val_accuracy: 0.8913\n",
      "Epoch 40/200\n",
      "21/21 [==============================] - 1s 39ms/step - loss: 0.2304 - accuracy: 0.9143 - val_loss: 0.2164 - val_accuracy: 0.9384\n",
      "Epoch 41/200\n",
      "21/21 [==============================] - 1s 39ms/step - loss: 0.2269 - accuracy: 0.9191 - val_loss: 0.2240 - val_accuracy: 0.9275\n",
      "Epoch 42/200\n",
      "21/21 [==============================] - 1s 37ms/step - loss: 0.2341 - accuracy: 0.9167 - val_loss: 0.2194 - val_accuracy: 0.9348\n",
      "Epoch 43/200\n",
      "21/21 [==============================] - 1s 36ms/step - loss: 0.2276 - accuracy: 0.9118 - val_loss: 0.2053 - val_accuracy: 0.9420\n",
      "Epoch 44/200\n",
      "21/21 [==============================] - 1s 37ms/step - loss: 0.2209 - accuracy: 0.9167 - val_loss: 0.2161 - val_accuracy: 0.9348\n",
      "Epoch 45/200\n",
      "21/21 [==============================] - 1s 37ms/step - loss: 0.2171 - accuracy: 0.9143 - val_loss: 0.1952 - val_accuracy: 0.9601\n",
      "Epoch 46/200\n",
      "21/21 [==============================] - 1s 35ms/step - loss: 0.2184 - accuracy: 0.9191 - val_loss: 0.2111 - val_accuracy: 0.9420\n",
      "Epoch 47/200\n",
      "21/21 [==============================] - 1s 37ms/step - loss: 0.2125 - accuracy: 0.9203 - val_loss: 0.2112 - val_accuracy: 0.9130\n",
      "Epoch 48/200\n",
      "21/21 [==============================] - 1s 36ms/step - loss: 0.2139 - accuracy: 0.9215 - val_loss: 0.1908 - val_accuracy: 0.9420\n",
      "Epoch 49/200\n",
      "21/21 [==============================] - 1s 36ms/step - loss: 0.2144 - accuracy: 0.9215 - val_loss: 0.1884 - val_accuracy: 0.9565\n",
      "Epoch 50/200\n",
      "21/21 [==============================] - 1s 37ms/step - loss: 0.2143 - accuracy: 0.9251 - val_loss: 0.1794 - val_accuracy: 0.9638\n",
      "Epoch 51/200\n",
      "21/21 [==============================] - 1s 36ms/step - loss: 0.2049 - accuracy: 0.9287 - val_loss: 0.1774 - val_accuracy: 0.9674\n",
      "Epoch 52/200\n",
      "21/21 [==============================] - 1s 36ms/step - loss: 0.2053 - accuracy: 0.9263 - val_loss: 0.1839 - val_accuracy: 0.9601\n",
      "Epoch 53/200\n",
      "21/21 [==============================] - 1s 36ms/step - loss: 0.2062 - accuracy: 0.9263 - val_loss: 0.1805 - val_accuracy: 0.9601\n",
      "Epoch 54/200\n",
      "21/21 [==============================] - 1s 37ms/step - loss: 0.2033 - accuracy: 0.9251 - val_loss: 0.1828 - val_accuracy: 0.9638\n",
      "Epoch 55/200\n",
      "21/21 [==============================] - 1s 38ms/step - loss: 0.2012 - accuracy: 0.9263 - val_loss: 0.1752 - val_accuracy: 0.9384\n",
      "Epoch 56/200\n",
      "21/21 [==============================] - 1s 36ms/step - loss: 0.2002 - accuracy: 0.9227 - val_loss: 0.1727 - val_accuracy: 0.9674\n",
      "Epoch 57/200\n",
      "21/21 [==============================] - 1s 36ms/step - loss: 0.2015 - accuracy: 0.9300 - val_loss: 0.1911 - val_accuracy: 0.9239\n",
      "Epoch 58/200\n",
      "21/21 [==============================] - 1s 36ms/step - loss: 0.2056 - accuracy: 0.9179 - val_loss: 0.1771 - val_accuracy: 0.9384\n",
      "Epoch 59/200\n",
      "21/21 [==============================] - 1s 38ms/step - loss: 0.1997 - accuracy: 0.9324 - val_loss: 0.1800 - val_accuracy: 0.9420\n",
      "Epoch 60/200\n",
      "21/21 [==============================] - 1s 38ms/step - loss: 0.2004 - accuracy: 0.9275 - val_loss: 0.2047 - val_accuracy: 0.9022\n",
      "Running time is 46.21 seconds per 200 epoches\n",
      "Test Accuracy: 0.928\n"
     ]
    },
    {
     "name": "stderr",
     "output_type": "stream",
     "text": [
      "/usr/local/lib/python3.7/dist-packages/tensorflow/python/data/ops/dataset_ops.py:3704: UserWarning: Even though the `tf.config.experimental_run_functions_eagerly` option is set, this option does not apply to tf.data functions. To force eager execution of tf.data functions, please use `tf.data.experimental.enable.debug_mode()`.\n",
      "  \"Even though the `tf.config.experimental_run_functions_eagerly` \"\n"
     ]
    }
   ],
   "source": [
    "history_dnn_y3=model_trainer_1(model_dnn, y3, X, 200, 40,es_dnn)"
   ]
  },
  {
   "cell_type": "code",
   "execution_count": 29,
   "metadata": {
    "colab": {
     "base_uri": "https://localhost:8080/",
     "height": 573
    },
    "id": "mvGdB1ocjPWz",
    "outputId": "f95b6cb2-b7ab-491c-f46f-dd5e398efa09"
   },
   "outputs": [
    {
     "data": {
      "image/png": "[encoded data removed]",
      "text/plain": [
       "<Figure size 432x288 with 1 Axes>"
      ]
     },
     "metadata": {
      "needs_background": "light",
      "tags": []
     },
     "output_type": "display_data"
    },
    {
     "data": {
      "image/png": "[encoded data removed]",
      "text/plain": [
       "<Figure size 432x288 with 1 Axes>"
      ]
     },
     "metadata": {
      "needs_background": "light",
      "tags": []
     },
     "output_type": "display_data"
    }
   ],
   "source": [
    "plot_metric(history_dnn_y3,'loss')\n",
    "plot_metric(history_dnn_y3,'accuracy')"
   ]
  },
  {
   "cell_type": "markdown",
   "metadata": {
    "id": "6uRi40P5HEBf"
   },
   "source": [
    "### LSTM [3]"
   ]
  },
  {
   "cell_type": "code",
   "execution_count": 30,
   "metadata": {
    "id": "1qWq4MfDIlTW"
   },
   "outputs": [],
   "source": [
    "# LSTM\n",
    "\n",
    "import numpy\n",
    "from keras.models import Sequential\n",
    "from keras.layers import Dense\n",
    "from keras.layers import LSTM\n",
    "from keras.preprocessing import sequence\n",
    "from sklearn.model_selection import train_test_split "
   ]
  },
  {
   "cell_type": "code",
   "execution_count": 31,
   "metadata": {
    "id": "Xc8KXeJhENGY"
   },
   "outputs": [],
   "source": [
    "def model_trainer2(model, y, X, epo,batch, es ):\n",
    "  model.reset_metrics()\n",
    "  model.reset_states()\n",
    "  X_train, X_test, y_train, y_test = train_test_split(X, y, test_size=0.2,random_state =0)\n",
    "  features = X_train.shape[1]\n",
    "  X_train = X_train.values.reshape(X_train.shape[0], features,1)\n",
    "  X_test  = X_test.values.reshape(X_test.shape[0], features,1)\n",
    "  strat_time = time.time()\n",
    "  \n",
    "  # ADD early stopping\n",
    "  if (es=='0'):\n",
    "    history = model.fit(X_train,y_train,epochs=epo,validation_split=0.25, batch_size=batch)\n",
    "  else:\n",
    "    history = model.fit(X_train,y_train,epochs=epo,validation_split=0.25, batch_size=batch, callbacks=[es])\n",
    "\n",
    "  end_time = time.time()\n",
    "  print(\"Running time is {:.2f} seconds per {} epoches\".format(end_time-strat_time, epo))\n",
    "  loss, acc = model.evaluate(X_test, y_test, verbose=0)\n",
    "  print('Test Accuracy: %.3f' % acc)\n",
    "  return history"
   ]
  },
  {
   "cell_type": "markdown",
   "metadata": {
    "id": "ridanJx5Oo2W"
   },
   "source": [
    "### CM3- (ii)"
   ]
  },
  {
   "cell_type": "markdown",
   "metadata": {
    "id": "XmJtstaMOm_L"
   },
   "source": [
    "\n",
    "Below is a neural network which which uses the LSTM architecture followed by  **3 hidden layers** with **40** and **10** units varying in each as can been seen from the code. The activation functions used include **ReLU** and **softmax** activations. For the output layer, **sigmoid activation function** has been used. The optimizer which we have used is '**Adam**' which performs faster than sgd. To prevent overfitting, we tried using **early stopping** with a **delta value of 0.001**, but it worsened the performance and hence we have set the corresponding parameter to **zero**. The input layer uses 13 features to determine the output class label. Three separate models have been trained (**200 epochs and 40 batch size**) for the labels 'Confirmed', 'Recovered' and 'Deaths'. The performance of all the three models has been plotted using two graphs - \n",
    "<br> The training and validation loss by epochs\n",
    "<br> The training and validation accuracy by epochs"
   ]
  },
  {
   "cell_type": "code",
   "execution_count": 32,
   "metadata": {
    "colab": {
     "base_uri": "https://localhost:8080/"
    },
    "id": "xTNFkoYeJQBt",
    "outputId": "e717e07f-71d2-4cb6-9c29-0dbe102f0c39"
   },
   "outputs": [
    {
     "name": "stdout",
     "output_type": "stream",
     "text": [
      "Model: \"sequential_3\"\n",
      "_________________________________________________________________\n",
      "Layer (type)                 Output Shape              Param #   \n",
      "=================================================================\n",
      "lstm_1 (LSTM)                (None, 40)                6720      \n",
      "_________________________________________________________________\n",
      "dense_15 (Dense)             (None, 40)                1640      \n",
      "_________________________________________________________________\n",
      "dense_16 (Dense)             (None, 40)                1640      \n",
      "_________________________________________________________________\n",
      "dense_17 (Dense)             (None, 10)                410       \n",
      "_________________________________________________________________\n",
      "dense_18 (Dense)             (None, 1)                 11        \n",
      "=================================================================\n",
      "Total params: 10,421\n",
      "Trainable params: 10,421\n",
      "Non-trainable params: 0\n",
      "_________________________________________________________________\n"
     ]
    },
    {
     "data": {
      "text/plain": [
       "<keras.engine.sequential.Sequential at 0x7f31979e2850>"
      ]
     },
     "execution_count": 32,
     "metadata": {
      "tags": []
     },
     "output_type": "execute_result"
    }
   ],
   "source": [
    "# 0.16491 score model\n",
    "model_LSTM = Sequential()\n",
    "model_LSTM.add(LSTM(40, input_shape=(13,1)))  #, return_sequences=True \n",
    "model_LSTM.add(Dense(40, activation='relu'))\n",
    "model_LSTM.add(Dense(40, activation='relu'))\n",
    "model_LSTM.add(Dense(10, activation='softmax'))\n",
    "model_LSTM.add(Dense(1, activation='sigmoid'))\n",
    "model_LSTM.compile(loss='mse',\n",
    "              optimizer='adam',\n",
    "              metrics=['accuracy'])\n",
    "model_LSTM.summary()\n",
    "model_LSTM"
   ]
  },
  {
   "cell_type": "code",
   "execution_count": 33,
   "metadata": {
    "colab": {
     "base_uri": "https://localhost:8080/"
    },
    "id": "uDkXjNvBIreZ",
    "outputId": "ca81d3b0-be42-463d-fc2b-85f84e69c04d"
   },
   "outputs": [
    {
     "name": "stdout",
     "output_type": "stream",
     "text": [
      "Epoch 1/100\n",
      " 2/83 [..............................] - ETA: 4s - loss: 0.2564 - accuracy: 0.0500    "
     ]
    },
    {
     "name": "stderr",
     "output_type": "stream",
     "text": [
      "/usr/local/lib/python3.7/dist-packages/tensorflow/python/data/ops/dataset_ops.py:3704: UserWarning: Even though the `tf.config.experimental_run_functions_eagerly` option is set, this option does not apply to tf.data functions. To force eager execution of tf.data functions, please use `tf.data.experimental.enable.debug_mode()`.\n",
      "  \"Even though the `tf.config.experimental_run_functions_eagerly` \"\n"
     ]
    },
    {
     "name": "stdout",
     "output_type": "stream",
     "text": [
      "83/83 [==============================] - 5s 59ms/step - loss: 0.2245 - accuracy: 0.6615 - val_loss: 0.1393 - val_accuracy: 0.9710\n",
      "Epoch 2/100\n",
      "83/83 [==============================] - 5s 65ms/step - loss: 0.1303 - accuracy: 0.9635 - val_loss: 0.0926 - val_accuracy: 0.9710\n",
      "Epoch 3/100\n",
      "83/83 [==============================] - 5s 57ms/step - loss: 0.0948 - accuracy: 0.9569 - val_loss: 0.0777 - val_accuracy: 0.9710\n",
      "Epoch 4/100\n",
      "83/83 [==============================] - 5s 58ms/step - loss: 0.0807 - accuracy: 0.9600 - val_loss: 0.0678 - val_accuracy: 0.9710\n",
      "Epoch 5/100\n",
      "83/83 [==============================] - 5s 57ms/step - loss: 0.0691 - accuracy: 0.9651 - val_loss: 0.0604 - val_accuracy: 0.9710\n",
      "Epoch 6/100\n",
      "83/83 [==============================] - 5s 58ms/step - loss: 0.0648 - accuracy: 0.9612 - val_loss: 0.0549 - val_accuracy: 0.9710\n",
      "Epoch 7/100\n",
      "83/83 [==============================] - 5s 65ms/step - loss: 0.0646 - accuracy: 0.9535 - val_loss: 0.0505 - val_accuracy: 0.9710\n",
      "Epoch 8/100\n",
      "83/83 [==============================] - 5s 55ms/step - loss: 0.0590 - accuracy: 0.9564 - val_loss: 0.0471 - val_accuracy: 0.9710\n",
      "Epoch 9/100\n",
      "83/83 [==============================] - 5s 59ms/step - loss: 0.0542 - accuracy: 0.9593 - val_loss: 0.0443 - val_accuracy: 0.9710\n",
      "Epoch 10/100\n",
      "83/83 [==============================] - 5s 57ms/step - loss: 0.0464 - accuracy: 0.9672 - val_loss: 0.0421 - val_accuracy: 0.9710\n",
      "Epoch 11/100\n",
      "83/83 [==============================] - 5s 64ms/step - loss: 0.0466 - accuracy: 0.9641 - val_loss: 0.0403 - val_accuracy: 0.9710\n",
      "Epoch 12/100\n",
      "83/83 [==============================] - 5s 58ms/step - loss: 0.0558 - accuracy: 0.9490 - val_loss: 0.0388 - val_accuracy: 0.9710\n",
      "Epoch 13/100\n",
      "83/83 [==============================] - 5s 58ms/step - loss: 0.0468 - accuracy: 0.9596 - val_loss: 0.0375 - val_accuracy: 0.9710\n",
      "Epoch 14/100\n",
      "83/83 [==============================] - 5s 58ms/step - loss: 0.0470 - accuracy: 0.9579 - val_loss: 0.0364 - val_accuracy: 0.9710\n",
      "Epoch 15/100\n",
      "83/83 [==============================] - 5s 58ms/step - loss: 0.0475 - accuracy: 0.9561 - val_loss: 0.0355 - val_accuracy: 0.9710\n",
      "Epoch 16/100\n",
      "83/83 [==============================] - 5s 57ms/step - loss: 0.0436 - accuracy: 0.9602 - val_loss: 0.0347 - val_accuracy: 0.9710\n",
      "Epoch 17/100\n",
      "83/83 [==============================] - 5s 58ms/step - loss: 0.0414 - accuracy: 0.9622 - val_loss: 0.0340 - val_accuracy: 0.9710\n",
      "Epoch 18/100\n",
      "83/83 [==============================] - 5s 65ms/step - loss: 0.0459 - accuracy: 0.9558 - val_loss: 0.0334 - val_accuracy: 0.9710\n",
      "Epoch 19/100\n",
      "83/83 [==============================] - 5s 59ms/step - loss: 0.0364 - accuracy: 0.9671 - val_loss: 0.0329 - val_accuracy: 0.9710\n",
      "Epoch 20/100\n",
      "83/83 [==============================] - 5s 65ms/step - loss: 0.0546 - accuracy: 0.9439 - val_loss: 0.0324 - val_accuracy: 0.9710\n",
      "Epoch 21/100\n",
      "83/83 [==============================] - 5s 59ms/step - loss: 0.0409 - accuracy: 0.9605 - val_loss: 0.0320 - val_accuracy: 0.9710\n",
      "Epoch 22/100\n",
      "83/83 [==============================] - 5s 60ms/step - loss: 0.0439 - accuracy: 0.9565 - val_loss: 0.0317 - val_accuracy: 0.9710\n",
      "Epoch 23/100\n",
      "83/83 [==============================] - 5s 58ms/step - loss: 0.0510 - accuracy: 0.9474 - val_loss: 0.0314 - val_accuracy: 0.9710\n",
      "Epoch 24/100\n",
      "83/83 [==============================] - 5s 65ms/step - loss: 0.0368 - accuracy: 0.9644 - val_loss: 0.0311 - val_accuracy: 0.9710\n",
      "Epoch 25/100\n",
      "83/83 [==============================] - 5s 58ms/step - loss: 0.0491 - accuracy: 0.9494 - val_loss: 0.0308 - val_accuracy: 0.9710\n",
      "Epoch 26/100\n",
      "83/83 [==============================] - 5s 59ms/step - loss: 0.0413 - accuracy: 0.9585 - val_loss: 0.0306 - val_accuracy: 0.9710\n",
      "Epoch 27/100\n",
      "83/83 [==============================] - 5s 59ms/step - loss: 0.0402 - accuracy: 0.9595 - val_loss: 0.0304 - val_accuracy: 0.9710\n",
      "Epoch 28/100\n",
      "83/83 [==============================] - 5s 64ms/step - loss: 0.0425 - accuracy: 0.9567 - val_loss: 0.0303 - val_accuracy: 0.9710\n",
      "Epoch 29/100\n",
      "83/83 [==============================] - 5s 60ms/step - loss: 0.0461 - accuracy: 0.9523 - val_loss: 0.0301 - val_accuracy: 0.9710\n",
      "Epoch 30/100\n",
      "83/83 [==============================] - 5s 60ms/step - loss: 0.0500 - accuracy: 0.9477 - val_loss: 0.0299 - val_accuracy: 0.9710\n",
      "Epoch 31/100\n",
      "83/83 [==============================] - 5s 60ms/step - loss: 0.0466 - accuracy: 0.9516 - val_loss: 0.0298 - val_accuracy: 0.9710\n",
      "Epoch 32/100\n",
      "83/83 [==============================] - 5s 62ms/step - loss: 0.0427 - accuracy: 0.9561 - val_loss: 0.0297 - val_accuracy: 0.9710\n",
      "Epoch 33/100\n",
      "83/83 [==============================] - 6s 67ms/step - loss: 0.0438 - accuracy: 0.9546 - val_loss: 0.0296 - val_accuracy: 0.9710\n",
      "Epoch 34/100\n",
      "83/83 [==============================] - 5s 60ms/step - loss: 0.0411 - accuracy: 0.9577 - val_loss: 0.0295 - val_accuracy: 0.9710\n",
      "Epoch 35/100\n",
      "83/83 [==============================] - 5s 62ms/step - loss: 0.0365 - accuracy: 0.9629 - val_loss: 0.0294 - val_accuracy: 0.9710\n",
      "Epoch 36/100\n",
      "83/83 [==============================] - 5s 62ms/step - loss: 0.0424 - accuracy: 0.9561 - val_loss: 0.0293 - val_accuracy: 0.9710\n",
      "Epoch 37/100\n",
      "83/83 [==============================] - 5s 61ms/step - loss: 0.0433 - accuracy: 0.9550 - val_loss: 0.0292 - val_accuracy: 0.9710\n",
      "Epoch 38/100\n",
      "83/83 [==============================] - 5s 60ms/step - loss: 0.0424 - accuracy: 0.9559 - val_loss: 0.0292 - val_accuracy: 0.9710\n",
      "Epoch 39/100\n",
      "83/83 [==============================] - 6s 69ms/step - loss: 0.0455 - accuracy: 0.9524 - val_loss: 0.0291 - val_accuracy: 0.9710\n",
      "Epoch 40/100\n",
      "83/83 [==============================] - 5s 62ms/step - loss: 0.0363 - accuracy: 0.9628 - val_loss: 0.0290 - val_accuracy: 0.9710\n",
      "Epoch 41/100\n",
      "83/83 [==============================] - 5s 62ms/step - loss: 0.0305 - accuracy: 0.9693 - val_loss: 0.0290 - val_accuracy: 0.9710\n",
      "Epoch 42/100\n",
      "83/83 [==============================] - 5s 63ms/step - loss: 0.0370 - accuracy: 0.9619 - val_loss: 0.0289 - val_accuracy: 0.9710\n",
      "Epoch 43/100\n",
      "83/83 [==============================] - 5s 63ms/step - loss: 0.0443 - accuracy: 0.9537 - val_loss: 0.0289 - val_accuracy: 0.9710\n",
      "Epoch 44/100\n",
      "83/83 [==============================] - 5s 63ms/step - loss: 0.0365 - accuracy: 0.9624 - val_loss: 0.0288 - val_accuracy: 0.9710\n",
      "Epoch 45/100\n",
      "83/83 [==============================] - 6s 68ms/step - loss: 0.0408 - accuracy: 0.9576 - val_loss: 0.0288 - val_accuracy: 0.9710\n",
      "Epoch 46/100\n",
      "83/83 [==============================] - 5s 63ms/step - loss: 0.0396 - accuracy: 0.9589 - val_loss: 0.0288 - val_accuracy: 0.9710\n",
      "Epoch 47/100\n",
      "83/83 [==============================] - 5s 61ms/step - loss: 0.0416 - accuracy: 0.9566 - val_loss: 0.0287 - val_accuracy: 0.9710\n",
      "Epoch 48/100\n",
      "83/83 [==============================] - 5s 60ms/step - loss: 0.0449 - accuracy: 0.9529 - val_loss: 0.0287 - val_accuracy: 0.9710\n",
      "Epoch 49/100\n",
      "83/83 [==============================] - 5s 61ms/step - loss: 0.0379 - accuracy: 0.9608 - val_loss: 0.0287 - val_accuracy: 0.9710\n",
      "Epoch 50/100\n",
      "83/83 [==============================] - 5s 58ms/step - loss: 0.0336 - accuracy: 0.9655 - val_loss: 0.0286 - val_accuracy: 0.9710\n",
      "Epoch 51/100\n",
      "83/83 [==============================] - 5s 62ms/step - loss: 0.0447 - accuracy: 0.9532 - val_loss: 0.0286 - val_accuracy: 0.9710\n",
      "Epoch 52/100\n",
      "83/83 [==============================] - 5s 61ms/step - loss: 0.0357 - accuracy: 0.9631 - val_loss: 0.0286 - val_accuracy: 0.9710\n",
      "Epoch 53/100\n",
      "83/83 [==============================] - 5s 59ms/step - loss: 0.0403 - accuracy: 0.9580 - val_loss: 0.0286 - val_accuracy: 0.9710\n",
      "Epoch 54/100\n",
      "83/83 [==============================] - 5s 60ms/step - loss: 0.0377 - accuracy: 0.9608 - val_loss: 0.0286 - val_accuracy: 0.9710\n",
      "Epoch 55/100\n",
      "83/83 [==============================] - 5s 61ms/step - loss: 0.0381 - accuracy: 0.9604 - val_loss: 0.0285 - val_accuracy: 0.9710\n",
      "Epoch 56/100\n",
      "83/83 [==============================] - 5s 59ms/step - loss: 0.0433 - accuracy: 0.9546 - val_loss: 0.0285 - val_accuracy: 0.9710\n",
      "Epoch 57/100\n",
      "83/83 [==============================] - 5s 62ms/step - loss: 0.0366 - accuracy: 0.9621 - val_loss: 0.0285 - val_accuracy: 0.9710\n",
      "Epoch 58/100\n",
      "83/83 [==============================] - 6s 67ms/step - loss: 0.0497 - accuracy: 0.9475 - val_loss: 0.0285 - val_accuracy: 0.9710\n",
      "Epoch 59/100\n",
      "83/83 [==============================] - 5s 59ms/step - loss: 0.0480 - accuracy: 0.9494 - val_loss: 0.0285 - val_accuracy: 0.9710\n",
      "Epoch 60/100\n",
      "83/83 [==============================] - 6s 67ms/step - loss: 0.0364 - accuracy: 0.9623 - val_loss: 0.0285 - val_accuracy: 0.9710\n",
      "Epoch 61/100\n",
      "83/83 [==============================] - 5s 66ms/step - loss: 0.0473 - accuracy: 0.9502 - val_loss: 0.0285 - val_accuracy: 0.9710\n",
      "Epoch 62/100\n",
      "83/83 [==============================] - 5s 66ms/step - loss: 0.0389 - accuracy: 0.9595 - val_loss: 0.0284 - val_accuracy: 0.9710\n",
      "Epoch 63/100\n",
      "83/83 [==============================] - 5s 59ms/step - loss: 0.0360 - accuracy: 0.9627 - val_loss: 0.0284 - val_accuracy: 0.9710\n",
      "Epoch 64/100\n",
      "83/83 [==============================] - 5s 57ms/step - loss: 0.0553 - accuracy: 0.9414 - val_loss: 0.0284 - val_accuracy: 0.9710\n",
      "Epoch 65/100\n",
      "83/83 [==============================] - 5s 58ms/step - loss: 0.0451 - accuracy: 0.9527 - val_loss: 0.0284 - val_accuracy: 0.9710\n",
      "Epoch 66/100\n",
      "83/83 [==============================] - 5s 60ms/step - loss: 0.0447 - accuracy: 0.9531 - val_loss: 0.0284 - val_accuracy: 0.9710\n",
      "Epoch 67/100\n",
      "83/83 [==============================] - 6s 67ms/step - loss: 0.0467 - accuracy: 0.9509 - val_loss: 0.0284 - val_accuracy: 0.9710\n",
      "Epoch 68/100\n",
      "83/83 [==============================] - 5s 59ms/step - loss: 0.0363 - accuracy: 0.9624 - val_loss: 0.0284 - val_accuracy: 0.9710\n",
      "Epoch 69/100\n",
      "83/83 [==============================] - 5s 59ms/step - loss: 0.0275 - accuracy: 0.9720 - val_loss: 0.0284 - val_accuracy: 0.9710\n",
      "Epoch 70/100\n",
      "83/83 [==============================] - 5s 59ms/step - loss: 0.0425 - accuracy: 0.9556 - val_loss: 0.0284 - val_accuracy: 0.9710\n",
      "Epoch 71/100\n",
      "83/83 [==============================] - 5s 58ms/step - loss: 0.0415 - accuracy: 0.9566 - val_loss: 0.0284 - val_accuracy: 0.9710\n",
      "Epoch 72/100\n",
      "83/83 [==============================] - 5s 57ms/step - loss: 0.0470 - accuracy: 0.9506 - val_loss: 0.0284 - val_accuracy: 0.9710\n",
      "Epoch 73/100\n",
      "83/83 [==============================] - 5s 65ms/step - loss: 0.0371 - accuracy: 0.9614 - val_loss: 0.0284 - val_accuracy: 0.9710\n",
      "Epoch 74/100\n",
      "83/83 [==============================] - 5s 58ms/step - loss: 0.0396 - accuracy: 0.9587 - val_loss: 0.0284 - val_accuracy: 0.9710\n",
      "Epoch 75/100\n",
      "83/83 [==============================] - 5s 58ms/step - loss: 0.0378 - accuracy: 0.9607 - val_loss: 0.0284 - val_accuracy: 0.9710\n",
      "Epoch 76/100\n",
      "83/83 [==============================] - 5s 58ms/step - loss: 0.0419 - accuracy: 0.9562 - val_loss: 0.0284 - val_accuracy: 0.9710\n",
      "Epoch 77/100\n",
      "83/83 [==============================] - 5s 59ms/step - loss: 0.0419 - accuracy: 0.9562 - val_loss: 0.0284 - val_accuracy: 0.9710\n",
      "Epoch 78/100\n",
      "83/83 [==============================] - 5s 64ms/step - loss: 0.0391 - accuracy: 0.9593 - val_loss: 0.0284 - val_accuracy: 0.9710\n",
      "Epoch 79/100\n",
      "83/83 [==============================] - 5s 59ms/step - loss: 0.0483 - accuracy: 0.9491 - val_loss: 0.0284 - val_accuracy: 0.9710\n",
      "Epoch 80/100\n",
      "83/83 [==============================] - 5s 59ms/step - loss: 0.0365 - accuracy: 0.9621 - val_loss: 0.0283 - val_accuracy: 0.9710\n",
      "Epoch 81/100\n",
      "83/83 [==============================] - 5s 60ms/step - loss: 0.0388 - accuracy: 0.9596 - val_loss: 0.0283 - val_accuracy: 0.9710\n",
      "Epoch 82/100\n",
      "83/83 [==============================] - 5s 65ms/step - loss: 0.0373 - accuracy: 0.9613 - val_loss: 0.0283 - val_accuracy: 0.9710\n",
      "Epoch 83/100\n",
      "83/83 [==============================] - 5s 65ms/step - loss: 0.0455 - accuracy: 0.9522 - val_loss: 0.0283 - val_accuracy: 0.9710\n",
      "Epoch 84/100\n",
      "83/83 [==============================] - 5s 58ms/step - loss: 0.0396 - accuracy: 0.9587 - val_loss: 0.0283 - val_accuracy: 0.9710\n",
      "Epoch 85/100\n",
      "83/83 [==============================] - 5s 64ms/step - loss: 0.0337 - accuracy: 0.9652 - val_loss: 0.0283 - val_accuracy: 0.9710\n",
      "Epoch 86/100\n",
      "83/83 [==============================] - 5s 59ms/step - loss: 0.0416 - accuracy: 0.9565 - val_loss: 0.0283 - val_accuracy: 0.9710\n",
      "Epoch 87/100\n",
      "83/83 [==============================] - 5s 59ms/step - loss: 0.0389 - accuracy: 0.9595 - val_loss: 0.0283 - val_accuracy: 0.9710\n",
      "Epoch 88/100\n",
      "83/83 [==============================] - 5s 58ms/step - loss: 0.0380 - accuracy: 0.9604 - val_loss: 0.0283 - val_accuracy: 0.9710\n",
      "Epoch 89/100\n",
      "83/83 [==============================] - 5s 58ms/step - loss: 0.0388 - accuracy: 0.9595 - val_loss: 0.0283 - val_accuracy: 0.9710\n",
      "Epoch 90/100\n",
      "83/83 [==============================] - 5s 65ms/step - loss: 0.0370 - accuracy: 0.9616 - val_loss: 0.0283 - val_accuracy: 0.9710\n",
      "Epoch 91/100\n",
      "83/83 [==============================] - 5s 66ms/step - loss: 0.0355 - accuracy: 0.9632 - val_loss: 0.0283 - val_accuracy: 0.9710\n",
      "Epoch 92/100\n",
      "83/83 [==============================] - 5s 65ms/step - loss: 0.0388 - accuracy: 0.9595 - val_loss: 0.0283 - val_accuracy: 0.9710\n",
      "Epoch 93/100\n",
      "83/83 [==============================] - 5s 64ms/step - loss: 0.0382 - accuracy: 0.9602 - val_loss: 0.0283 - val_accuracy: 0.9710\n",
      "Epoch 94/100\n",
      "83/83 [==============================] - 5s 58ms/step - loss: 0.0343 - accuracy: 0.9645 - val_loss: 0.0283 - val_accuracy: 0.9710\n",
      "Epoch 95/100\n",
      "83/83 [==============================] - 5s 65ms/step - loss: 0.0529 - accuracy: 0.9442 - val_loss: 0.0283 - val_accuracy: 0.9710\n",
      "Epoch 96/100\n",
      "83/83 [==============================] - 5s 65ms/step - loss: 0.0438 - accuracy: 0.9541 - val_loss: 0.0283 - val_accuracy: 0.9710\n",
      "Epoch 97/100\n",
      "83/83 [==============================] - 5s 66ms/step - loss: 0.0443 - accuracy: 0.9536 - val_loss: 0.0283 - val_accuracy: 0.9710\n",
      "Epoch 98/100\n",
      "83/83 [==============================] - 5s 58ms/step - loss: 0.0542 - accuracy: 0.9427 - val_loss: 0.0283 - val_accuracy: 0.9710\n",
      "Epoch 99/100\n",
      "83/83 [==============================] - 5s 61ms/step - loss: 0.0365 - accuracy: 0.9621 - val_loss: 0.0283 - val_accuracy: 0.9710\n",
      "Epoch 100/100\n",
      "83/83 [==============================] - 5s 59ms/step - loss: 0.0395 - accuracy: 0.9589 - val_loss: 0.0283 - val_accuracy: 0.9710\n",
      "Running time is 505.84 seconds per 100 epoches\n",
      "Test Accuracy: 0.971\n"
     ]
    }
   ],
   "source": [
    "hist_lstm_y1=model_trainer2(model_LSTM, y1, X, 100, 10, '0')"
   ]
  },
  {
   "cell_type": "code",
   "execution_count": 34,
   "metadata": {
    "colab": {
     "base_uri": "https://localhost:8080/",
     "height": 573
    },
    "id": "lR8_nzOTHGu-",
    "outputId": "b4ca7962-2c92-4811-f09d-76ce834dedc0"
   },
   "outputs": [
    {
     "data": {
      "image/png": "[encoded data removed]",
      "text/plain": [
       "<Figure size 432x288 with 1 Axes>"
      ]
     },
     "metadata": {
      "needs_background": "light",
      "tags": []
     },
     "output_type": "display_data"
    },
    {
     "data": {
      "image/png": "[encoded data removed]",
      "text/plain": [
       "<Figure size 432x288 with 1 Axes>"
      ]
     },
     "metadata": {
      "needs_background": "light",
      "tags": []
     },
     "output_type": "display_data"
    }
   ],
   "source": [
    "plot_metric(hist_lstm_y1,'loss')\n",
    "plot_metric(hist_lstm_y1,'accuracy')"
   ]
  },
  {
   "cell_type": "code",
   "execution_count": 35,
   "metadata": {
    "colab": {
     "base_uri": "https://localhost:8080/"
    },
    "id": "qLgv71L7O77K",
    "outputId": "42377c55-5805-4719-84c9-e97e18d405b5"
   },
   "outputs": [
    {
     "name": "stdout",
     "output_type": "stream",
     "text": [
      "Epoch 1/100\n",
      " 2/83 [..............................] - ETA: 4s - loss: 0.0476 - accuracy: 0.9500"
     ]
    },
    {
     "name": "stderr",
     "output_type": "stream",
     "text": [
      "/usr/local/lib/python3.7/dist-packages/tensorflow/python/data/ops/dataset_ops.py:3704: UserWarning: Even though the `tf.config.experimental_run_functions_eagerly` option is set, this option does not apply to tf.data functions. To force eager execution of tf.data functions, please use `tf.data.experimental.enable.debug_mode()`.\n",
      "  \"Even though the `tf.config.experimental_run_functions_eagerly` \"\n"
     ]
    },
    {
     "name": "stdout",
     "output_type": "stream",
     "text": [
      "83/83 [==============================] - 5s 65ms/step - loss: 0.0922 - accuracy: 0.9010 - val_loss: 0.0941 - val_accuracy: 0.8986\n",
      "Epoch 2/100\n",
      "83/83 [==============================] - 5s 64ms/step - loss: 0.0916 - accuracy: 0.9010 - val_loss: 0.0934 - val_accuracy: 0.8986\n",
      "Epoch 3/100\n",
      "83/83 [==============================] - 5s 65ms/step - loss: 0.0911 - accuracy: 0.9010 - val_loss: 0.0929 - val_accuracy: 0.8986\n",
      "Epoch 4/100\n",
      "83/83 [==============================] - 5s 64ms/step - loss: 0.0906 - accuracy: 0.9010 - val_loss: 0.0925 - val_accuracy: 0.8986\n",
      "Epoch 5/100\n",
      "83/83 [==============================] - 5s 57ms/step - loss: 0.0902 - accuracy: 0.9010 - val_loss: 0.0921 - val_accuracy: 0.8986\n",
      "Epoch 6/100\n",
      "83/83 [==============================] - 5s 59ms/step - loss: 0.0899 - accuracy: 0.9010 - val_loss: 0.0918 - val_accuracy: 0.8986\n",
      "Epoch 7/100\n",
      "83/83 [==============================] - 5s 59ms/step - loss: 0.0897 - accuracy: 0.9010 - val_loss: 0.0916 - val_accuracy: 0.8986\n",
      "Epoch 8/100\n",
      "83/83 [==============================] - 5s 58ms/step - loss: 0.0895 - accuracy: 0.9010 - val_loss: 0.0915 - val_accuracy: 0.8986\n",
      "Epoch 9/100\n",
      "83/83 [==============================] - 5s 60ms/step - loss: 0.0894 - accuracy: 0.9010 - val_loss: 0.0914 - val_accuracy: 0.8986\n",
      "Epoch 10/100\n",
      "83/83 [==============================] - 5s 60ms/step - loss: 0.0894 - accuracy: 0.9010 - val_loss: 0.0913 - val_accuracy: 0.8986\n",
      "Epoch 11/100\n",
      "83/83 [==============================] - 5s 60ms/step - loss: 0.0893 - accuracy: 0.9010 - val_loss: 0.0913 - val_accuracy: 0.8986\n",
      "Epoch 12/100\n",
      "83/83 [==============================] - 5s 59ms/step - loss: 0.0893 - accuracy: 0.9010 - val_loss: 0.0912 - val_accuracy: 0.8986\n",
      "Epoch 13/100\n",
      "83/83 [==============================] - 6s 67ms/step - loss: 0.0893 - accuracy: 0.9010 - val_loss: 0.0912 - val_accuracy: 0.8986\n",
      "Epoch 14/100\n",
      "83/83 [==============================] - 5s 58ms/step - loss: 0.0893 - accuracy: 0.9010 - val_loss: 0.0912 - val_accuracy: 0.8986\n",
      "Epoch 15/100\n",
      "83/83 [==============================] - 5s 60ms/step - loss: 0.0893 - accuracy: 0.9010 - val_loss: 0.0912 - val_accuracy: 0.8986\n",
      "Epoch 16/100\n",
      "83/83 [==============================] - 5s 61ms/step - loss: 0.0893 - accuracy: 0.9010 - val_loss: 0.0912 - val_accuracy: 0.8986\n",
      "Epoch 17/100\n",
      "83/83 [==============================] - 5s 61ms/step - loss: 0.0893 - accuracy: 0.9010 - val_loss: 0.0912 - val_accuracy: 0.8986\n",
      "Epoch 18/100\n",
      "83/83 [==============================] - 5s 59ms/step - loss: 0.0893 - accuracy: 0.9010 - val_loss: 0.0912 - val_accuracy: 0.8986\n",
      "Epoch 19/100\n",
      "83/83 [==============================] - 5s 61ms/step - loss: 0.0892 - accuracy: 0.9010 - val_loss: 0.0912 - val_accuracy: 0.8986\n",
      "Epoch 20/100\n",
      "83/83 [==============================] - 5s 60ms/step - loss: 0.0892 - accuracy: 0.9010 - val_loss: 0.0912 - val_accuracy: 0.8986\n",
      "Epoch 21/100\n",
      "83/83 [==============================] - 6s 67ms/step - loss: 0.0892 - accuracy: 0.9010 - val_loss: 0.0912 - val_accuracy: 0.8986\n",
      "Epoch 22/100\n",
      "83/83 [==============================] - 5s 61ms/step - loss: 0.0892 - accuracy: 0.9010 - val_loss: 0.0912 - val_accuracy: 0.8986\n",
      "Epoch 23/100\n",
      "83/83 [==============================] - 5s 60ms/step - loss: 0.0892 - accuracy: 0.9010 - val_loss: 0.0912 - val_accuracy: 0.8986\n",
      "Epoch 24/100\n",
      "83/83 [==============================] - 5s 61ms/step - loss: 0.0892 - accuracy: 0.9010 - val_loss: 0.0912 - val_accuracy: 0.8986\n",
      "Epoch 25/100\n",
      "83/83 [==============================] - 6s 68ms/step - loss: 0.0892 - accuracy: 0.9010 - val_loss: 0.0912 - val_accuracy: 0.8986\n",
      "Epoch 26/100\n",
      "83/83 [==============================] - 5s 60ms/step - loss: 0.0892 - accuracy: 0.9010 - val_loss: 0.0912 - val_accuracy: 0.8986\n",
      "Epoch 27/100\n",
      "83/83 [==============================] - 5s 59ms/step - loss: 0.0892 - accuracy: 0.9010 - val_loss: 0.0912 - val_accuracy: 0.8986\n",
      "Epoch 28/100\n",
      "83/83 [==============================] - 5s 64ms/step - loss: 0.0892 - accuracy: 0.9010 - val_loss: 0.0911 - val_accuracy: 0.8986\n",
      "Epoch 29/100\n",
      "83/83 [==============================] - 5s 58ms/step - loss: 0.0863 - accuracy: 0.9010 - val_loss: 0.0834 - val_accuracy: 0.8986\n",
      "Epoch 30/100\n",
      "83/83 [==============================] - 5s 57ms/step - loss: 0.0808 - accuracy: 0.9010 - val_loss: 0.0833 - val_accuracy: 0.8986\n",
      "Epoch 31/100\n",
      "83/83 [==============================] - 5s 59ms/step - loss: 0.0792 - accuracy: 0.9010 - val_loss: 0.0831 - val_accuracy: 0.8986\n",
      "Epoch 32/100\n",
      "83/83 [==============================] - 5s 56ms/step - loss: 0.0787 - accuracy: 0.9010 - val_loss: 0.0822 - val_accuracy: 0.8986\n",
      "Epoch 33/100\n",
      "83/83 [==============================] - 5s 58ms/step - loss: 0.0783 - accuracy: 0.9010 - val_loss: 0.0825 - val_accuracy: 0.8986\n",
      "Epoch 34/100\n",
      "83/83 [==============================] - 5s 58ms/step - loss: 0.0781 - accuracy: 0.9010 - val_loss: 0.0833 - val_accuracy: 0.8986\n",
      "Epoch 35/100\n",
      "83/83 [==============================] - 5s 58ms/step - loss: 0.0780 - accuracy: 0.9010 - val_loss: 0.0828 - val_accuracy: 0.8986\n",
      "Epoch 36/100\n",
      "83/83 [==============================] - 5s 57ms/step - loss: 0.0774 - accuracy: 0.9010 - val_loss: 0.0802 - val_accuracy: 0.8986\n",
      "Epoch 37/100\n",
      "83/83 [==============================] - 5s 58ms/step - loss: 0.0785 - accuracy: 0.9010 - val_loss: 0.0805 - val_accuracy: 0.8986\n",
      "Epoch 38/100\n",
      "83/83 [==============================] - 5s 59ms/step - loss: 0.0762 - accuracy: 0.9010 - val_loss: 0.0808 - val_accuracy: 0.8986\n",
      "Epoch 39/100\n",
      "83/83 [==============================] - 5s 60ms/step - loss: 0.0757 - accuracy: 0.9010 - val_loss: 0.0809 - val_accuracy: 0.8986\n",
      "Epoch 40/100\n",
      "83/83 [==============================] - 5s 58ms/step - loss: 0.0758 - accuracy: 0.9010 - val_loss: 0.0806 - val_accuracy: 0.8986\n",
      "Epoch 41/100\n",
      "83/83 [==============================] - 5s 58ms/step - loss: 0.0758 - accuracy: 0.9010 - val_loss: 0.0811 - val_accuracy: 0.8986\n",
      "Epoch 42/100\n",
      "83/83 [==============================] - 5s 57ms/step - loss: 0.0754 - accuracy: 0.9010 - val_loss: 0.0802 - val_accuracy: 0.8986\n",
      "Epoch 43/100\n",
      "83/83 [==============================] - 5s 64ms/step - loss: 0.0748 - accuracy: 0.9010 - val_loss: 0.0808 - val_accuracy: 0.8986\n",
      "Epoch 44/100\n",
      "83/83 [==============================] - 5s 64ms/step - loss: 0.0764 - accuracy: 0.9010 - val_loss: 0.0799 - val_accuracy: 0.8986\n",
      "Epoch 45/100\n",
      "83/83 [==============================] - 5s 58ms/step - loss: 0.0751 - accuracy: 0.9010 - val_loss: 0.0792 - val_accuracy: 0.8986\n",
      "Epoch 46/100\n",
      "83/83 [==============================] - 5s 58ms/step - loss: 0.0752 - accuracy: 0.9010 - val_loss: 0.0804 - val_accuracy: 0.8986\n",
      "Epoch 47/100\n",
      "83/83 [==============================] - 5s 59ms/step - loss: 0.0745 - accuracy: 0.9010 - val_loss: 0.0802 - val_accuracy: 0.8986\n",
      "Epoch 48/100\n",
      "83/83 [==============================] - 5s 65ms/step - loss: 0.0746 - accuracy: 0.9022 - val_loss: 0.0798 - val_accuracy: 0.8986\n",
      "Epoch 49/100\n",
      "83/83 [==============================] - 5s 60ms/step - loss: 0.0739 - accuracy: 0.9094 - val_loss: 0.0784 - val_accuracy: 0.9094\n",
      "Epoch 50/100\n",
      "83/83 [==============================] - 5s 58ms/step - loss: 0.0745 - accuracy: 0.9058 - val_loss: 0.0801 - val_accuracy: 0.8986\n",
      "Epoch 51/100\n",
      "83/83 [==============================] - 5s 59ms/step - loss: 0.0790 - accuracy: 0.9094 - val_loss: 0.0786 - val_accuracy: 0.8913\n",
      "Epoch 52/100\n",
      "83/83 [==============================] - 5s 60ms/step - loss: 0.0742 - accuracy: 0.9130 - val_loss: 0.0798 - val_accuracy: 0.8986\n",
      "Epoch 53/100\n",
      "83/83 [==============================] - 5s 59ms/step - loss: 0.0739 - accuracy: 0.9143 - val_loss: 0.0795 - val_accuracy: 0.8986\n",
      "Epoch 54/100\n",
      "83/83 [==============================] - 5s 58ms/step - loss: 0.0741 - accuracy: 0.9143 - val_loss: 0.0793 - val_accuracy: 0.8986\n",
      "Epoch 55/100\n",
      "83/83 [==============================] - 5s 65ms/step - loss: 0.0736 - accuracy: 0.9143 - val_loss: 0.0790 - val_accuracy: 0.8986\n",
      "Epoch 56/100\n",
      "83/83 [==============================] - 5s 58ms/step - loss: 0.0729 - accuracy: 0.9143 - val_loss: 0.0791 - val_accuracy: 0.8986\n",
      "Epoch 57/100\n",
      "83/83 [==============================] - 5s 58ms/step - loss: 0.0734 - accuracy: 0.9143 - val_loss: 0.0784 - val_accuracy: 0.8986\n",
      "Epoch 58/100\n",
      "83/83 [==============================] - 5s 66ms/step - loss: 0.0743 - accuracy: 0.9106 - val_loss: 0.0792 - val_accuracy: 0.8986\n",
      "Epoch 59/100\n",
      "83/83 [==============================] - 5s 58ms/step - loss: 0.0739 - accuracy: 0.9082 - val_loss: 0.0773 - val_accuracy: 0.8986\n",
      "Epoch 60/100\n",
      "83/83 [==============================] - 5s 59ms/step - loss: 0.0737 - accuracy: 0.9143 - val_loss: 0.0789 - val_accuracy: 0.8986\n",
      "Epoch 61/100\n",
      "83/83 [==============================] - 5s 65ms/step - loss: 0.0733 - accuracy: 0.9143 - val_loss: 0.0778 - val_accuracy: 0.8986\n",
      "Epoch 62/100\n",
      "83/83 [==============================] - 5s 60ms/step - loss: 0.0732 - accuracy: 0.9143 - val_loss: 0.0788 - val_accuracy: 0.8986\n",
      "Epoch 63/100\n",
      "83/83 [==============================] - 5s 65ms/step - loss: 0.0728 - accuracy: 0.9143 - val_loss: 0.0789 - val_accuracy: 0.8986\n",
      "Epoch 64/100\n",
      "83/83 [==============================] - 5s 61ms/step - loss: 0.0730 - accuracy: 0.9143 - val_loss: 0.0788 - val_accuracy: 0.8986\n",
      "Epoch 65/100\n",
      "83/83 [==============================] - 5s 60ms/step - loss: 0.0732 - accuracy: 0.9130 - val_loss: 0.0784 - val_accuracy: 0.8986\n",
      "Epoch 66/100\n",
      "83/83 [==============================] - 6s 67ms/step - loss: 0.0721 - accuracy: 0.9155 - val_loss: 0.0786 - val_accuracy: 0.8986\n",
      "Epoch 67/100\n",
      "83/83 [==============================] - 5s 61ms/step - loss: 0.0731 - accuracy: 0.9130 - val_loss: 0.0787 - val_accuracy: 0.8986\n",
      "Epoch 68/100\n",
      "83/83 [==============================] - 5s 59ms/step - loss: 0.0730 - accuracy: 0.9082 - val_loss: 0.0797 - val_accuracy: 0.8949\n",
      "Epoch 69/100\n",
      "83/83 [==============================] - 5s 66ms/step - loss: 0.0732 - accuracy: 0.9118 - val_loss: 0.0783 - val_accuracy: 0.9094\n",
      "Epoch 70/100\n",
      "83/83 [==============================] - 5s 61ms/step - loss: 0.0731 - accuracy: 0.9130 - val_loss: 0.0786 - val_accuracy: 0.9094\n",
      "Epoch 71/100\n",
      "83/83 [==============================] - 6s 68ms/step - loss: 0.0729 - accuracy: 0.9106 - val_loss: 0.0784 - val_accuracy: 0.8986\n",
      "Epoch 72/100\n",
      "83/83 [==============================] - 5s 63ms/step - loss: 0.0729 - accuracy: 0.9143 - val_loss: 0.0781 - val_accuracy: 0.9094\n",
      "Epoch 73/100\n",
      "83/83 [==============================] - 5s 59ms/step - loss: 0.0727 - accuracy: 0.9118 - val_loss: 0.0783 - val_accuracy: 0.8986\n",
      "Epoch 74/100\n",
      "83/83 [==============================] - 5s 60ms/step - loss: 0.0726 - accuracy: 0.9118 - val_loss: 0.0776 - val_accuracy: 0.8986\n",
      "Epoch 75/100\n",
      "83/83 [==============================] - 6s 69ms/step - loss: 0.0728 - accuracy: 0.9130 - val_loss: 0.0781 - val_accuracy: 0.9094\n",
      "Epoch 76/100\n",
      "83/83 [==============================] - 5s 61ms/step - loss: 0.0731 - accuracy: 0.9167 - val_loss: 0.0771 - val_accuracy: 0.8986\n",
      "Epoch 77/100\n",
      "83/83 [==============================] - 5s 59ms/step - loss: 0.0727 - accuracy: 0.9143 - val_loss: 0.0781 - val_accuracy: 0.8986\n",
      "Epoch 78/100\n",
      "83/83 [==============================] - 5s 60ms/step - loss: 0.0725 - accuracy: 0.9143 - val_loss: 0.0785 - val_accuracy: 0.9094\n",
      "Epoch 79/100\n",
      "83/83 [==============================] - 5s 60ms/step - loss: 0.0723 - accuracy: 0.9118 - val_loss: 0.0782 - val_accuracy: 0.8986\n",
      "Epoch 80/100\n",
      "83/83 [==============================] - 5s 59ms/step - loss: 0.0724 - accuracy: 0.9130 - val_loss: 0.0783 - val_accuracy: 0.8986\n",
      "Epoch 81/100\n",
      "83/83 [==============================] - 6s 67ms/step - loss: 0.0720 - accuracy: 0.9130 - val_loss: 0.0778 - val_accuracy: 0.9022\n",
      "Epoch 82/100\n",
      "83/83 [==============================] - 6s 68ms/step - loss: 0.0723 - accuracy: 0.9155 - val_loss: 0.0777 - val_accuracy: 0.9094\n",
      "Epoch 83/100\n",
      "83/83 [==============================] - 5s 61ms/step - loss: 0.0713 - accuracy: 0.9130 - val_loss: 0.0784 - val_accuracy: 0.8986\n",
      "Epoch 84/100\n",
      "83/83 [==============================] - 6s 69ms/step - loss: 0.0727 - accuracy: 0.9118 - val_loss: 0.0776 - val_accuracy: 0.9094\n",
      "Epoch 85/100\n",
      "83/83 [==============================] - 5s 59ms/step - loss: 0.0722 - accuracy: 0.9130 - val_loss: 0.0777 - val_accuracy: 0.9094\n",
      "Epoch 86/100\n",
      "83/83 [==============================] - 6s 69ms/step - loss: 0.0713 - accuracy: 0.9143 - val_loss: 0.0775 - val_accuracy: 0.9094\n",
      "Epoch 87/100\n",
      "83/83 [==============================] - 5s 63ms/step - loss: 0.0724 - accuracy: 0.9094 - val_loss: 0.0777 - val_accuracy: 0.9094\n",
      "Epoch 88/100\n",
      "83/83 [==============================] - 5s 62ms/step - loss: 0.0718 - accuracy: 0.9155 - val_loss: 0.0776 - val_accuracy: 0.9094\n",
      "Epoch 89/100\n",
      "83/83 [==============================] - 6s 68ms/step - loss: 0.0721 - accuracy: 0.9155 - val_loss: 0.0779 - val_accuracy: 0.9094\n",
      "Epoch 90/100\n",
      "83/83 [==============================] - 5s 61ms/step - loss: 0.0708 - accuracy: 0.9167 - val_loss: 0.0776 - val_accuracy: 0.9094\n",
      "Epoch 91/100\n",
      "83/83 [==============================] - 6s 67ms/step - loss: 0.0719 - accuracy: 0.9130 - val_loss: 0.0774 - val_accuracy: 0.9094\n",
      "Epoch 92/100\n",
      "83/83 [==============================] - 5s 59ms/step - loss: 0.0715 - accuracy: 0.9143 - val_loss: 0.0777 - val_accuracy: 0.9094\n",
      "Epoch 93/100\n",
      "83/83 [==============================] - 6s 68ms/step - loss: 0.0723 - accuracy: 0.9155 - val_loss: 0.0777 - val_accuracy: 0.9094\n",
      "Epoch 94/100\n",
      "83/83 [==============================] - 6s 68ms/step - loss: 0.0720 - accuracy: 0.9130 - val_loss: 0.0775 - val_accuracy: 0.9094\n",
      "Epoch 95/100\n",
      "83/83 [==============================] - 6s 67ms/step - loss: 0.0720 - accuracy: 0.9155 - val_loss: 0.0771 - val_accuracy: 0.9094\n",
      "Epoch 96/100\n",
      "83/83 [==============================] - 5s 65ms/step - loss: 0.0715 - accuracy: 0.9143 - val_loss: 0.0769 - val_accuracy: 0.9094\n",
      "Epoch 97/100\n",
      "83/83 [==============================] - 5s 58ms/step - loss: 0.0720 - accuracy: 0.9155 - val_loss: 0.0770 - val_accuracy: 0.9094\n",
      "Epoch 98/100\n",
      "83/83 [==============================] - 6s 67ms/step - loss: 0.0713 - accuracy: 0.9143 - val_loss: 0.0770 - val_accuracy: 0.9094\n",
      "Epoch 99/100\n",
      "83/83 [==============================] - 5s 58ms/step - loss: 0.0721 - accuracy: 0.9106 - val_loss: 0.0767 - val_accuracy: 0.9094\n",
      "Epoch 100/100\n",
      "83/83 [==============================] - 6s 67ms/step - loss: 0.0712 - accuracy: 0.9155 - val_loss: 0.0770 - val_accuracy: 0.9094\n",
      "Running time is 561.97 seconds per 100 epoches\n",
      "Test Accuracy: 0.909\n"
     ]
    }
   ],
   "source": [
    "hist_lstm_y2=model_trainer2(model_LSTM, y2, X, 100, 10, '0')"
   ]
  },
  {
   "cell_type": "code",
   "execution_count": 36,
   "metadata": {
    "colab": {
     "base_uri": "https://localhost:8080/",
     "height": 573
    },
    "id": "eWJ53nS4JUSf",
    "outputId": "89a48ae3-34f3-468b-ac80-8df518cd76ec"
   },
   "outputs": [
    {
     "data": {
      "image/png": "[encoded data removed]",
      "text/plain": [
       "<Figure size 432x288 with 1 Axes>"
      ]
     },
     "metadata": {
      "needs_background": "light",
      "tags": []
     },
     "output_type": "display_data"
    },
    {
     "data": {
      "image/png": "[encoded data removed]",
      "text/plain": [
       "<Figure size 432x288 with 1 Axes>"
      ]
     },
     "metadata": {
      "needs_background": "light",
      "tags": []
     },
     "output_type": "display_data"
    }
   ],
   "source": [
    "plot_metric(hist_lstm_y2,'loss')\n",
    "plot_metric(hist_lstm_y2,'accuracy')"
   ]
  },
  {
   "cell_type": "code",
   "execution_count": 37,
   "metadata": {
    "colab": {
     "base_uri": "https://localhost:8080/"
    },
    "id": "hekDVWGzmHPb",
    "outputId": "74004fa5-2757-42a1-bca8-1db2a70ff0ee"
   },
   "outputs": [
    {
     "name": "stdout",
     "output_type": "stream",
     "text": [
      "Epoch 1/100\n",
      " 3/83 [>.............................] - ETA: 3s - loss: 0.4320 - accuracy: 0.4667"
     ]
    },
    {
     "name": "stderr",
     "output_type": "stream",
     "text": [
      "/usr/local/lib/python3.7/dist-packages/tensorflow/python/data/ops/dataset_ops.py:3704: UserWarning: Even though the `tf.config.experimental_run_functions_eagerly` option is set, this option does not apply to tf.data functions. To force eager execution of tf.data functions, please use `tf.data.experimental.enable.debug_mode()`.\n",
      "  \"Even though the `tf.config.experimental_run_functions_eagerly` \"\n"
     ]
    },
    {
     "name": "stdout",
     "output_type": "stream",
     "text": [
      "83/83 [==============================] - 5s 58ms/step - loss: 0.3184 - accuracy: 0.6147 - val_loss: 0.2864 - val_accuracy: 0.6703\n",
      "Epoch 2/100\n",
      "83/83 [==============================] - 5s 57ms/step - loss: 0.2645 - accuracy: 0.6473 - val_loss: 0.2160 - val_accuracy: 0.6812\n",
      "Epoch 3/100\n",
      "83/83 [==============================] - 5s 63ms/step - loss: 0.2184 - accuracy: 0.6522 - val_loss: 0.2005 - val_accuracy: 0.6848\n",
      "Epoch 4/100\n",
      "83/83 [==============================] - 5s 55ms/step - loss: 0.2098 - accuracy: 0.6558 - val_loss: 0.1913 - val_accuracy: 0.6848\n",
      "Epoch 5/100\n",
      "83/83 [==============================] - 5s 64ms/step - loss: 0.1938 - accuracy: 0.6558 - val_loss: 0.1755 - val_accuracy: 0.6848\n",
      "Epoch 6/100\n",
      "83/83 [==============================] - 5s 63ms/step - loss: 0.1784 - accuracy: 0.6558 - val_loss: 0.1640 - val_accuracy: 0.6848\n",
      "Epoch 7/100\n",
      "83/83 [==============================] - 5s 63ms/step - loss: 0.1697 - accuracy: 0.6606 - val_loss: 0.1593 - val_accuracy: 0.6957\n",
      "Epoch 8/100\n",
      "83/83 [==============================] - 5s 56ms/step - loss: 0.1573 - accuracy: 0.7862 - val_loss: 0.1568 - val_accuracy: 0.8007\n",
      "Epoch 9/100\n",
      "83/83 [==============================] - 5s 58ms/step - loss: 0.1624 - accuracy: 0.7850 - val_loss: 0.1618 - val_accuracy: 0.7464\n",
      "Epoch 10/100\n",
      "83/83 [==============================] - 5s 58ms/step - loss: 0.1529 - accuracy: 0.8031 - val_loss: 0.1431 - val_accuracy: 0.8080\n",
      "Epoch 11/100\n",
      "83/83 [==============================] - 5s 57ms/step - loss: 0.1472 - accuracy: 0.8152 - val_loss: 0.1418 - val_accuracy: 0.8043\n",
      "Epoch 12/100\n",
      "83/83 [==============================] - 5s 56ms/step - loss: 0.1516 - accuracy: 0.8007 - val_loss: 0.1477 - val_accuracy: 0.7971\n",
      "Epoch 13/100\n",
      "83/83 [==============================] - 5s 57ms/step - loss: 0.1553 - accuracy: 0.7874 - val_loss: 0.1512 - val_accuracy: 0.7826\n",
      "Epoch 14/100\n",
      "83/83 [==============================] - 5s 57ms/step - loss: 0.1503 - accuracy: 0.7983 - val_loss: 0.1381 - val_accuracy: 0.8080\n",
      "Epoch 15/100\n",
      "83/83 [==============================] - 5s 58ms/step - loss: 0.1435 - accuracy: 0.8116 - val_loss: 0.1459 - val_accuracy: 0.7935\n",
      "Epoch 16/100\n",
      "83/83 [==============================] - 5s 57ms/step - loss: 0.1420 - accuracy: 0.8176 - val_loss: 0.1375 - val_accuracy: 0.8116\n",
      "Epoch 17/100\n",
      "83/83 [==============================] - 5s 55ms/step - loss: 0.1414 - accuracy: 0.8164 - val_loss: 0.1474 - val_accuracy: 0.7862\n",
      "Epoch 18/100\n",
      "83/83 [==============================] - 5s 65ms/step - loss: 0.1432 - accuracy: 0.8092 - val_loss: 0.1383 - val_accuracy: 0.8080\n",
      "Epoch 19/100\n",
      "83/83 [==============================] - 5s 59ms/step - loss: 0.1400 - accuracy: 0.8200 - val_loss: 0.1361 - val_accuracy: 0.8152\n",
      "Epoch 20/100\n",
      "83/83 [==============================] - 5s 58ms/step - loss: 0.1394 - accuracy: 0.8200 - val_loss: 0.1468 - val_accuracy: 0.7862\n",
      "Epoch 21/100\n",
      "83/83 [==============================] - 5s 61ms/step - loss: 0.1421 - accuracy: 0.8104 - val_loss: 0.1426 - val_accuracy: 0.8007\n",
      "Epoch 22/100\n",
      "83/83 [==============================] - 6s 67ms/step - loss: 0.1346 - accuracy: 0.8321 - val_loss: 0.1304 - val_accuracy: 0.8261\n",
      "Epoch 23/100\n",
      "83/83 [==============================] - 5s 55ms/step - loss: 0.1349 - accuracy: 0.8297 - val_loss: 0.1349 - val_accuracy: 0.8188\n",
      "Epoch 24/100\n",
      "83/83 [==============================] - 5s 65ms/step - loss: 0.1307 - accuracy: 0.8357 - val_loss: 0.1292 - val_accuracy: 0.8297\n",
      "Epoch 25/100\n",
      "83/83 [==============================] - 5s 59ms/step - loss: 0.1254 - accuracy: 0.8502 - val_loss: 0.1351 - val_accuracy: 0.8152\n",
      "Epoch 26/100\n",
      "83/83 [==============================] - 5s 59ms/step - loss: 0.1245 - accuracy: 0.8527 - val_loss: 0.1227 - val_accuracy: 0.8442\n",
      "Epoch 27/100\n",
      "83/83 [==============================] - 5s 60ms/step - loss: 0.1229 - accuracy: 0.8551 - val_loss: 0.1227 - val_accuracy: 0.8442\n",
      "Epoch 28/100\n",
      "83/83 [==============================] - 5s 57ms/step - loss: 0.1210 - accuracy: 0.8587 - val_loss: 0.1237 - val_accuracy: 0.8406\n",
      "Epoch 29/100\n",
      "83/83 [==============================] - 5s 57ms/step - loss: 0.1208 - accuracy: 0.8563 - val_loss: 0.1275 - val_accuracy: 0.8333\n",
      "Epoch 30/100\n",
      "83/83 [==============================] - 5s 60ms/step - loss: 0.1188 - accuracy: 0.8599 - val_loss: 0.1237 - val_accuracy: 0.8406\n",
      "Epoch 31/100\n",
      "83/83 [==============================] - 5s 60ms/step - loss: 0.1180 - accuracy: 0.8611 - val_loss: 0.1238 - val_accuracy: 0.8406\n",
      "Epoch 32/100\n",
      "83/83 [==============================] - 5s 59ms/step - loss: 0.1177 - accuracy: 0.8611 - val_loss: 0.1238 - val_accuracy: 0.8406\n",
      "Epoch 33/100\n",
      "83/83 [==============================] - 6s 67ms/step - loss: 0.1175 - accuracy: 0.8611 - val_loss: 0.1239 - val_accuracy: 0.8406\n",
      "Epoch 34/100\n",
      "83/83 [==============================] - 5s 64ms/step - loss: 0.1223 - accuracy: 0.8514 - val_loss: 0.1394 - val_accuracy: 0.8116\n",
      "Epoch 35/100\n",
      "83/83 [==============================] - 5s 65ms/step - loss: 0.1212 - accuracy: 0.8527 - val_loss: 0.1304 - val_accuracy: 0.8261\n",
      "Epoch 36/100\n",
      "83/83 [==============================] - 5s 66ms/step - loss: 0.1203 - accuracy: 0.8551 - val_loss: 0.1122 - val_accuracy: 0.8623\n",
      "Epoch 37/100\n",
      "83/83 [==============================] - 5s 60ms/step - loss: 0.1149 - accuracy: 0.8659 - val_loss: 0.1066 - val_accuracy: 0.8732\n",
      "Epoch 38/100\n",
      "83/83 [==============================] - 5s 66ms/step - loss: 0.1138 - accuracy: 0.8671 - val_loss: 0.1047 - val_accuracy: 0.8768\n",
      "Epoch 39/100\n",
      "83/83 [==============================] - 5s 66ms/step - loss: 0.1110 - accuracy: 0.8720 - val_loss: 0.1044 - val_accuracy: 0.8768\n",
      "Epoch 40/100\n",
      "83/83 [==============================] - 5s 64ms/step - loss: 0.1108 - accuracy: 0.8720 - val_loss: 0.1042 - val_accuracy: 0.8768\n",
      "Epoch 41/100\n",
      "83/83 [==============================] - 5s 66ms/step - loss: 0.1106 - accuracy: 0.8720 - val_loss: 0.1041 - val_accuracy: 0.8768\n",
      "Epoch 42/100\n",
      "83/83 [==============================] - 5s 66ms/step - loss: 0.1105 - accuracy: 0.8720 - val_loss: 0.1041 - val_accuracy: 0.8768\n",
      "Epoch 43/100\n",
      "83/83 [==============================] - 5s 60ms/step - loss: 0.1104 - accuracy: 0.8720 - val_loss: 0.1040 - val_accuracy: 0.8768\n",
      "Epoch 44/100\n",
      "83/83 [==============================] - 5s 58ms/step - loss: 0.1103 - accuracy: 0.8720 - val_loss: 0.1040 - val_accuracy: 0.8768\n",
      "Epoch 45/100\n",
      "83/83 [==============================] - 5s 65ms/step - loss: 0.1102 - accuracy: 0.8720 - val_loss: 0.1039 - val_accuracy: 0.8768\n",
      "Epoch 46/100\n",
      "83/83 [==============================] - 5s 57ms/step - loss: 0.1101 - accuracy: 0.8720 - val_loss: 0.1039 - val_accuracy: 0.8768\n",
      "Epoch 47/100\n",
      "83/83 [==============================] - 5s 59ms/step - loss: 0.1100 - accuracy: 0.8720 - val_loss: 0.1039 - val_accuracy: 0.8768\n",
      "Epoch 48/100\n",
      "83/83 [==============================] - 5s 59ms/step - loss: 0.1100 - accuracy: 0.8720 - val_loss: 0.1038 - val_accuracy: 0.8768\n",
      "Epoch 49/100\n",
      "83/83 [==============================] - 5s 65ms/step - loss: 0.1099 - accuracy: 0.8720 - val_loss: 0.1038 - val_accuracy: 0.8768\n",
      "Epoch 50/100\n",
      "83/83 [==============================] - 5s 59ms/step - loss: 0.1099 - accuracy: 0.8720 - val_loss: 0.1037 - val_accuracy: 0.8768\n",
      "Epoch 51/100\n",
      "83/83 [==============================] - 5s 63ms/step - loss: 0.1099 - accuracy: 0.8720 - val_loss: 0.1037 - val_accuracy: 0.8768\n",
      "Epoch 52/100\n",
      "83/83 [==============================] - 5s 57ms/step - loss: 0.1099 - accuracy: 0.8720 - val_loss: 0.1037 - val_accuracy: 0.8768\n",
      "Epoch 53/100\n",
      "83/83 [==============================] - 5s 59ms/step - loss: 0.1152 - accuracy: 0.8623 - val_loss: 0.1171 - val_accuracy: 0.8551\n",
      "Epoch 54/100\n",
      "83/83 [==============================] - 5s 59ms/step - loss: 0.1230 - accuracy: 0.8502 - val_loss: 0.1121 - val_accuracy: 0.8623\n",
      "Epoch 55/100\n",
      "83/83 [==============================] - 5s 59ms/step - loss: 0.1397 - accuracy: 0.8213 - val_loss: 0.1001 - val_accuracy: 0.8804\n",
      "Epoch 56/100\n",
      "83/83 [==============================] - 5s 59ms/step - loss: 0.1369 - accuracy: 0.8261 - val_loss: 0.1347 - val_accuracy: 0.8261\n",
      "Epoch 57/100\n",
      "83/83 [==============================] - 5s 65ms/step - loss: 0.1174 - accuracy: 0.8599 - val_loss: 0.1081 - val_accuracy: 0.8768\n",
      "Epoch 58/100\n",
      "83/83 [==============================] - 5s 59ms/step - loss: 0.1121 - accuracy: 0.8708 - val_loss: 0.0934 - val_accuracy: 0.8949\n",
      "Epoch 59/100\n",
      "83/83 [==============================] - 5s 59ms/step - loss: 0.1079 - accuracy: 0.8768 - val_loss: 0.1101 - val_accuracy: 0.8659\n",
      "Epoch 60/100\n",
      "83/83 [==============================] - 5s 66ms/step - loss: 0.1116 - accuracy: 0.8696 - val_loss: 0.0998 - val_accuracy: 0.8841\n",
      "Epoch 61/100\n",
      "83/83 [==============================] - 5s 65ms/step - loss: 0.1124 - accuracy: 0.8671 - val_loss: 0.1012 - val_accuracy: 0.8804\n",
      "Epoch 62/100\n",
      "83/83 [==============================] - 5s 57ms/step - loss: 0.1111 - accuracy: 0.8696 - val_loss: 0.1086 - val_accuracy: 0.8659\n",
      "Epoch 63/100\n",
      "83/83 [==============================] - 5s 59ms/step - loss: 0.1175 - accuracy: 0.8587 - val_loss: 0.0979 - val_accuracy: 0.8841\n",
      "Epoch 64/100\n",
      "83/83 [==============================] - 5s 59ms/step - loss: 0.1092 - accuracy: 0.8732 - val_loss: 0.0973 - val_accuracy: 0.8877\n",
      "Epoch 65/100\n",
      "83/83 [==============================] - 5s 56ms/step - loss: 0.1076 - accuracy: 0.8768 - val_loss: 0.0969 - val_accuracy: 0.8877\n",
      "Epoch 66/100\n",
      "83/83 [==============================] - 5s 55ms/step - loss: 0.1094 - accuracy: 0.8732 - val_loss: 0.1068 - val_accuracy: 0.8696\n",
      "Epoch 67/100\n",
      "83/83 [==============================] - 5s 62ms/step - loss: 0.1118 - accuracy: 0.8696 - val_loss: 0.0928 - val_accuracy: 0.8949\n",
      "Epoch 68/100\n",
      "83/83 [==============================] - 5s 63ms/step - loss: 0.1082 - accuracy: 0.8756 - val_loss: 0.0928 - val_accuracy: 0.8949\n",
      "Epoch 69/100\n",
      "83/83 [==============================] - 5s 59ms/step - loss: 0.1073 - accuracy: 0.8768 - val_loss: 0.0927 - val_accuracy: 0.8949\n",
      "Epoch 70/100\n",
      "83/83 [==============================] - 5s 66ms/step - loss: 0.1073 - accuracy: 0.8768 - val_loss: 0.0927 - val_accuracy: 0.8949\n",
      "Epoch 71/100\n",
      "83/83 [==============================] - 5s 60ms/step - loss: 0.1072 - accuracy: 0.8768 - val_loss: 0.0927 - val_accuracy: 0.8949\n",
      "Epoch 72/100\n",
      "83/83 [==============================] - 5s 60ms/step - loss: 0.1072 - accuracy: 0.8768 - val_loss: 0.0927 - val_accuracy: 0.8949\n",
      "Epoch 73/100\n",
      "83/83 [==============================] - 5s 60ms/step - loss: 0.1072 - accuracy: 0.8768 - val_loss: 0.0927 - val_accuracy: 0.8949\n",
      "Epoch 74/100\n",
      "83/83 [==============================] - 5s 60ms/step - loss: 0.1071 - accuracy: 0.8768 - val_loss: 0.0927 - val_accuracy: 0.8949\n",
      "Epoch 75/100\n",
      "83/83 [==============================] - 5s 61ms/step - loss: 0.1071 - accuracy: 0.8768 - val_loss: 0.0926 - val_accuracy: 0.8949\n",
      "Epoch 76/100\n",
      "83/83 [==============================] - 5s 60ms/step - loss: 0.1071 - accuracy: 0.8768 - val_loss: 0.0925 - val_accuracy: 0.8949\n",
      "Epoch 77/100\n",
      "83/83 [==============================] - 5s 61ms/step - loss: 0.1071 - accuracy: 0.8768 - val_loss: 0.0925 - val_accuracy: 0.8949\n",
      "Epoch 78/100\n",
      "83/83 [==============================] - 5s 62ms/step - loss: 0.1070 - accuracy: 0.8768 - val_loss: 0.0922 - val_accuracy: 0.8949\n",
      "Epoch 79/100\n",
      "83/83 [==============================] - 5s 63ms/step - loss: 0.1067 - accuracy: 0.8768 - val_loss: 0.0834 - val_accuracy: 0.9094\n",
      "Epoch 80/100\n",
      "83/83 [==============================] - 5s 61ms/step - loss: 0.1075 - accuracy: 0.8756 - val_loss: 0.0926 - val_accuracy: 0.8949\n",
      "Epoch 81/100\n",
      "83/83 [==============================] - 5s 60ms/step - loss: 0.1071 - accuracy: 0.8768 - val_loss: 0.0926 - val_accuracy: 0.8949\n",
      "Epoch 82/100\n",
      "83/83 [==============================] - 5s 61ms/step - loss: 0.1070 - accuracy: 0.8768 - val_loss: 0.0925 - val_accuracy: 0.8949\n",
      "Epoch 83/100\n",
      "83/83 [==============================] - 5s 59ms/step - loss: 0.1070 - accuracy: 0.8768 - val_loss: 0.0925 - val_accuracy: 0.8949\n",
      "Epoch 84/100\n",
      "83/83 [==============================] - 5s 59ms/step - loss: 0.1070 - accuracy: 0.8768 - val_loss: 0.0925 - val_accuracy: 0.8949\n",
      "Epoch 85/100\n",
      "83/83 [==============================] - 5s 65ms/step - loss: 0.1070 - accuracy: 0.8768 - val_loss: 0.0925 - val_accuracy: 0.8949\n",
      "Epoch 86/100\n",
      "83/83 [==============================] - 5s 59ms/step - loss: 0.1070 - accuracy: 0.8768 - val_loss: 0.0924 - val_accuracy: 0.8949\n",
      "Epoch 87/100\n",
      "83/83 [==============================] - 5s 58ms/step - loss: 0.1070 - accuracy: 0.8768 - val_loss: 0.0924 - val_accuracy: 0.8949\n",
      "Epoch 88/100\n",
      "83/83 [==============================] - 5s 57ms/step - loss: 0.1070 - accuracy: 0.8768 - val_loss: 0.0924 - val_accuracy: 0.8949\n",
      "Epoch 89/100\n",
      "83/83 [==============================] - 5s 60ms/step - loss: 0.1070 - accuracy: 0.8768 - val_loss: 0.0924 - val_accuracy: 0.8949\n",
      "Epoch 90/100\n",
      "83/83 [==============================] - 5s 65ms/step - loss: 0.1070 - accuracy: 0.8768 - val_loss: 0.0924 - val_accuracy: 0.8949\n",
      "Epoch 91/100\n",
      "83/83 [==============================] - 5s 59ms/step - loss: 0.1070 - accuracy: 0.8768 - val_loss: 0.0924 - val_accuracy: 0.8949\n",
      "Epoch 92/100\n",
      "83/83 [==============================] - 5s 63ms/step - loss: 0.1070 - accuracy: 0.8768 - val_loss: 0.0923 - val_accuracy: 0.8949\n",
      "Epoch 93/100\n",
      "83/83 [==============================] - 5s 58ms/step - loss: 0.1069 - accuracy: 0.8768 - val_loss: 0.0925 - val_accuracy: 0.8949\n",
      "Epoch 94/100\n",
      "83/83 [==============================] - 5s 59ms/step - loss: 0.1071 - accuracy: 0.8768 - val_loss: 0.0923 - val_accuracy: 0.8949\n",
      "Epoch 95/100\n",
      "83/83 [==============================] - 5s 60ms/step - loss: 0.1070 - accuracy: 0.8768 - val_loss: 0.0923 - val_accuracy: 0.8949\n",
      "Epoch 96/100\n",
      "83/83 [==============================] - 5s 58ms/step - loss: 0.1069 - accuracy: 0.8768 - val_loss: 0.0919 - val_accuracy: 0.8949\n",
      "Epoch 97/100\n",
      "83/83 [==============================] - 5s 57ms/step - loss: 0.1083 - accuracy: 0.8744 - val_loss: 0.0923 - val_accuracy: 0.8949\n",
      "Epoch 98/100\n",
      "83/83 [==============================] - 5s 58ms/step - loss: 0.1070 - accuracy: 0.8768 - val_loss: 0.0922 - val_accuracy: 0.8949\n",
      "Epoch 99/100\n",
      "83/83 [==============================] - 5s 59ms/step - loss: 0.1076 - accuracy: 0.8756 - val_loss: 0.0933 - val_accuracy: 0.8913\n",
      "Epoch 100/100\n",
      "83/83 [==============================] - 5s 57ms/step - loss: 0.1427 - accuracy: 0.8213 - val_loss: 0.1072 - val_accuracy: 0.8732\n",
      "Running time is 499.57 seconds per 100 epoches\n",
      "Test Accuracy: 0.841\n"
     ]
    }
   ],
   "source": [
    "hist_lstm_y3=model_trainer2(model_LSTM, y3, X, 100, 10, '0')"
   ]
  },
  {
   "cell_type": "code",
   "execution_count": 38,
   "metadata": {
    "colab": {
     "base_uri": "https://localhost:8080/",
     "height": 573
    },
    "id": "vImg9Q53q2F4",
    "outputId": "43efb44a-1b64-4464-92f1-51b3fdc2ab44"
   },
   "outputs": [
    {
     "data": {
      "image/png": "[encoded data removed]",
      "text/plain": [
       "<Figure size 432x288 with 1 Axes>"
      ]
     },
     "metadata": {
      "needs_background": "light",
      "tags": []
     },
     "output_type": "display_data"
    },
    {
     "data": {
      "image/png": "[encoded data removed]",
      "text/plain": [
       "<Figure size 432x288 with 1 Axes>"
      ]
     },
     "metadata": {
      "needs_background": "light",
      "tags": []
     },
     "output_type": "display_data"
    }
   ],
   "source": [
    "plot_metric(hist_lstm_y3,'loss')\n",
    "plot_metric(hist_lstm_y3,'accuracy')"
   ]
  },
  {
   "cell_type": "markdown",
   "metadata": {
    "id": "AGQsCIu9O6b3"
   },
   "source": [
    "### CM3- (iii)"
   ]
  },
  {
   "cell_type": "markdown",
   "metadata": {
    "id": "kXqy1v8-O-V-"
   },
   "source": [
    "Below is a neural network which has been trained based upon the LSTM architecture exactly similar to the previous one. The only difference is that we have used the **'sgd'** optimizer here to see the changes in the performance."
   ]
  },
  {
   "cell_type": "code",
   "execution_count": 39,
   "metadata": {
    "id": "Lhq24mlVJeNl"
   },
   "outputs": [],
   "source": [
    "# LSTM with sgd\n",
    "model_LSTM.compile(loss='mse',\n",
    "              optimizer='sgd',\n",
    "              metrics=['accuracy'])"
   ]
  },
  {
   "cell_type": "code",
   "execution_count": 40,
   "metadata": {
    "colab": {
     "base_uri": "https://localhost:8080/"
    },
    "id": "PT55wp74LgiU",
    "outputId": "2e5f8591-cd59-4032-f260-f4693d7b2adc"
   },
   "outputs": [
    {
     "name": "stdout",
     "output_type": "stream",
     "text": [
      "Epoch 1/100\n",
      " 2/83 [..............................] - ETA: 4s - loss: 0.2143 - accuracy: 0.7000"
     ]
    },
    {
     "name": "stderr",
     "output_type": "stream",
     "text": [
      "/usr/local/lib/python3.7/dist-packages/tensorflow/python/data/ops/dataset_ops.py:3704: UserWarning: Even though the `tf.config.experimental_run_functions_eagerly` option is set, this option does not apply to tf.data functions. To force eager execution of tf.data functions, please use `tf.data.experimental.enable.debug_mode()`.\n",
      "  \"Even though the `tf.config.experimental_run_functions_eagerly` \"\n"
     ]
    },
    {
     "name": "stdout",
     "output_type": "stream",
     "text": [
      "83/83 [==============================] - 5s 56ms/step - loss: 0.2781 - accuracy: 0.6137 - val_loss: 0.2791 - val_accuracy: 0.6087\n",
      "Epoch 2/100\n",
      "83/83 [==============================] - 4s 53ms/step - loss: 0.2488 - accuracy: 0.6449 - val_loss: 0.2642 - val_accuracy: 0.6159\n",
      "Epoch 3/100\n",
      "83/83 [==============================] - 4s 54ms/step - loss: 0.2205 - accuracy: 0.6691 - val_loss: 0.2161 - val_accuracy: 0.6594\n",
      "Epoch 4/100\n",
      "83/83 [==============================] - 4s 53ms/step - loss: 0.1827 - accuracy: 0.7058 - val_loss: 0.2036 - val_accuracy: 0.6630\n",
      "Epoch 5/100\n",
      "83/83 [==============================] - 4s 54ms/step - loss: 0.1756 - accuracy: 0.7025 - val_loss: 0.1919 - val_accuracy: 0.6630\n",
      "Epoch 6/100\n",
      "83/83 [==============================] - 4s 53ms/step - loss: 0.1723 - accuracy: 0.6899 - val_loss: 0.1800 - val_accuracy: 0.6630\n",
      "Epoch 7/100\n",
      "83/83 [==============================] - 4s 54ms/step - loss: 0.1653 - accuracy: 0.6919 - val_loss: 0.1681 - val_accuracy: 0.6630\n",
      "Epoch 8/100\n",
      "83/83 [==============================] - 4s 53ms/step - loss: 0.1467 - accuracy: 0.6969 - val_loss: 0.1565 - val_accuracy: 0.6630\n",
      "Epoch 9/100\n",
      "83/83 [==============================] - 4s 54ms/step - loss: 0.1427 - accuracy: 0.6780 - val_loss: 0.1455 - val_accuracy: 0.6630\n",
      "Epoch 10/100\n",
      "83/83 [==============================] - 4s 54ms/step - loss: 0.1225 - accuracy: 0.7105 - val_loss: 0.1351 - val_accuracy: 0.6630\n",
      "Epoch 11/100\n",
      "83/83 [==============================] - 5s 54ms/step - loss: 0.1191 - accuracy: 0.6903 - val_loss: 0.1257 - val_accuracy: 0.6667\n",
      "Epoch 12/100\n",
      "83/83 [==============================] - 4s 54ms/step - loss: 0.1119 - accuracy: 0.6858 - val_loss: 0.1172 - val_accuracy: 0.6703\n",
      "Epoch 13/100\n",
      "83/83 [==============================] - 5s 55ms/step - loss: 0.0985 - accuracy: 0.8272 - val_loss: 0.1097 - val_accuracy: 0.9384\n",
      "Epoch 14/100\n",
      "83/83 [==============================] - 5s 62ms/step - loss: 0.0884 - accuracy: 0.9553 - val_loss: 0.1031 - val_accuracy: 0.9384\n",
      "Epoch 15/100\n",
      "83/83 [==============================] - 5s 64ms/step - loss: 0.0869 - accuracy: 0.9610 - val_loss: 0.0973 - val_accuracy: 0.9384\n",
      "Epoch 16/100\n",
      "83/83 [==============================] - 5s 57ms/step - loss: 0.0869 - accuracy: 0.9479 - val_loss: 0.0922 - val_accuracy: 0.9384\n",
      "Epoch 17/100\n",
      "83/83 [==============================] - 5s 58ms/step - loss: 0.0796 - accuracy: 0.9507 - val_loss: 0.0879 - val_accuracy: 0.9384\n",
      "Epoch 18/100\n",
      "83/83 [==============================] - 5s 56ms/step - loss: 0.0828 - accuracy: 0.9471 - val_loss: 0.0840 - val_accuracy: 0.9384\n",
      "Epoch 19/100\n",
      "83/83 [==============================] - 5s 56ms/step - loss: 0.0884 - accuracy: 0.9321 - val_loss: 0.0807 - val_accuracy: 0.9384\n",
      "Epoch 20/100\n",
      "83/83 [==============================] - 5s 59ms/step - loss: 0.0640 - accuracy: 0.9536 - val_loss: 0.0778 - val_accuracy: 0.9384\n",
      "Epoch 21/100\n",
      "83/83 [==============================] - 5s 58ms/step - loss: 0.0660 - accuracy: 0.9574 - val_loss: 0.0752 - val_accuracy: 0.9384\n",
      "Epoch 22/100\n",
      "83/83 [==============================] - 5s 57ms/step - loss: 0.0673 - accuracy: 0.9494 - val_loss: 0.0730 - val_accuracy: 0.9384\n",
      "Epoch 23/100\n",
      "83/83 [==============================] - 5s 64ms/step - loss: 0.0702 - accuracy: 0.9403 - val_loss: 0.0710 - val_accuracy: 0.9384\n",
      "Epoch 24/100\n",
      "83/83 [==============================] - 5s 60ms/step - loss: 0.0652 - accuracy: 0.9428 - val_loss: 0.0691 - val_accuracy: 0.9384\n",
      "Epoch 25/100\n",
      "83/83 [==============================] - 5s 57ms/step - loss: 0.0583 - accuracy: 0.9498 - val_loss: 0.0676 - val_accuracy: 0.9384\n",
      "Epoch 26/100\n",
      "83/83 [==============================] - 5s 57ms/step - loss: 0.0618 - accuracy: 0.9451 - val_loss: 0.0661 - val_accuracy: 0.9384\n",
      "Epoch 27/100\n",
      "83/83 [==============================] - 5s 55ms/step - loss: 0.0727 - accuracy: 0.9315 - val_loss: 0.0648 - val_accuracy: 0.9384\n",
      "Epoch 28/100\n",
      "83/83 [==============================] - 5s 56ms/step - loss: 0.0562 - accuracy: 0.9484 - val_loss: 0.0636 - val_accuracy: 0.9384\n",
      "Epoch 29/100\n",
      "83/83 [==============================] - 5s 58ms/step - loss: 0.0548 - accuracy: 0.9500 - val_loss: 0.0626 - val_accuracy: 0.9384\n",
      "Epoch 30/100\n",
      "83/83 [==============================] - 5s 58ms/step - loss: 0.0604 - accuracy: 0.9418 - val_loss: 0.0616 - val_accuracy: 0.9384\n",
      "Epoch 31/100\n",
      "83/83 [==============================] - 5s 59ms/step - loss: 0.0604 - accuracy: 0.9423 - val_loss: 0.0607 - val_accuracy: 0.9384\n",
      "Epoch 32/100\n",
      "83/83 [==============================] - 5s 58ms/step - loss: 0.0549 - accuracy: 0.9538 - val_loss: 0.0599 - val_accuracy: 0.9384\n",
      "Epoch 33/100\n",
      "83/83 [==============================] - 5s 63ms/step - loss: 0.0563 - accuracy: 0.9477 - val_loss: 0.0592 - val_accuracy: 0.9384\n",
      "Epoch 34/100\n",
      "83/83 [==============================] - 5s 55ms/step - loss: 0.0588 - accuracy: 0.9413 - val_loss: 0.0585 - val_accuracy: 0.9384\n",
      "Epoch 35/100\n",
      "83/83 [==============================] - 5s 57ms/step - loss: 0.0575 - accuracy: 0.9413 - val_loss: 0.0578 - val_accuracy: 0.9384\n",
      "Epoch 36/100\n",
      "83/83 [==============================] - 5s 56ms/step - loss: 0.0468 - accuracy: 0.9545 - val_loss: 0.0572 - val_accuracy: 0.9384\n",
      "Epoch 37/100\n",
      "83/83 [==============================] - 5s 58ms/step - loss: 0.0571 - accuracy: 0.9415 - val_loss: 0.0567 - val_accuracy: 0.9384\n",
      "Epoch 38/100\n",
      "83/83 [==============================] - 5s 58ms/step - loss: 0.0585 - accuracy: 0.9379 - val_loss: 0.0562 - val_accuracy: 0.9384\n",
      "Epoch 39/100\n",
      "83/83 [==============================] - 5s 64ms/step - loss: 0.0504 - accuracy: 0.9500 - val_loss: 0.0557 - val_accuracy: 0.9384\n",
      "Epoch 40/100\n",
      "83/83 [==============================] - 5s 63ms/step - loss: 0.0582 - accuracy: 0.9402 - val_loss: 0.0552 - val_accuracy: 0.9384\n",
      "Epoch 41/100\n",
      "83/83 [==============================] - 5s 56ms/step - loss: 0.0638 - accuracy: 0.9358 - val_loss: 0.0548 - val_accuracy: 0.9384\n",
      "Epoch 42/100\n",
      "83/83 [==============================] - 5s 57ms/step - loss: 0.0578 - accuracy: 0.9390 - val_loss: 0.0544 - val_accuracy: 0.9384\n",
      "Epoch 43/100\n",
      "83/83 [==============================] - 5s 62ms/step - loss: 0.0551 - accuracy: 0.9436 - val_loss: 0.0540 - val_accuracy: 0.9384\n",
      "Epoch 44/100\n",
      "83/83 [==============================] - 5s 56ms/step - loss: 0.0500 - accuracy: 0.9470 - val_loss: 0.0536 - val_accuracy: 0.9384\n",
      "Epoch 45/100\n",
      "83/83 [==============================] - 5s 57ms/step - loss: 0.0599 - accuracy: 0.9358 - val_loss: 0.0533 - val_accuracy: 0.9384\n",
      "Epoch 46/100\n",
      "83/83 [==============================] - 5s 64ms/step - loss: 0.0463 - accuracy: 0.9522 - val_loss: 0.0529 - val_accuracy: 0.9384\n",
      "Epoch 47/100\n",
      "83/83 [==============================] - 5s 62ms/step - loss: 0.0546 - accuracy: 0.9429 - val_loss: 0.0526 - val_accuracy: 0.9384\n",
      "Epoch 48/100\n",
      "83/83 [==============================] - 5s 57ms/step - loss: 0.0498 - accuracy: 0.9465 - val_loss: 0.0523 - val_accuracy: 0.9384\n",
      "Epoch 49/100\n",
      "83/83 [==============================] - 5s 56ms/step - loss: 0.0527 - accuracy: 0.9443 - val_loss: 0.0520 - val_accuracy: 0.9384\n",
      "Epoch 50/100\n",
      "83/83 [==============================] - 5s 57ms/step - loss: 0.0569 - accuracy: 0.9359 - val_loss: 0.0517 - val_accuracy: 0.9384\n",
      "Epoch 51/100\n",
      "83/83 [==============================] - 5s 63ms/step - loss: 0.0539 - accuracy: 0.9417 - val_loss: 0.0515 - val_accuracy: 0.9384\n",
      "Epoch 52/100\n",
      "83/83 [==============================] - 5s 58ms/step - loss: 0.0487 - accuracy: 0.9467 - val_loss: 0.0512 - val_accuracy: 0.9384\n",
      "Epoch 53/100\n",
      "83/83 [==============================] - 5s 56ms/step - loss: 0.0389 - accuracy: 0.9572 - val_loss: 0.0510 - val_accuracy: 0.9384\n",
      "Epoch 54/100\n",
      "83/83 [==============================] - 5s 56ms/step - loss: 0.0517 - accuracy: 0.9432 - val_loss: 0.0507 - val_accuracy: 0.9384\n",
      "Epoch 55/100\n",
      "83/83 [==============================] - 5s 63ms/step - loss: 0.0454 - accuracy: 0.9505 - val_loss: 0.0505 - val_accuracy: 0.9384\n",
      "Epoch 56/100\n",
      "83/83 [==============================] - 5s 56ms/step - loss: 0.0527 - accuracy: 0.9398 - val_loss: 0.0503 - val_accuracy: 0.9384\n",
      "Epoch 57/100\n",
      "83/83 [==============================] - 5s 56ms/step - loss: 0.0554 - accuracy: 0.9380 - val_loss: 0.0501 - val_accuracy: 0.9384\n",
      "Epoch 58/100\n",
      "83/83 [==============================] - 5s 57ms/step - loss: 0.0582 - accuracy: 0.9332 - val_loss: 0.0498 - val_accuracy: 0.9384\n",
      "Epoch 59/100\n",
      "83/83 [==============================] - 5s 64ms/step - loss: 0.0629 - accuracy: 0.9300 - val_loss: 0.0496 - val_accuracy: 0.9384\n",
      "Epoch 60/100\n",
      "83/83 [==============================] - 5s 57ms/step - loss: 0.0463 - accuracy: 0.9519 - val_loss: 0.0494 - val_accuracy: 0.9384\n",
      "Epoch 61/100\n",
      "83/83 [==============================] - 5s 63ms/step - loss: 0.0497 - accuracy: 0.9456 - val_loss: 0.0492 - val_accuracy: 0.9384\n",
      "Epoch 62/100\n",
      "83/83 [==============================] - 5s 56ms/step - loss: 0.0509 - accuracy: 0.9424 - val_loss: 0.0491 - val_accuracy: 0.9384\n",
      "Epoch 63/100\n",
      "83/83 [==============================] - 5s 64ms/step - loss: 0.0487 - accuracy: 0.9446 - val_loss: 0.0489 - val_accuracy: 0.9384\n",
      "Epoch 64/100\n",
      "83/83 [==============================] - 5s 62ms/step - loss: 0.0483 - accuracy: 0.9432 - val_loss: 0.0487 - val_accuracy: 0.9384\n",
      "Epoch 65/100\n",
      "83/83 [==============================] - 5s 64ms/step - loss: 0.0527 - accuracy: 0.9412 - val_loss: 0.0485 - val_accuracy: 0.9384\n",
      "Epoch 66/100\n",
      "83/83 [==============================] - 5s 56ms/step - loss: 0.0508 - accuracy: 0.9422 - val_loss: 0.0483 - val_accuracy: 0.9384\n",
      "Epoch 67/100\n",
      "83/83 [==============================] - 5s 57ms/step - loss: 0.0454 - accuracy: 0.9488 - val_loss: 0.0482 - val_accuracy: 0.9384\n",
      "Epoch 68/100\n",
      "83/83 [==============================] - 5s 58ms/step - loss: 0.0529 - accuracy: 0.9408 - val_loss: 0.0480 - val_accuracy: 0.9384\n",
      "Epoch 69/100\n",
      "83/83 [==============================] - 5s 57ms/step - loss: 0.0548 - accuracy: 0.9386 - val_loss: 0.0478 - val_accuracy: 0.9384\n",
      "Epoch 70/100\n",
      "83/83 [==============================] - 5s 58ms/step - loss: 0.0506 - accuracy: 0.9422 - val_loss: 0.0477 - val_accuracy: 0.9384\n",
      "Epoch 71/100\n",
      "83/83 [==============================] - 5s 56ms/step - loss: 0.0444 - accuracy: 0.9482 - val_loss: 0.0475 - val_accuracy: 0.9384\n",
      "Epoch 72/100\n",
      "83/83 [==============================] - 5s 57ms/step - loss: 0.0395 - accuracy: 0.9536 - val_loss: 0.0473 - val_accuracy: 0.9384\n",
      "Epoch 73/100\n",
      "83/83 [==============================] - 5s 57ms/step - loss: 0.0615 - accuracy: 0.9310 - val_loss: 0.0472 - val_accuracy: 0.9384\n",
      "Epoch 74/100\n",
      "83/83 [==============================] - 5s 57ms/step - loss: 0.0483 - accuracy: 0.9444 - val_loss: 0.0470 - val_accuracy: 0.9384\n",
      "Epoch 75/100\n",
      "83/83 [==============================] - 5s 57ms/step - loss: 0.0564 - accuracy: 0.9344 - val_loss: 0.0469 - val_accuracy: 0.9384\n",
      "Epoch 76/100\n",
      "83/83 [==============================] - 5s 55ms/step - loss: 0.0510 - accuracy: 0.9419 - val_loss: 0.0467 - val_accuracy: 0.9384\n",
      "Epoch 77/100\n",
      "83/83 [==============================] - 5s 56ms/step - loss: 0.0534 - accuracy: 0.9409 - val_loss: 0.0466 - val_accuracy: 0.9384\n",
      "Epoch 78/100\n",
      "83/83 [==============================] - 5s 57ms/step - loss: 0.0469 - accuracy: 0.9466 - val_loss: 0.0464 - val_accuracy: 0.9384\n",
      "Epoch 79/100\n",
      "83/83 [==============================] - 5s 63ms/step - loss: 0.0499 - accuracy: 0.9415 - val_loss: 0.0462 - val_accuracy: 0.9384\n",
      "Epoch 80/100\n",
      "83/83 [==============================] - 5s 57ms/step - loss: 0.0532 - accuracy: 0.9362 - val_loss: 0.0461 - val_accuracy: 0.9384\n",
      "Epoch 81/100\n",
      "83/83 [==============================] - 5s 63ms/step - loss: 0.0434 - accuracy: 0.9503 - val_loss: 0.0459 - val_accuracy: 0.9384\n",
      "Epoch 82/100\n",
      "83/83 [==============================] - 5s 57ms/step - loss: 0.0410 - accuracy: 0.9529 - val_loss: 0.0457 - val_accuracy: 0.9384\n",
      "Epoch 83/100\n",
      "83/83 [==============================] - 5s 63ms/step - loss: 0.0458 - accuracy: 0.9473 - val_loss: 0.0455 - val_accuracy: 0.9384\n",
      "Epoch 84/100\n",
      "83/83 [==============================] - 5s 64ms/step - loss: 0.0460 - accuracy: 0.9453 - val_loss: 0.0452 - val_accuracy: 0.9384\n",
      "Epoch 85/100\n",
      "83/83 [==============================] - 5s 56ms/step - loss: 0.0562 - accuracy: 0.9350 - val_loss: 0.0449 - val_accuracy: 0.9384\n",
      "Epoch 86/100\n",
      "83/83 [==============================] - 5s 56ms/step - loss: 0.0507 - accuracy: 0.9375 - val_loss: 0.0445 - val_accuracy: 0.9384\n",
      "Epoch 87/100\n",
      "83/83 [==============================] - 5s 55ms/step - loss: 0.0475 - accuracy: 0.9425 - val_loss: 0.0438 - val_accuracy: 0.9384\n",
      "Epoch 88/100\n",
      "83/83 [==============================] - 5s 63ms/step - loss: 0.0536 - accuracy: 0.9334 - val_loss: 0.0419 - val_accuracy: 0.9384\n",
      "Epoch 89/100\n",
      "83/83 [==============================] - 5s 56ms/step - loss: 0.0442 - accuracy: 0.9477 - val_loss: 0.0346 - val_accuracy: 0.9710\n",
      "Epoch 90/100\n",
      "83/83 [==============================] - 5s 57ms/step - loss: 0.0376 - accuracy: 0.9636 - val_loss: 0.0295 - val_accuracy: 0.9710\n",
      "Epoch 91/100\n",
      "83/83 [==============================] - 5s 56ms/step - loss: 0.0382 - accuracy: 0.9609 - val_loss: 0.0291 - val_accuracy: 0.9710\n",
      "Epoch 92/100\n",
      "83/83 [==============================] - 5s 56ms/step - loss: 0.0523 - accuracy: 0.9459 - val_loss: 0.0290 - val_accuracy: 0.9710\n",
      "Epoch 93/100\n",
      "83/83 [==============================] - 5s 64ms/step - loss: 0.0376 - accuracy: 0.9610 - val_loss: 0.0290 - val_accuracy: 0.9710\n",
      "Epoch 94/100\n",
      "83/83 [==============================] - 5s 64ms/step - loss: 0.0413 - accuracy: 0.9571 - val_loss: 0.0289 - val_accuracy: 0.9710\n",
      "Epoch 95/100\n",
      "83/83 [==============================] - 5s 62ms/step - loss: 0.0379 - accuracy: 0.9612 - val_loss: 0.0289 - val_accuracy: 0.9710\n",
      "Epoch 96/100\n",
      "83/83 [==============================] - 5s 56ms/step - loss: 0.0445 - accuracy: 0.9520 - val_loss: 0.0288 - val_accuracy: 0.9710\n",
      "Epoch 97/100\n",
      "83/83 [==============================] - 5s 64ms/step - loss: 0.0461 - accuracy: 0.9524 - val_loss: 0.0288 - val_accuracy: 0.9710\n",
      "Epoch 98/100\n",
      "83/83 [==============================] - 5s 58ms/step - loss: 0.0371 - accuracy: 0.9626 - val_loss: 0.0288 - val_accuracy: 0.9710\n",
      "Epoch 99/100\n",
      "83/83 [==============================] - 5s 56ms/step - loss: 0.0385 - accuracy: 0.9613 - val_loss: 0.0288 - val_accuracy: 0.9710\n",
      "Epoch 100/100\n",
      "83/83 [==============================] - 5s 59ms/step - loss: 0.0364 - accuracy: 0.9629 - val_loss: 0.0288 - val_accuracy: 0.9710\n",
      "Running time is 501.98 seconds per 100 epoches\n",
      "Test Accuracy: 0.971\n"
     ]
    }
   ],
   "source": [
    "hist_lstm_y1_sgd=model_trainer2(model_LSTM, y1, X,  100, 10, '0')"
   ]
  },
  {
   "cell_type": "code",
   "execution_count": 41,
   "metadata": {
    "colab": {
     "base_uri": "https://localhost:8080/",
     "height": 573
    },
    "id": "i-k8ODKwW07g",
    "outputId": "43e95123-b42f-4a13-b3ba-ebbc41cfb723"
   },
   "outputs": [
    {
     "data": {
      "image/png": "[encoded data removed]",
      "text/plain": [
       "<Figure size 432x288 with 1 Axes>"
      ]
     },
     "metadata": {
      "needs_background": "light",
      "tags": []
     },
     "output_type": "display_data"
    },
    {
     "data": {
      "image/png": "[encoded data removed]",
      "text/plain": [
       "<Figure size 432x288 with 1 Axes>"
      ]
     },
     "metadata": {
      "needs_background": "light",
      "tags": []
     },
     "output_type": "display_data"
    }
   ],
   "source": [
    "plot_metric(hist_lstm_y1_sgd,'loss')\n",
    "plot_metric(hist_lstm_y1_sgd,'accuracy')"
   ]
  },
  {
   "cell_type": "code",
   "execution_count": 42,
   "metadata": {
    "colab": {
     "base_uri": "https://localhost:8080/"
    },
    "id": "Y3O6yjVqmiwi",
    "outputId": "a5573554-82fe-4aba-e030-03b2e23bc97c"
   },
   "outputs": [
    {
     "name": "stdout",
     "output_type": "stream",
     "text": [
      "Epoch 1/100\n",
      " 3/83 [>.............................] - ETA: 3s - loss: 0.0307 - accuracy: 0.9667"
     ]
    },
    {
     "name": "stderr",
     "output_type": "stream",
     "text": [
      "/usr/local/lib/python3.7/dist-packages/tensorflow/python/data/ops/dataset_ops.py:3704: UserWarning: Even though the `tf.config.experimental_run_functions_eagerly` option is set, this option does not apply to tf.data functions. To force eager execution of tf.data functions, please use `tf.data.experimental.enable.debug_mode()`.\n",
      "  \"Even though the `tf.config.experimental_run_functions_eagerly` \"\n"
     ]
    },
    {
     "name": "stdout",
     "output_type": "stream",
     "text": [
      "83/83 [==============================] - 5s 58ms/step - loss: 0.0954 - accuracy: 0.9010 - val_loss: 0.0975 - val_accuracy: 0.8986\n",
      "Epoch 2/100\n",
      "83/83 [==============================] - 5s 63ms/step - loss: 0.0950 - accuracy: 0.9010 - val_loss: 0.0958 - val_accuracy: 0.8986\n",
      "Epoch 3/100\n",
      "83/83 [==============================] - 5s 58ms/step - loss: 0.0939 - accuracy: 0.9010 - val_loss: 0.0946 - val_accuracy: 0.8986\n",
      "Epoch 4/100\n",
      "83/83 [==============================] - 5s 56ms/step - loss: 0.0933 - accuracy: 0.8998 - val_loss: 0.0952 - val_accuracy: 0.8986\n",
      "Epoch 5/100\n",
      "83/83 [==============================] - 5s 55ms/step - loss: 0.0931 - accuracy: 0.9010 - val_loss: 0.0951 - val_accuracy: 0.8986\n",
      "Epoch 6/100\n",
      "83/83 [==============================] - 5s 56ms/step - loss: 0.0932 - accuracy: 0.9010 - val_loss: 0.0955 - val_accuracy: 0.9094\n",
      "Epoch 7/100\n",
      "83/83 [==============================] - 5s 56ms/step - loss: 0.0931 - accuracy: 0.8986 - val_loss: 0.0951 - val_accuracy: 0.9058\n",
      "Epoch 8/100\n",
      "83/83 [==============================] - 5s 55ms/step - loss: 0.0931 - accuracy: 0.8998 - val_loss: 0.0952 - val_accuracy: 0.9094\n",
      "Epoch 9/100\n",
      "83/83 [==============================] - 5s 62ms/step - loss: 0.0931 - accuracy: 0.9010 - val_loss: 0.0949 - val_accuracy: 0.8986\n",
      "Epoch 10/100\n",
      "83/83 [==============================] - 5s 57ms/step - loss: 0.0932 - accuracy: 0.8998 - val_loss: 0.0950 - val_accuracy: 0.8986\n",
      "Epoch 11/100\n",
      "83/83 [==============================] - 5s 62ms/step - loss: 0.0931 - accuracy: 0.9010 - val_loss: 0.0949 - val_accuracy: 0.8986\n",
      "Epoch 12/100\n",
      "83/83 [==============================] - 5s 56ms/step - loss: 0.0931 - accuracy: 0.9010 - val_loss: 0.0951 - val_accuracy: 0.9094\n",
      "Epoch 13/100\n",
      "83/83 [==============================] - 5s 57ms/step - loss: 0.0931 - accuracy: 0.8998 - val_loss: 0.0949 - val_accuracy: 0.8986\n",
      "Epoch 14/100\n",
      "83/83 [==============================] - 5s 55ms/step - loss: 0.0930 - accuracy: 0.9022 - val_loss: 0.0949 - val_accuracy: 0.9058\n",
      "Epoch 15/100\n",
      "83/83 [==============================] - 5s 57ms/step - loss: 0.0931 - accuracy: 0.9010 - val_loss: 0.0953 - val_accuracy: 0.9058\n",
      "Epoch 16/100\n",
      "83/83 [==============================] - 5s 62ms/step - loss: 0.0930 - accuracy: 0.8973 - val_loss: 0.0952 - val_accuracy: 0.9058\n",
      "Epoch 17/100\n",
      "83/83 [==============================] - 5s 55ms/step - loss: 0.0930 - accuracy: 0.8998 - val_loss: 0.0950 - val_accuracy: 0.9094\n",
      "Epoch 18/100\n",
      "83/83 [==============================] - 5s 63ms/step - loss: 0.0930 - accuracy: 0.9022 - val_loss: 0.0949 - val_accuracy: 0.9094\n",
      "Epoch 19/100\n",
      "83/83 [==============================] - 5s 56ms/step - loss: 0.0930 - accuracy: 0.8986 - val_loss: 0.0948 - val_accuracy: 0.9094\n",
      "Epoch 20/100\n",
      "83/83 [==============================] - 5s 55ms/step - loss: 0.0930 - accuracy: 0.8998 - val_loss: 0.0947 - val_accuracy: 0.9058\n",
      "Epoch 21/100\n",
      "83/83 [==============================] - 5s 63ms/step - loss: 0.0930 - accuracy: 0.9022 - val_loss: 0.0948 - val_accuracy: 0.9094\n",
      "Epoch 22/100\n",
      "83/83 [==============================] - 5s 62ms/step - loss: 0.0930 - accuracy: 0.8986 - val_loss: 0.0949 - val_accuracy: 0.9094\n",
      "Epoch 23/100\n",
      "83/83 [==============================] - 5s 63ms/step - loss: 0.0929 - accuracy: 0.8998 - val_loss: 0.0948 - val_accuracy: 0.9094\n",
      "Epoch 24/100\n",
      "83/83 [==============================] - 5s 55ms/step - loss: 0.0930 - accuracy: 0.8998 - val_loss: 0.0949 - val_accuracy: 0.9058\n",
      "Epoch 25/100\n",
      "83/83 [==============================] - 5s 55ms/step - loss: 0.0929 - accuracy: 0.8998 - val_loss: 0.0947 - val_accuracy: 0.9094\n",
      "Epoch 26/100\n",
      "83/83 [==============================] - 5s 59ms/step - loss: 0.0930 - accuracy: 0.8998 - val_loss: 0.0951 - val_accuracy: 0.9022\n",
      "Epoch 27/100\n",
      "83/83 [==============================] - 5s 56ms/step - loss: 0.0929 - accuracy: 0.8998 - val_loss: 0.0953 - val_accuracy: 0.8986\n",
      "Epoch 28/100\n",
      "83/83 [==============================] - 5s 57ms/step - loss: 0.0929 - accuracy: 0.8998 - val_loss: 0.0952 - val_accuracy: 0.8986\n",
      "Epoch 29/100\n",
      "83/83 [==============================] - 5s 64ms/step - loss: 0.0929 - accuracy: 0.8998 - val_loss: 0.0950 - val_accuracy: 0.9022\n",
      "Epoch 30/100\n",
      "83/83 [==============================] - 5s 57ms/step - loss: 0.0930 - accuracy: 0.8998 - val_loss: 0.0948 - val_accuracy: 0.9058\n",
      "Epoch 31/100\n",
      "83/83 [==============================] - 5s 64ms/step - loss: 0.0928 - accuracy: 0.9010 - val_loss: 0.0952 - val_accuracy: 0.8986\n",
      "Epoch 32/100\n",
      "83/83 [==============================] - 5s 65ms/step - loss: 0.0928 - accuracy: 0.8998 - val_loss: 0.0950 - val_accuracy: 0.9022\n",
      "Epoch 33/100\n",
      "83/83 [==============================] - 5s 57ms/step - loss: 0.0928 - accuracy: 0.9010 - val_loss: 0.0949 - val_accuracy: 0.9022\n",
      "Epoch 34/100\n",
      "83/83 [==============================] - 5s 59ms/step - loss: 0.0929 - accuracy: 0.9010 - val_loss: 0.0947 - val_accuracy: 0.9058\n",
      "Epoch 35/100\n",
      "83/83 [==============================] - 5s 66ms/step - loss: 0.0928 - accuracy: 0.9010 - val_loss: 0.0944 - val_accuracy: 0.9094\n",
      "Epoch 36/100\n",
      "83/83 [==============================] - 5s 65ms/step - loss: 0.0929 - accuracy: 0.9010 - val_loss: 0.0946 - val_accuracy: 0.9058\n",
      "Epoch 37/100\n",
      "83/83 [==============================] - 5s 59ms/step - loss: 0.0928 - accuracy: 0.9022 - val_loss: 0.0943 - val_accuracy: 0.9094\n",
      "Epoch 38/100\n",
      "83/83 [==============================] - 5s 64ms/step - loss: 0.0928 - accuracy: 0.8998 - val_loss: 0.0949 - val_accuracy: 0.9022\n",
      "Epoch 39/100\n",
      "83/83 [==============================] - 5s 58ms/step - loss: 0.0928 - accuracy: 0.9010 - val_loss: 0.0945 - val_accuracy: 0.9058\n",
      "Epoch 40/100\n",
      "83/83 [==============================] - 5s 57ms/step - loss: 0.0928 - accuracy: 0.8973 - val_loss: 0.0946 - val_accuracy: 0.9058\n",
      "Epoch 41/100\n",
      "83/83 [==============================] - 5s 62ms/step - loss: 0.0928 - accuracy: 0.8998 - val_loss: 0.0948 - val_accuracy: 0.9022\n",
      "Epoch 42/100\n",
      "83/83 [==============================] - 5s 65ms/step - loss: 0.0928 - accuracy: 0.8998 - val_loss: 0.0945 - val_accuracy: 0.9058\n",
      "Epoch 43/100\n",
      "83/83 [==============================] - 5s 56ms/step - loss: 0.0927 - accuracy: 0.9010 - val_loss: 0.0947 - val_accuracy: 0.9022\n",
      "Epoch 44/100\n",
      "83/83 [==============================] - 5s 63ms/step - loss: 0.0928 - accuracy: 0.9010 - val_loss: 0.0943 - val_accuracy: 0.9058\n",
      "Epoch 45/100\n",
      "83/83 [==============================] - 5s 57ms/step - loss: 0.0928 - accuracy: 0.8998 - val_loss: 0.0943 - val_accuracy: 0.9058\n",
      "Epoch 46/100\n",
      "83/83 [==============================] - 5s 58ms/step - loss: 0.0927 - accuracy: 0.9022 - val_loss: 0.0941 - val_accuracy: 0.9058\n",
      "Epoch 47/100\n",
      "83/83 [==============================] - 5s 57ms/step - loss: 0.0928 - accuracy: 0.8998 - val_loss: 0.0944 - val_accuracy: 0.9058\n",
      "Epoch 48/100\n",
      "83/83 [==============================] - 5s 58ms/step - loss: 0.0927 - accuracy: 0.9010 - val_loss: 0.0940 - val_accuracy: 0.9094\n",
      "Epoch 49/100\n",
      "83/83 [==============================] - 5s 57ms/step - loss: 0.0927 - accuracy: 0.8986 - val_loss: 0.0939 - val_accuracy: 0.9094\n",
      "Epoch 50/100\n",
      "83/83 [==============================] - 5s 58ms/step - loss: 0.0927 - accuracy: 0.9010 - val_loss: 0.0944 - val_accuracy: 0.9058\n",
      "Epoch 51/100\n",
      "83/83 [==============================] - 5s 58ms/step - loss: 0.0926 - accuracy: 0.8998 - val_loss: 0.0946 - val_accuracy: 0.9022\n",
      "Epoch 52/100\n",
      "83/83 [==============================] - 5s 57ms/step - loss: 0.0928 - accuracy: 0.8998 - val_loss: 0.0946 - val_accuracy: 0.9022\n",
      "Epoch 53/100\n",
      "83/83 [==============================] - 5s 57ms/step - loss: 0.0927 - accuracy: 0.9022 - val_loss: 0.0942 - val_accuracy: 0.9058\n",
      "Epoch 54/100\n",
      "83/83 [==============================] - 5s 56ms/step - loss: 0.0927 - accuracy: 0.9010 - val_loss: 0.0943 - val_accuracy: 0.9058\n",
      "Epoch 55/100\n",
      "83/83 [==============================] - 5s 58ms/step - loss: 0.0927 - accuracy: 0.9022 - val_loss: 0.0942 - val_accuracy: 0.9058\n",
      "Epoch 56/100\n",
      "83/83 [==============================] - 5s 58ms/step - loss: 0.0926 - accuracy: 0.9022 - val_loss: 0.0939 - val_accuracy: 0.9058\n",
      "Epoch 57/100\n",
      "83/83 [==============================] - 5s 57ms/step - loss: 0.0926 - accuracy: 0.9010 - val_loss: 0.0942 - val_accuracy: 0.9058\n",
      "Epoch 58/100\n",
      "83/83 [==============================] - 5s 58ms/step - loss: 0.0927 - accuracy: 0.9022 - val_loss: 0.0940 - val_accuracy: 0.9058\n",
      "Epoch 59/100\n",
      "83/83 [==============================] - 5s 63ms/step - loss: 0.0926 - accuracy: 0.8998 - val_loss: 0.0941 - val_accuracy: 0.9058\n",
      "Epoch 60/100\n",
      "83/83 [==============================] - 5s 64ms/step - loss: 0.0926 - accuracy: 0.9010 - val_loss: 0.0939 - val_accuracy: 0.9058\n",
      "Epoch 61/100\n",
      "83/83 [==============================] - 5s 66ms/step - loss: 0.0926 - accuracy: 0.8998 - val_loss: 0.0941 - val_accuracy: 0.9058\n",
      "Epoch 62/100\n",
      "83/83 [==============================] - 5s 57ms/step - loss: 0.0926 - accuracy: 0.8998 - val_loss: 0.0940 - val_accuracy: 0.9058\n",
      "Epoch 63/100\n",
      "83/83 [==============================] - 5s 64ms/step - loss: 0.0926 - accuracy: 0.9010 - val_loss: 0.0941 - val_accuracy: 0.9058\n",
      "Epoch 64/100\n",
      "83/83 [==============================] - 5s 57ms/step - loss: 0.0926 - accuracy: 0.9010 - val_loss: 0.0940 - val_accuracy: 0.9058\n",
      "Epoch 65/100\n",
      "83/83 [==============================] - 5s 57ms/step - loss: 0.0926 - accuracy: 0.9010 - val_loss: 0.0939 - val_accuracy: 0.9058\n",
      "Epoch 66/100\n",
      "83/83 [==============================] - 5s 58ms/step - loss: 0.0926 - accuracy: 0.9022 - val_loss: 0.0936 - val_accuracy: 0.9094\n",
      "Epoch 67/100\n",
      "83/83 [==============================] - 5s 59ms/step - loss: 0.0926 - accuracy: 0.9022 - val_loss: 0.0936 - val_accuracy: 0.9094\n",
      "Epoch 68/100\n",
      "83/83 [==============================] - 5s 56ms/step - loss: 0.0926 - accuracy: 0.9010 - val_loss: 0.0941 - val_accuracy: 0.9058\n",
      "Epoch 69/100\n",
      "83/83 [==============================] - 5s 57ms/step - loss: 0.0926 - accuracy: 0.9034 - val_loss: 0.0939 - val_accuracy: 0.9058\n",
      "Epoch 70/100\n",
      "83/83 [==============================] - 5s 56ms/step - loss: 0.0926 - accuracy: 0.9010 - val_loss: 0.0937 - val_accuracy: 0.9058\n",
      "Epoch 71/100\n",
      "83/83 [==============================] - 5s 57ms/step - loss: 0.0926 - accuracy: 0.9010 - val_loss: 0.0936 - val_accuracy: 0.9058\n",
      "Epoch 72/100\n",
      "83/83 [==============================] - 5s 58ms/step - loss: 0.0926 - accuracy: 0.8998 - val_loss: 0.0936 - val_accuracy: 0.9058\n",
      "Epoch 73/100\n",
      "83/83 [==============================] - 5s 63ms/step - loss: 0.0924 - accuracy: 0.9022 - val_loss: 0.0943 - val_accuracy: 0.9022\n",
      "Epoch 74/100\n",
      "83/83 [==============================] - 5s 58ms/step - loss: 0.0925 - accuracy: 0.9010 - val_loss: 0.0940 - val_accuracy: 0.9058\n",
      "Epoch 75/100\n",
      "83/83 [==============================] - 5s 57ms/step - loss: 0.0925 - accuracy: 0.9010 - val_loss: 0.0939 - val_accuracy: 0.9058\n",
      "Epoch 76/100\n",
      "83/83 [==============================] - 5s 64ms/step - loss: 0.0926 - accuracy: 0.9010 - val_loss: 0.0938 - val_accuracy: 0.9058\n",
      "Epoch 77/100\n",
      "83/83 [==============================] - 5s 56ms/step - loss: 0.0925 - accuracy: 0.9010 - val_loss: 0.0940 - val_accuracy: 0.9058\n",
      "Epoch 78/100\n",
      "83/83 [==============================] - 5s 56ms/step - loss: 0.0926 - accuracy: 0.9010 - val_loss: 0.0939 - val_accuracy: 0.9058\n",
      "Epoch 79/100\n",
      "83/83 [==============================] - 5s 56ms/step - loss: 0.0925 - accuracy: 0.9010 - val_loss: 0.0938 - val_accuracy: 0.9058\n",
      "Epoch 80/100\n",
      "83/83 [==============================] - 5s 56ms/step - loss: 0.0925 - accuracy: 0.8998 - val_loss: 0.0937 - val_accuracy: 0.9058\n",
      "Epoch 81/100\n",
      "83/83 [==============================] - 5s 57ms/step - loss: 0.0925 - accuracy: 0.9022 - val_loss: 0.0939 - val_accuracy: 0.9058\n",
      "Epoch 82/100\n",
      "83/83 [==============================] - 5s 56ms/step - loss: 0.0925 - accuracy: 0.9010 - val_loss: 0.0939 - val_accuracy: 0.9058\n",
      "Epoch 83/100\n",
      "83/83 [==============================] - 5s 57ms/step - loss: 0.0925 - accuracy: 0.8986 - val_loss: 0.0940 - val_accuracy: 0.9022\n",
      "Epoch 84/100\n",
      "83/83 [==============================] - 5s 57ms/step - loss: 0.0925 - accuracy: 0.9022 - val_loss: 0.0940 - val_accuracy: 0.9022\n",
      "Epoch 85/100\n",
      "83/83 [==============================] - 5s 63ms/step - loss: 0.0925 - accuracy: 0.8998 - val_loss: 0.0939 - val_accuracy: 0.9022\n",
      "Epoch 86/100\n",
      "83/83 [==============================] - 5s 57ms/step - loss: 0.0924 - accuracy: 0.9022 - val_loss: 0.0936 - val_accuracy: 0.9058\n",
      "Epoch 87/100\n",
      "83/83 [==============================] - 5s 64ms/step - loss: 0.0925 - accuracy: 0.8998 - val_loss: 0.0937 - val_accuracy: 0.9058\n",
      "Epoch 88/100\n",
      "83/83 [==============================] - 5s 64ms/step - loss: 0.0924 - accuracy: 0.9010 - val_loss: 0.0936 - val_accuracy: 0.9058\n",
      "Epoch 89/100\n",
      "83/83 [==============================] - 5s 57ms/step - loss: 0.0924 - accuracy: 0.9010 - val_loss: 0.0938 - val_accuracy: 0.9058\n",
      "Epoch 90/100\n",
      "83/83 [==============================] - 5s 56ms/step - loss: 0.0924 - accuracy: 0.9010 - val_loss: 0.0935 - val_accuracy: 0.9058\n",
      "Epoch 91/100\n",
      "83/83 [==============================] - 5s 57ms/step - loss: 0.0924 - accuracy: 0.9022 - val_loss: 0.0933 - val_accuracy: 0.9058\n",
      "Epoch 92/100\n",
      "83/83 [==============================] - 5s 64ms/step - loss: 0.0924 - accuracy: 0.9022 - val_loss: 0.0934 - val_accuracy: 0.9058\n",
      "Epoch 93/100\n",
      "83/83 [==============================] - 5s 55ms/step - loss: 0.0924 - accuracy: 0.9022 - val_loss: 0.0934 - val_accuracy: 0.9058\n",
      "Epoch 94/100\n",
      "83/83 [==============================] - 5s 59ms/step - loss: 0.0924 - accuracy: 0.8998 - val_loss: 0.0936 - val_accuracy: 0.9058\n",
      "Epoch 95/100\n",
      "83/83 [==============================] - 5s 66ms/step - loss: 0.0924 - accuracy: 0.8998 - val_loss: 0.0936 - val_accuracy: 0.9058\n",
      "Epoch 96/100\n",
      "83/83 [==============================] - 5s 66ms/step - loss: 0.0923 - accuracy: 0.9022 - val_loss: 0.0933 - val_accuracy: 0.9058\n",
      "Epoch 97/100\n",
      "83/83 [==============================] - 5s 59ms/step - loss: 0.0923 - accuracy: 0.8998 - val_loss: 0.0936 - val_accuracy: 0.9058\n",
      "Epoch 98/100\n",
      "83/83 [==============================] - 5s 58ms/step - loss: 0.0923 - accuracy: 0.9022 - val_loss: 0.0935 - val_accuracy: 0.9058\n",
      "Epoch 99/100\n",
      "83/83 [==============================] - 5s 64ms/step - loss: 0.0923 - accuracy: 0.9022 - val_loss: 0.0931 - val_accuracy: 0.9058\n",
      "Epoch 100/100\n",
      "83/83 [==============================] - 5s 64ms/step - loss: 0.0923 - accuracy: 0.9010 - val_loss: 0.0932 - val_accuracy: 0.9058\n",
      "Running time is 489.33 seconds per 100 epoches\n",
      "Test Accuracy: 0.906\n"
     ]
    }
   ],
   "source": [
    "hist_lstm_y2_sgd=model_trainer2(model_LSTM, y2, X, 100, 10, '0')"
   ]
  },
  {
   "cell_type": "code",
   "execution_count": 43,
   "metadata": {
    "colab": {
     "base_uri": "https://localhost:8080/",
     "height": 573
    },
    "id": "laW-0zahanRE",
    "outputId": "c910380f-4961-47d2-a276-1ed13cfffac5"
   },
   "outputs": [
    {
     "data": {
      "image/png": "[encoded data removed]",
      "text/plain": [
       "<Figure size 432x288 with 1 Axes>"
      ]
     },
     "metadata": {
      "needs_background": "light",
      "tags": []
     },
     "output_type": "display_data"
    },
    {
     "data": {
      "image/png": "[encoded data removed]",
      "text/plain": [
       "<Figure size 432x288 with 1 Axes>"
      ]
     },
     "metadata": {
      "needs_background": "light",
      "tags": []
     },
     "output_type": "display_data"
    }
   ],
   "source": [
    "plot_metric(hist_lstm_y2_sgd,'loss')\n",
    "plot_metric(hist_lstm_y2_sgd,'accuracy')"
   ]
  },
  {
   "cell_type": "code",
   "execution_count": 44,
   "metadata": {
    "colab": {
     "base_uri": "https://localhost:8080/"
    },
    "id": "Z21IPBgKcpvM",
    "outputId": "98d59fed-0326-4b40-bd2e-1f51b7a0f3b4"
   },
   "outputs": [
    {
     "name": "stderr",
     "output_type": "stream",
     "text": [
      "/usr/local/lib/python3.7/dist-packages/tensorflow/python/data/ops/dataset_ops.py:3704: UserWarning: Even though the `tf.config.experimental_run_functions_eagerly` option is set, this option does not apply to tf.data functions. To force eager execution of tf.data functions, please use `tf.data.experimental.enable.debug_mode()`.\n",
      "  \"Even though the `tf.config.experimental_run_functions_eagerly` \"\n"
     ]
    },
    {
     "name": "stdout",
     "output_type": "stream",
     "text": [
      "Epoch 1/100\n",
      "83/83 [==============================] - 5s 58ms/step - loss: 0.3138 - accuracy: 0.6329 - val_loss: 0.2984 - val_accuracy: 0.6522\n",
      "Epoch 2/100\n",
      "83/83 [==============================] - 5s 58ms/step - loss: 0.3088 - accuracy: 0.6365 - val_loss: 0.2933 - val_accuracy: 0.6522\n",
      "Epoch 3/100\n",
      "83/83 [==============================] - 5s 56ms/step - loss: 0.2999 - accuracy: 0.6365 - val_loss: 0.2601 - val_accuracy: 0.6848\n",
      "Epoch 4/100\n",
      "83/83 [==============================] - 5s 57ms/step - loss: 0.2827 - accuracy: 0.6558 - val_loss: 0.2552 - val_accuracy: 0.6848\n",
      "Epoch 5/100\n",
      "83/83 [==============================] - 5s 56ms/step - loss: 0.2778 - accuracy: 0.6558 - val_loss: 0.2499 - val_accuracy: 0.6848\n",
      "Epoch 6/100\n",
      "83/83 [==============================] - 5s 62ms/step - loss: 0.2719 - accuracy: 0.6558 - val_loss: 0.2440 - val_accuracy: 0.6848\n",
      "Epoch 7/100\n",
      "83/83 [==============================] - 5s 63ms/step - loss: 0.2653 - accuracy: 0.6558 - val_loss: 0.2376 - val_accuracy: 0.6848\n",
      "Epoch 8/100\n",
      "83/83 [==============================] - 5s 63ms/step - loss: 0.2589 - accuracy: 0.6558 - val_loss: 0.2309 - val_accuracy: 0.6848\n",
      "Epoch 9/100\n",
      "83/83 [==============================] - 5s 56ms/step - loss: 0.2520 - accuracy: 0.6558 - val_loss: 0.2238 - val_accuracy: 0.6848\n",
      "Epoch 10/100\n",
      "83/83 [==============================] - 5s 57ms/step - loss: 0.2446 - accuracy: 0.6558 - val_loss: 0.2162 - val_accuracy: 0.6848\n",
      "Epoch 11/100\n",
      "83/83 [==============================] - 5s 64ms/step - loss: 0.2368 - accuracy: 0.6558 - val_loss: 0.2082 - val_accuracy: 0.6848\n",
      "Epoch 12/100\n",
      "83/83 [==============================] - 5s 56ms/step - loss: 0.2286 - accuracy: 0.6558 - val_loss: 0.1999 - val_accuracy: 0.6848\n",
      "Epoch 13/100\n",
      "83/83 [==============================] - 5s 62ms/step - loss: 0.2199 - accuracy: 0.6558 - val_loss: 0.1921 - val_accuracy: 0.6848\n",
      "Epoch 14/100\n",
      "83/83 [==============================] - 5s 56ms/step - loss: 0.2094 - accuracy: 0.6558 - val_loss: 0.1854 - val_accuracy: 0.6848\n",
      "Epoch 15/100\n",
      "83/83 [==============================] - 5s 64ms/step - loss: 0.1985 - accuracy: 0.6558 - val_loss: 0.1756 - val_accuracy: 0.6848\n",
      "Epoch 16/100\n",
      "83/83 [==============================] - 5s 63ms/step - loss: 0.1896 - accuracy: 0.6558 - val_loss: 0.1673 - val_accuracy: 0.6848\n",
      "Epoch 17/100\n",
      "83/83 [==============================] - 5s 63ms/step - loss: 0.1812 - accuracy: 0.6558 - val_loss: 0.1617 - val_accuracy: 0.6812\n",
      "Epoch 18/100\n",
      "83/83 [==============================] - 5s 64ms/step - loss: 0.1727 - accuracy: 0.6570 - val_loss: 0.1522 - val_accuracy: 0.6848\n",
      "Epoch 19/100\n",
      "83/83 [==============================] - 5s 56ms/step - loss: 0.1655 - accuracy: 0.6570 - val_loss: 0.1481 - val_accuracy: 0.6812\n",
      "Epoch 20/100\n",
      "83/83 [==============================] - 5s 63ms/step - loss: 0.1582 - accuracy: 0.6582 - val_loss: 0.1449 - val_accuracy: 0.6775\n",
      "Epoch 21/100\n",
      "83/83 [==============================] - 5s 57ms/step - loss: 0.1524 - accuracy: 0.6582 - val_loss: 0.1405 - val_accuracy: 0.6775\n",
      "Epoch 22/100\n",
      "83/83 [==============================] - 5s 55ms/step - loss: 0.1471 - accuracy: 0.7633 - val_loss: 0.1318 - val_accuracy: 0.8732\n",
      "Epoch 23/100\n",
      "83/83 [==============================] - 5s 62ms/step - loss: 0.1448 - accuracy: 0.8587 - val_loss: 0.1331 - val_accuracy: 0.8659\n",
      "Epoch 24/100\n",
      "83/83 [==============================] - 5s 63ms/step - loss: 0.1414 - accuracy: 0.8551 - val_loss: 0.1306 - val_accuracy: 0.8659\n",
      "Epoch 25/100\n",
      "83/83 [==============================] - 5s 63ms/step - loss: 0.1354 - accuracy: 0.8611 - val_loss: 0.1291 - val_accuracy: 0.8623\n",
      "Epoch 26/100\n",
      "83/83 [==============================] - 5s 56ms/step - loss: 0.1328 - accuracy: 0.8611 - val_loss: 0.1269 - val_accuracy: 0.8659\n",
      "Epoch 27/100\n",
      "83/83 [==============================] - 5s 55ms/step - loss: 0.1301 - accuracy: 0.8635 - val_loss: 0.1241 - val_accuracy: 0.8623\n",
      "Epoch 28/100\n",
      "83/83 [==============================] - 5s 63ms/step - loss: 0.1274 - accuracy: 0.8647 - val_loss: 0.1193 - val_accuracy: 0.8623\n",
      "Epoch 29/100\n",
      "83/83 [==============================] - 5s 58ms/step - loss: 0.1274 - accuracy: 0.8599 - val_loss: 0.1203 - val_accuracy: 0.8659\n",
      "Epoch 30/100\n",
      "83/83 [==============================] - 5s 57ms/step - loss: 0.1275 - accuracy: 0.8563 - val_loss: 0.1224 - val_accuracy: 0.8587\n",
      "Epoch 31/100\n",
      "83/83 [==============================] - 5s 57ms/step - loss: 0.1235 - accuracy: 0.8659 - val_loss: 0.1146 - val_accuracy: 0.8696\n",
      "Epoch 32/100\n",
      "83/83 [==============================] - 5s 65ms/step - loss: 0.1230 - accuracy: 0.8635 - val_loss: 0.1196 - val_accuracy: 0.8623\n",
      "Epoch 33/100\n",
      "83/83 [==============================] - 5s 59ms/step - loss: 0.1207 - accuracy: 0.8635 - val_loss: 0.1174 - val_accuracy: 0.8659\n",
      "Epoch 34/100\n",
      "83/83 [==============================] - 5s 59ms/step - loss: 0.1191 - accuracy: 0.8671 - val_loss: 0.1172 - val_accuracy: 0.8623\n",
      "Epoch 35/100\n",
      "83/83 [==============================] - 5s 63ms/step - loss: 0.1171 - accuracy: 0.8696 - val_loss: 0.1162 - val_accuracy: 0.8623\n",
      "Epoch 36/100\n",
      "83/83 [==============================] - 5s 65ms/step - loss: 0.1178 - accuracy: 0.8659 - val_loss: 0.1151 - val_accuracy: 0.8659\n",
      "Epoch 37/100\n",
      "83/83 [==============================] - 5s 59ms/step - loss: 0.1170 - accuracy: 0.8684 - val_loss: 0.1164 - val_accuracy: 0.8623\n",
      "Epoch 38/100\n",
      "83/83 [==============================] - 5s 59ms/step - loss: 0.1156 - accuracy: 0.8684 - val_loss: 0.1154 - val_accuracy: 0.8659\n",
      "Epoch 39/100\n",
      "83/83 [==============================] - 6s 68ms/step - loss: 0.1152 - accuracy: 0.8671 - val_loss: 0.1130 - val_accuracy: 0.8659\n",
      "Epoch 40/100\n",
      "83/83 [==============================] - 5s 62ms/step - loss: 0.1149 - accuracy: 0.8696 - val_loss: 0.1141 - val_accuracy: 0.8659\n",
      "Epoch 41/100\n",
      "83/83 [==============================] - 5s 60ms/step - loss: 0.1136 - accuracy: 0.8720 - val_loss: 0.1037 - val_accuracy: 0.8804\n",
      "Epoch 42/100\n",
      "83/83 [==============================] - 5s 58ms/step - loss: 0.1121 - accuracy: 0.8744 - val_loss: 0.1048 - val_accuracy: 0.8804\n",
      "Epoch 43/100\n",
      "83/83 [==============================] - 5s 57ms/step - loss: 0.1116 - accuracy: 0.8756 - val_loss: 0.1107 - val_accuracy: 0.8696\n",
      "Epoch 44/100\n",
      "83/83 [==============================] - 5s 66ms/step - loss: 0.1112 - accuracy: 0.8720 - val_loss: 0.1131 - val_accuracy: 0.8551\n",
      "Epoch 45/100\n",
      "83/83 [==============================] - 5s 59ms/step - loss: 0.1127 - accuracy: 0.8720 - val_loss: 0.1036 - val_accuracy: 0.8768\n",
      "Epoch 46/100\n",
      "83/83 [==============================] - 5s 61ms/step - loss: 0.1109 - accuracy: 0.8744 - val_loss: 0.1022 - val_accuracy: 0.8768\n",
      "Epoch 47/100\n",
      "83/83 [==============================] - 5s 59ms/step - loss: 0.1103 - accuracy: 0.8744 - val_loss: 0.1012 - val_accuracy: 0.8768\n",
      "Epoch 48/100\n",
      "83/83 [==============================] - 5s 57ms/step - loss: 0.1084 - accuracy: 0.8768 - val_loss: 0.1048 - val_accuracy: 0.8732\n",
      "Epoch 49/100\n",
      "83/83 [==============================] - 5s 58ms/step - loss: 0.1074 - accuracy: 0.8780 - val_loss: 0.1048 - val_accuracy: 0.8732\n",
      "Epoch 50/100\n",
      "83/83 [==============================] - 5s 64ms/step - loss: 0.1063 - accuracy: 0.8804 - val_loss: 0.1052 - val_accuracy: 0.8732\n",
      "Epoch 51/100\n",
      "83/83 [==============================] - 5s 57ms/step - loss: 0.1066 - accuracy: 0.8780 - val_loss: 0.1023 - val_accuracy: 0.8768\n",
      "Epoch 52/100\n",
      "83/83 [==============================] - 5s 57ms/step - loss: 0.1061 - accuracy: 0.8792 - val_loss: 0.1049 - val_accuracy: 0.8732\n",
      "Epoch 53/100\n",
      "83/83 [==============================] - 5s 64ms/step - loss: 0.1054 - accuracy: 0.8804 - val_loss: 0.1034 - val_accuracy: 0.8732\n",
      "Epoch 54/100\n",
      "83/83 [==============================] - 5s 64ms/step - loss: 0.1059 - accuracy: 0.8804 - val_loss: 0.1036 - val_accuracy: 0.8732\n",
      "Epoch 55/100\n",
      "83/83 [==============================] - 5s 65ms/step - loss: 0.1064 - accuracy: 0.8780 - val_loss: 0.1035 - val_accuracy: 0.8768\n",
      "Epoch 56/100\n",
      "83/83 [==============================] - 5s 57ms/step - loss: 0.1053 - accuracy: 0.8780 - val_loss: 0.1012 - val_accuracy: 0.8804\n",
      "Epoch 57/100\n",
      "83/83 [==============================] - 5s 57ms/step - loss: 0.1052 - accuracy: 0.8792 - val_loss: 0.1022 - val_accuracy: 0.8768\n",
      "Epoch 58/100\n",
      "83/83 [==============================] - 5s 59ms/step - loss: 0.1042 - accuracy: 0.8816 - val_loss: 0.1016 - val_accuracy: 0.8768\n",
      "Epoch 59/100\n",
      "83/83 [==============================] - 5s 61ms/step - loss: 0.1043 - accuracy: 0.8792 - val_loss: 0.1022 - val_accuracy: 0.8804\n",
      "Epoch 60/100\n",
      "83/83 [==============================] - 5s 64ms/step - loss: 0.1037 - accuracy: 0.8841 - val_loss: 0.1000 - val_accuracy: 0.8768\n",
      "Epoch 61/100\n",
      "83/83 [==============================] - 5s 57ms/step - loss: 0.1039 - accuracy: 0.8804 - val_loss: 0.1008 - val_accuracy: 0.8804\n",
      "Epoch 62/100\n",
      "83/83 [==============================] - 5s 57ms/step - loss: 0.1032 - accuracy: 0.8829 - val_loss: 0.1018 - val_accuracy: 0.8804\n",
      "Epoch 63/100\n",
      "83/83 [==============================] - 5s 58ms/step - loss: 0.1030 - accuracy: 0.8816 - val_loss: 0.0998 - val_accuracy: 0.8804\n",
      "Epoch 64/100\n",
      "83/83 [==============================] - 5s 65ms/step - loss: 0.1031 - accuracy: 0.8816 - val_loss: 0.1004 - val_accuracy: 0.8841\n",
      "Epoch 65/100\n",
      "83/83 [==============================] - 5s 56ms/step - loss: 0.1023 - accuracy: 0.8829 - val_loss: 0.1010 - val_accuracy: 0.8804\n",
      "Epoch 66/100\n",
      "83/83 [==============================] - 5s 57ms/step - loss: 0.1023 - accuracy: 0.8841 - val_loss: 0.1016 - val_accuracy: 0.8804\n",
      "Epoch 67/100\n",
      "83/83 [==============================] - 5s 57ms/step - loss: 0.1024 - accuracy: 0.8816 - val_loss: 0.1001 - val_accuracy: 0.8841\n",
      "Epoch 68/100\n",
      "83/83 [==============================] - 5s 56ms/step - loss: 0.1017 - accuracy: 0.8841 - val_loss: 0.1013 - val_accuracy: 0.8804\n",
      "Epoch 69/100\n",
      "83/83 [==============================] - 5s 63ms/step - loss: 0.1018 - accuracy: 0.8816 - val_loss: 0.1026 - val_accuracy: 0.8804\n",
      "Epoch 70/100\n",
      "83/83 [==============================] - 5s 57ms/step - loss: 0.1022 - accuracy: 0.8841 - val_loss: 0.0991 - val_accuracy: 0.8841\n",
      "Epoch 71/100\n",
      "83/83 [==============================] - 5s 63ms/step - loss: 0.1008 - accuracy: 0.8865 - val_loss: 0.0997 - val_accuracy: 0.8804\n",
      "Epoch 72/100\n",
      "83/83 [==============================] - 5s 56ms/step - loss: 0.1004 - accuracy: 0.8853 - val_loss: 0.0962 - val_accuracy: 0.8877\n",
      "Epoch 73/100\n",
      "83/83 [==============================] - 5s 56ms/step - loss: 0.1008 - accuracy: 0.8865 - val_loss: 0.1007 - val_accuracy: 0.8804\n",
      "Epoch 74/100\n",
      "83/83 [==============================] - 5s 56ms/step - loss: 0.1006 - accuracy: 0.8841 - val_loss: 0.1007 - val_accuracy: 0.8841\n",
      "Epoch 75/100\n",
      "83/83 [==============================] - 5s 60ms/step - loss: 0.1003 - accuracy: 0.8829 - val_loss: 0.1019 - val_accuracy: 0.8804\n",
      "Epoch 76/100\n",
      "83/83 [==============================] - 5s 56ms/step - loss: 0.0997 - accuracy: 0.8877 - val_loss: 0.1000 - val_accuracy: 0.8841\n",
      "Epoch 77/100\n",
      "83/83 [==============================] - 5s 56ms/step - loss: 0.0998 - accuracy: 0.8865 - val_loss: 0.1032 - val_accuracy: 0.8804\n",
      "Epoch 78/100\n",
      "83/83 [==============================] - 5s 56ms/step - loss: 0.0998 - accuracy: 0.8853 - val_loss: 0.1000 - val_accuracy: 0.8841\n",
      "Epoch 79/100\n",
      "83/83 [==============================] - 5s 62ms/step - loss: 0.0993 - accuracy: 0.8865 - val_loss: 0.1003 - val_accuracy: 0.8841\n",
      "Epoch 80/100\n",
      "83/83 [==============================] - 5s 58ms/step - loss: 0.0990 - accuracy: 0.8877 - val_loss: 0.1013 - val_accuracy: 0.8804\n",
      "Epoch 81/100\n",
      "83/83 [==============================] - 5s 58ms/step - loss: 0.0986 - accuracy: 0.8877 - val_loss: 0.1007 - val_accuracy: 0.8804\n",
      "Epoch 82/100\n",
      "83/83 [==============================] - 5s 57ms/step - loss: 0.0986 - accuracy: 0.8877 - val_loss: 0.1017 - val_accuracy: 0.8804\n",
      "Epoch 83/100\n",
      "83/83 [==============================] - 5s 61ms/step - loss: 0.0983 - accuracy: 0.8889 - val_loss: 0.1020 - val_accuracy: 0.8804\n",
      "Epoch 84/100\n",
      "83/83 [==============================] - 5s 64ms/step - loss: 0.0981 - accuracy: 0.8889 - val_loss: 0.0999 - val_accuracy: 0.8804\n",
      "Epoch 85/100\n",
      "83/83 [==============================] - 5s 58ms/step - loss: 0.0980 - accuracy: 0.8889 - val_loss: 0.1025 - val_accuracy: 0.8804\n",
      "Epoch 86/100\n",
      "83/83 [==============================] - 5s 58ms/step - loss: 0.0981 - accuracy: 0.8901 - val_loss: 0.1017 - val_accuracy: 0.8804\n",
      "Epoch 87/100\n",
      "83/83 [==============================] - 5s 56ms/step - loss: 0.0973 - accuracy: 0.8901 - val_loss: 0.1022 - val_accuracy: 0.8804\n",
      "Epoch 88/100\n",
      "83/83 [==============================] - 5s 57ms/step - loss: 0.0977 - accuracy: 0.8877 - val_loss: 0.1009 - val_accuracy: 0.8841\n",
      "Epoch 89/100\n",
      "83/83 [==============================] - 5s 57ms/step - loss: 0.0970 - accuracy: 0.8889 - val_loss: 0.1027 - val_accuracy: 0.8804\n",
      "Epoch 90/100\n",
      "83/83 [==============================] - 5s 57ms/step - loss: 0.0972 - accuracy: 0.8889 - val_loss: 0.0947 - val_accuracy: 0.8841\n",
      "Epoch 91/100\n",
      "83/83 [==============================] - 5s 63ms/step - loss: 0.0977 - accuracy: 0.8877 - val_loss: 0.1024 - val_accuracy: 0.8804\n",
      "Epoch 92/100\n",
      "83/83 [==============================] - 5s 64ms/step - loss: 0.0966 - accuracy: 0.8889 - val_loss: 0.1006 - val_accuracy: 0.8841\n",
      "Epoch 93/100\n",
      "83/83 [==============================] - 5s 57ms/step - loss: 0.0961 - accuracy: 0.8901 - val_loss: 0.0957 - val_accuracy: 0.8877\n",
      "Epoch 94/100\n",
      "83/83 [==============================] - 5s 57ms/step - loss: 0.0963 - accuracy: 0.8901 - val_loss: 0.1027 - val_accuracy: 0.8768\n",
      "Epoch 95/100\n",
      "83/83 [==============================] - 6s 67ms/step - loss: 0.0957 - accuracy: 0.8925 - val_loss: 0.0986 - val_accuracy: 0.8877\n",
      "Epoch 96/100\n",
      "83/83 [==============================] - 5s 57ms/step - loss: 0.0952 - accuracy: 0.8925 - val_loss: 0.0991 - val_accuracy: 0.8841\n",
      "Epoch 97/100\n",
      "83/83 [==============================] - 5s 64ms/step - loss: 0.0952 - accuracy: 0.8925 - val_loss: 0.1016 - val_accuracy: 0.8804\n",
      "Epoch 98/100\n",
      "83/83 [==============================] - 5s 65ms/step - loss: 0.0945 - accuracy: 0.8937 - val_loss: 0.0977 - val_accuracy: 0.8877\n",
      "Epoch 99/100\n",
      "83/83 [==============================] - 5s 64ms/step - loss: 0.0954 - accuracy: 0.8877 - val_loss: 0.1006 - val_accuracy: 0.8841\n",
      "Epoch 100/100\n",
      "83/83 [==============================] - 5s 56ms/step - loss: 0.0943 - accuracy: 0.8925 - val_loss: 0.0989 - val_accuracy: 0.8841\n",
      "Running time is 494.33 seconds per 100 epoches\n",
      "Test Accuracy: 0.873\n"
     ]
    }
   ],
   "source": [
    "hist_lstm_y3_sgd=model_trainer2(model_LSTM, y3, X, 100, 10, '0')"
   ]
  },
  {
   "cell_type": "code",
   "execution_count": 45,
   "metadata": {
    "colab": {
     "base_uri": "https://localhost:8080/",
     "height": 573
    },
    "id": "loeAC3qhrUKA",
    "outputId": "84c08573-6923-4df2-f96e-c9bf88366695"
   },
   "outputs": [
    {
     "data": {
      "image/png": "[encoded data removed]",
      "text/plain": [
       "<Figure size 432x288 with 1 Axes>"
      ]
     },
     "metadata": {
      "needs_background": "light",
      "tags": []
     },
     "output_type": "display_data"
    },
    {
     "data": {
      "image/png": "[encoded data removed]",
      "text/plain": [
       "<Figure size 432x288 with 1 Axes>"
      ]
     },
     "metadata": {
      "needs_background": "light",
      "tags": []
     },
     "output_type": "display_data"
    }
   ],
   "source": [
    "plot_metric(hist_lstm_y3_sgd,'loss')\n",
    "plot_metric(hist_lstm_y3_sgd,'accuracy')"
   ]
  },
  {
   "cell_type": "markdown",
   "metadata": {
    "id": "nj7_uiY7LiKG"
   },
   "source": [
    "From the above trainings and plots, we can observe-\n",
    "\n",
    "LSTM with Adam optimizer gives higher accuracy and much shorter computing time than LSTM model with sgd optimizer.\n",
    "\n",
    "Train losses roughly remained constant with sgd optimizer, likely due to gradient descent with decaying learning rate for the error calculation. [4]\n"
   ]
  },
  {
   "cell_type": "markdown",
   "metadata": {
    "id": "LiEDqfwHPEu0"
   },
   "source": [
    "### CM3- (iv)"
   ]
  },
  {
   "cell_type": "markdown",
   "metadata": {
    "id": "hjugf0hreP0t"
   },
   "source": [
    "Below is a neural network which which uses a **Simple RNN** architecture followed by  **3 hidden layers** with **64**, **32** and **16** units respectively. The activation function used here is **ReLU activation**. For the output layer, **softmax activation function** has been used. The optimizer which we have used is '**Adam**' with a **learning rate of 0.001** and this performs faster than sgd. To prevent overfitting, the regularization method which we have used here is **early stopping** with a **delta value of 0.001**. The model stops training after we see no improvement in the validation loss for 8 epochs. The input layer uses 13 features to determine the output class label. Three separate models have been trained (**100 epochs and 10 batch size**) for the labels 'Confirmed', 'Recovered' and 'Deaths'. The performance of all the three models has been plotted using two graphs - \n",
    "<br> The training and validation loss by epochs\n",
    "<br> The training and validation accuracy by epochs"
   ]
  },
  {
   "cell_type": "code",
   "execution_count": 46,
   "metadata": {
    "id": "3uNgtsnUeQ-v"
   },
   "outputs": [],
   "source": [
    "\n",
    "model_RNN = Sequential() \n",
    "model_RNN.add(SimpleRNN(128,input_shape=(13,1),activation='relu')) \n",
    "model_RNN.add(Dense(64,activation='relu')) \n",
    "model_RNN.add(Dense(32,activation='relu')) \n",
    "model_RNN.add(Dense(16,activation='relu')) \n",
    "model_RNN.add(Dense(3,activation='softmax'))\n",
    "model_RNN.compile(loss='sparse_categorical_crossentropy',optimizer=keras.optimizers.Adam(learning_rate=0.001) ,metrics=['accuracy'])\n"
   ]
  },
  {
   "cell_type": "code",
   "execution_count": 47,
   "metadata": {
    "id": "JR6NvSQNff_q"
   },
   "outputs": [],
   "source": [
    "\n",
    "es_rnn= EarlyStopping(\n",
    "    monitor='val_loss', \n",
    "    patience=8, \n",
    "    min_delta=0.001, \n",
    "  \n",
    ")"
   ]
  },
  {
   "cell_type": "code",
   "execution_count": 48,
   "metadata": {
    "colab": {
     "base_uri": "https://localhost:8080/"
    },
    "id": "lSXCG9Z3gmmI",
    "outputId": "8e7f9899-5a81-4eff-c80b-c202459e11d7"
   },
   "outputs": [
    {
     "name": "stdout",
     "output_type": "stream",
     "text": [
      "Epoch 1/100\n",
      "\r",
      " 1/83 [..............................] - ETA: 5s - loss: 1.0992 - accuracy: 0.1000"
     ]
    },
    {
     "name": "stderr",
     "output_type": "stream",
     "text": [
      "/usr/local/lib/python3.7/dist-packages/tensorflow/python/data/ops/dataset_ops.py:3704: UserWarning: Even though the `tf.config.experimental_run_functions_eagerly` option is set, this option does not apply to tf.data functions. To force eager execution of tf.data functions, please use `tf.data.experimental.enable.debug_mode()`.\n",
      "  \"Even though the `tf.config.experimental_run_functions_eagerly` \"\n"
     ]
    },
    {
     "name": "stdout",
     "output_type": "stream",
     "text": [
      "83/83 [==============================] - 5s 60ms/step - loss: 0.5425 - accuracy: 0.8292 - val_loss: 0.1371 - val_accuracy: 0.9710\n",
      "Epoch 2/100\n",
      "83/83 [==============================] - 4s 53ms/step - loss: 0.1488 - accuracy: 0.9658 - val_loss: 0.1416 - val_accuracy: 0.9710\n",
      "Epoch 3/100\n",
      "83/83 [==============================] - 5s 59ms/step - loss: 0.1536 - accuracy: 0.9605 - val_loss: 0.1301 - val_accuracy: 0.9710\n",
      "Epoch 4/100\n",
      "83/83 [==============================] - 4s 54ms/step - loss: 0.1449 - accuracy: 0.9617 - val_loss: 0.1284 - val_accuracy: 0.9710\n",
      "Epoch 5/100\n",
      "83/83 [==============================] - 5s 59ms/step - loss: 0.1502 - accuracy: 0.9619 - val_loss: 0.1167 - val_accuracy: 0.9710\n",
      "Epoch 6/100\n",
      "83/83 [==============================] - 4s 52ms/step - loss: 0.1175 - accuracy: 0.9638 - val_loss: 0.1210 - val_accuracy: 0.9710\n",
      "Epoch 7/100\n",
      "83/83 [==============================] - 4s 52ms/step - loss: 0.1277 - accuracy: 0.9584 - val_loss: 0.1228 - val_accuracy: 0.9710\n",
      "Epoch 8/100\n",
      "83/83 [==============================] - 5s 60ms/step - loss: 0.1134 - accuracy: 0.9544 - val_loss: 0.1154 - val_accuracy: 0.9710\n",
      "Epoch 9/100\n",
      "83/83 [==============================] - 4s 54ms/step - loss: 0.1598 - accuracy: 0.9460 - val_loss: 0.1219 - val_accuracy: 0.9710\n",
      "Epoch 10/100\n",
      "83/83 [==============================] - 4s 54ms/step - loss: 0.1203 - accuracy: 0.9539 - val_loss: 0.1181 - val_accuracy: 0.9710\n",
      "Epoch 11/100\n",
      "83/83 [==============================] - 5s 60ms/step - loss: 0.1175 - accuracy: 0.9575 - val_loss: 0.1239 - val_accuracy: 0.9710\n",
      "Epoch 12/100\n",
      "83/83 [==============================] - 5s 55ms/step - loss: 0.1201 - accuracy: 0.9577 - val_loss: 0.1242 - val_accuracy: 0.9710\n",
      "Epoch 13/100\n",
      "83/83 [==============================] - 5s 55ms/step - loss: 0.1232 - accuracy: 0.9551 - val_loss: 0.1389 - val_accuracy: 0.9710\n",
      "Epoch 14/100\n",
      "83/83 [==============================] - 4s 54ms/step - loss: 0.1074 - accuracy: 0.9641 - val_loss: 0.1248 - val_accuracy: 0.9710\n",
      "Epoch 15/100\n",
      "83/83 [==============================] - 5s 62ms/step - loss: 0.0978 - accuracy: 0.9593 - val_loss: 0.1010 - val_accuracy: 0.9710\n",
      "Epoch 16/100\n",
      "83/83 [==============================] - 5s 55ms/step - loss: 0.1256 - accuracy: 0.9505 - val_loss: 0.1471 - val_accuracy: 0.9710\n",
      "Epoch 17/100\n",
      "83/83 [==============================] - 4s 54ms/step - loss: 0.1043 - accuracy: 0.9549 - val_loss: 0.2498 - val_accuracy: 0.9710\n",
      "Epoch 18/100\n",
      "83/83 [==============================] - 5s 56ms/step - loss: 0.1552 - accuracy: 0.9628 - val_loss: 0.1142 - val_accuracy: 0.9710\n",
      "Epoch 19/100\n",
      "83/83 [==============================] - 5s 60ms/step - loss: 0.1048 - accuracy: 0.9600 - val_loss: 0.1122 - val_accuracy: 0.9710\n",
      "Epoch 20/100\n",
      "83/83 [==============================] - 4s 53ms/step - loss: 0.1172 - accuracy: 0.9497 - val_loss: 0.1178 - val_accuracy: 0.9710\n",
      "Epoch 21/100\n",
      "83/83 [==============================] - 5s 60ms/step - loss: 0.1027 - accuracy: 0.9534 - val_loss: 0.1425 - val_accuracy: 0.9710\n",
      "Epoch 22/100\n",
      "83/83 [==============================] - 5s 55ms/step - loss: 0.0971 - accuracy: 0.9569 - val_loss: 0.1197 - val_accuracy: 0.9710\n",
      "Epoch 23/100\n",
      "83/83 [==============================] - 5s 55ms/step - loss: 0.1030 - accuracy: 0.9609 - val_loss: 0.1467 - val_accuracy: 0.9710\n",
      "Running time is 107.27 seconds per 100 epoches\n",
      "Test Accuracy: 0.971\n"
     ]
    }
   ],
   "source": [
    "hist_rnn_y1=model_trainer2(model_RNN, y1, X,100 , 10, es_rnn)"
   ]
  },
  {
   "cell_type": "code",
   "execution_count": 49,
   "metadata": {
    "colab": {
     "base_uri": "https://localhost:8080/",
     "height": 573
    },
    "id": "IESXolr3g2Mg",
    "outputId": "5ba456f9-38ab-4dd5-a8c6-097019af184a"
   },
   "outputs": [
    {
     "data": {
      "image/png": "[encoded data removed]",
      "text/plain": [
       "<Figure size 432x288 with 1 Axes>"
      ]
     },
     "metadata": {
      "needs_background": "light",
      "tags": []
     },
     "output_type": "display_data"
    },
    {
     "data": {
      "image/png": "[encoded data removed]",
      "text/plain": [
       "<Figure size 432x288 with 1 Axes>"
      ]
     },
     "metadata": {
      "needs_background": "light",
      "tags": []
     },
     "output_type": "display_data"
    }
   ],
   "source": [
    "plot_metric(hist_rnn_y1,'loss')\n",
    "plot_metric(hist_rnn_y1,'accuracy')"
   ]
  },
  {
   "cell_type": "code",
   "execution_count": 50,
   "metadata": {
    "colab": {
     "base_uri": "https://localhost:8080/"
    },
    "id": "tSjxwItLaQsX",
    "outputId": "af9bb7bf-9298-4eb1-b61b-5b231612533a"
   },
   "outputs": [
    {
     "name": "stdout",
     "output_type": "stream",
     "text": [
      "Epoch 1/100\n",
      "\r",
      " 1/83 [..............................] - ETA: 3s - loss: 0.6408 - accuracy: 0.9000"
     ]
    },
    {
     "name": "stderr",
     "output_type": "stream",
     "text": [
      "/usr/local/lib/python3.7/dist-packages/tensorflow/python/data/ops/dataset_ops.py:3704: UserWarning: Even though the `tf.config.experimental_run_functions_eagerly` option is set, this option does not apply to tf.data functions. To force eager execution of tf.data functions, please use `tf.data.experimental.enable.debug_mode()`.\n",
      "  \"Even though the `tf.config.experimental_run_functions_eagerly` \"\n"
     ]
    },
    {
     "name": "stdout",
     "output_type": "stream",
     "text": [
      "83/83 [==============================] - 5s 55ms/step - loss: 0.2901 - accuracy: 0.9010 - val_loss: 0.2794 - val_accuracy: 0.8986\n",
      "Epoch 2/100\n",
      "83/83 [==============================] - 5s 60ms/step - loss: 0.2382 - accuracy: 0.9010 - val_loss: 0.3150 - val_accuracy: 0.8986\n",
      "Epoch 3/100\n",
      "83/83 [==============================] - 5s 56ms/step - loss: 0.2330 - accuracy: 0.9010 - val_loss: 0.3065 - val_accuracy: 0.8986\n",
      "Epoch 4/100\n",
      "83/83 [==============================] - 5s 56ms/step - loss: 0.2154 - accuracy: 0.8973 - val_loss: 0.3159 - val_accuracy: 0.8986\n",
      "Epoch 5/100\n",
      "83/83 [==============================] - 5s 55ms/step - loss: 0.2161 - accuracy: 0.9070 - val_loss: 0.3697 - val_accuracy: 0.8768\n",
      "Epoch 6/100\n",
      "83/83 [==============================] - 4s 54ms/step - loss: 0.2580 - accuracy: 0.9010 - val_loss: 0.3001 - val_accuracy: 0.8949\n",
      "Epoch 7/100\n",
      "83/83 [==============================] - 4s 54ms/step - loss: 0.2076 - accuracy: 0.9082 - val_loss: 0.2935 - val_accuracy: 0.9058\n",
      "Epoch 8/100\n",
      "83/83 [==============================] - 4s 54ms/step - loss: 0.2011 - accuracy: 0.9118 - val_loss: 0.3130 - val_accuracy: 0.9094\n",
      "Epoch 9/100\n",
      "83/83 [==============================] - 5s 61ms/step - loss: 0.2284 - accuracy: 0.9143 - val_loss: 0.2702 - val_accuracy: 0.9058\n",
      "Epoch 10/100\n",
      "83/83 [==============================] - 5s 56ms/step - loss: 0.1992 - accuracy: 0.9118 - val_loss: 0.3460 - val_accuracy: 0.9058\n",
      "Epoch 11/100\n",
      "83/83 [==============================] - 4s 54ms/step - loss: 0.1999 - accuracy: 0.9143 - val_loss: 0.3061 - val_accuracy: 0.8804\n",
      "Epoch 12/100\n",
      "83/83 [==============================] - 4s 54ms/step - loss: 0.1961 - accuracy: 0.9034 - val_loss: 0.3046 - val_accuracy: 0.9022\n",
      "Epoch 13/100\n",
      "83/83 [==============================] - 5s 61ms/step - loss: 0.1934 - accuracy: 0.9130 - val_loss: 0.3103 - val_accuracy: 0.9022\n",
      "Epoch 14/100\n",
      "83/83 [==============================] - 4s 54ms/step - loss: 0.1939 - accuracy: 0.9143 - val_loss: 0.2948 - val_accuracy: 0.8877\n",
      "Epoch 15/100\n",
      "83/83 [==============================] - 4s 54ms/step - loss: 0.1852 - accuracy: 0.9130 - val_loss: 0.3389 - val_accuracy: 0.9094\n",
      "Epoch 16/100\n",
      "83/83 [==============================] - 5s 61ms/step - loss: 0.1858 - accuracy: 0.9155 - val_loss: 0.3175 - val_accuracy: 0.8877\n",
      "Epoch 17/100\n",
      "83/83 [==============================] - 5s 61ms/step - loss: 0.1851 - accuracy: 0.9143 - val_loss: 0.3445 - val_accuracy: 0.8986\n",
      "Running time is 79.61 seconds per 100 epoches\n",
      "Test Accuracy: 0.909\n"
     ]
    }
   ],
   "source": [
    "hist_rnn_y2=model_trainer2(model_RNN, y2, X,100 , 10, es_rnn)"
   ]
  },
  {
   "cell_type": "code",
   "execution_count": 51,
   "metadata": {
    "colab": {
     "base_uri": "https://localhost:8080/",
     "height": 573
    },
    "id": "5gJ2Q5jKaRJ8",
    "outputId": "502cd44b-fead-4729-c83d-b5fbfbd3c0d1"
   },
   "outputs": [
    {
     "data": {
      "image/png": "[encoded data removed]",
      "text/plain": [
       "<Figure size 432x288 with 1 Axes>"
      ]
     },
     "metadata": {
      "needs_background": "light",
      "tags": []
     },
     "output_type": "display_data"
    },
    {
     "data": {
      "image/png": "[encoded data removed]",
      "text/plain": [
       "<Figure size 432x288 with 1 Axes>"
      ]
     },
     "metadata": {
      "needs_background": "light",
      "tags": []
     },
     "output_type": "display_data"
    }
   ],
   "source": [
    "plot_metric(hist_rnn_y2,'loss')\n",
    "plot_metric(hist_rnn_y2,'accuracy')"
   ]
  },
  {
   "cell_type": "code",
   "execution_count": 52,
   "metadata": {
    "colab": {
     "base_uri": "https://localhost:8080/"
    },
    "id": "W_L3BI8qaRkf",
    "outputId": "16836f20-0e3e-4fdd-9f15-fd311a15a962"
   },
   "outputs": [
    {
     "name": "stdout",
     "output_type": "stream",
     "text": [
      "Epoch 1/100\n",
      " 2/83 [..............................] - ETA: 4s - loss: 2.7343 - accuracy: 0.5500"
     ]
    },
    {
     "name": "stderr",
     "output_type": "stream",
     "text": [
      "/usr/local/lib/python3.7/dist-packages/tensorflow/python/data/ops/dataset_ops.py:3704: UserWarning: Even though the `tf.config.experimental_run_functions_eagerly` option is set, this option does not apply to tf.data functions. To force eager execution of tf.data functions, please use `tf.data.experimental.enable.debug_mode()`.\n",
      "  \"Even though the `tf.config.experimental_run_functions_eagerly` \"\n"
     ]
    },
    {
     "name": "stdout",
     "output_type": "stream",
     "text": [
      "83/83 [==============================] - 5s 55ms/step - loss: 0.6760 - accuracy: 0.6618 - val_loss: 0.4367 - val_accuracy: 0.8043\n",
      "Epoch 2/100\n",
      "83/83 [==============================] - 5s 60ms/step - loss: 0.3592 - accuracy: 0.8478 - val_loss: 0.2881 - val_accuracy: 0.8913\n",
      "Epoch 3/100\n",
      "83/83 [==============================] - 4s 53ms/step - loss: 0.2542 - accuracy: 0.9070 - val_loss: 0.2044 - val_accuracy: 0.9275\n",
      "Epoch 4/100\n",
      "83/83 [==============================] - 4s 54ms/step - loss: 0.2590 - accuracy: 0.9046 - val_loss: 0.2017 - val_accuracy: 0.9348\n",
      "Epoch 5/100\n",
      "83/83 [==============================] - 5s 60ms/step - loss: 0.2304 - accuracy: 0.9179 - val_loss: 0.1817 - val_accuracy: 0.9529\n",
      "Epoch 6/100\n",
      "83/83 [==============================] - 4s 53ms/step - loss: 0.2132 - accuracy: 0.9191 - val_loss: 0.1921 - val_accuracy: 0.9203\n",
      "Epoch 7/100\n",
      "83/83 [==============================] - 4s 54ms/step - loss: 0.2093 - accuracy: 0.9215 - val_loss: 0.2082 - val_accuracy: 0.9203\n",
      "Epoch 8/100\n",
      "83/83 [==============================] - 5s 55ms/step - loss: 0.1979 - accuracy: 0.9263 - val_loss: 0.1665 - val_accuracy: 0.9493\n",
      "Epoch 9/100\n",
      "83/83 [==============================] - 4s 54ms/step - loss: 0.1844 - accuracy: 0.9300 - val_loss: 0.1753 - val_accuracy: 0.9493\n",
      "Epoch 10/100\n",
      "83/83 [==============================] - 4s 54ms/step - loss: 0.1844 - accuracy: 0.9275 - val_loss: 0.1722 - val_accuracy: 0.9529\n",
      "Epoch 11/100\n",
      "83/83 [==============================] - 4s 53ms/step - loss: 0.1949 - accuracy: 0.9130 - val_loss: 0.1848 - val_accuracy: 0.9384\n",
      "Epoch 12/100\n",
      "83/83 [==============================] - 5s 59ms/step - loss: 0.1849 - accuracy: 0.9275 - val_loss: 0.1857 - val_accuracy: 0.9565\n",
      "Epoch 13/100\n",
      "83/83 [==============================] - 5s 60ms/step - loss: 0.1836 - accuracy: 0.9324 - val_loss: 0.1917 - val_accuracy: 0.9420\n",
      "Epoch 14/100\n",
      "83/83 [==============================] - 4s 54ms/step - loss: 0.1903 - accuracy: 0.9227 - val_loss: 0.1842 - val_accuracy: 0.9493\n",
      "Epoch 15/100\n",
      "83/83 [==============================] - 4s 54ms/step - loss: 0.1712 - accuracy: 0.9336 - val_loss: 0.1970 - val_accuracy: 0.9529\n",
      "Epoch 16/100\n",
      "83/83 [==============================] - 5s 60ms/step - loss: 0.1716 - accuracy: 0.9312 - val_loss: 0.1657 - val_accuracy: 0.9565\n",
      "Running time is 73.85 seconds per 100 epoches\n",
      "Test Accuracy: 0.946\n"
     ]
    }
   ],
   "source": [
    "hist_rnn_y3=model_trainer2(model_RNN, y3, X,100 , 10, es_rnn)"
   ]
  },
  {
   "cell_type": "code",
   "execution_count": 53,
   "metadata": {
    "colab": {
     "base_uri": "https://localhost:8080/",
     "height": 573
    },
    "id": "lcJvuvmxaR0C",
    "outputId": "c866a60b-756f-4dfd-ac05-eaca8615acbd"
   },
   "outputs": [
    {
     "data": {
      "image/png": "[encoded data removed]",
      "text/plain": [
       "<Figure size 432x288 with 1 Axes>"
      ]
     },
     "metadata": {
      "needs_background": "light",
      "tags": []
     },
     "output_type": "display_data"
    },
    {
     "data": {
      "image/png": "[encoded data removed]",
      "text/plain": [
       "<Figure size 432x288 with 1 Axes>"
      ]
     },
     "metadata": {
      "needs_background": "light",
      "tags": []
     },
     "output_type": "display_data"
    }
   ],
   "source": [
    "plot_metric(hist_rnn_y3,'loss')\n",
    "plot_metric(hist_rnn_y3,'accuracy')"
   ]
  },
  {
   "cell_type": "markdown",
   "metadata": {
    "id": "K5YifI0gPIzO"
   },
   "source": [
    "\\pagebreak"
   ]
  },
  {
   "cell_type": "markdown",
   "metadata": {
    "id": "YM1xCTVcnFt4"
   },
   "source": [
    "# CM4"
   ]
  },
  {
   "cell_type": "markdown",
   "metadata": {
    "id": "IpgsnLV8nIQG"
   },
   "source": [
    "To summarize, the models which we have used for this dataset are:\n",
    "<br> 1. a Deep NNet with 2 hidden layers (CM2)\n",
    "<br> 2. a Deep NNet with 7 hidden layers \n",
    "<br> 3. a LSTM based NNet with Adam optimizer\n",
    "<br> 4. a LSTM based NNet with SGD optimizer\n",
    "<br> 5. a RNN based NNet\n",
    "<br>\n",
    "<br> For each of the models, two graphs have been plotted to understand more about their performance. The graphs include training and validation losses and accuracies with the no. of epochs. Also, the test accuracies in each case have been calculated and printed at the end of each model training details. The metrics have been copied into the table shown below. We get low performance and the test accuracies for models 1 and 5. Using LSTM (models 3 and 4), we get the best performance. Out of 3 and 4, we can see that model 4 performs even slightly better."
   ]
  },
  {
   "cell_type": "markdown",
   "metadata": {
    "id": "mqroYfwHGC6Y"
   },
   "source": [
    "|                                   |               |                 |   |   |\n",
    "|-----------------------------------|---------------|-----------------|---|---|\n",
    "|                                   | Test Accuracy | Validation Loss |   |   |\n",
    "|                CM2                |               |                 |   |   |\n",
    "| Model 1: DNN with 2 hidden layers |               |                 |   |   |\n",
    "| Confirmed                         | 0.971         | 0.1251          |   |   |\n",
    "| Deaths                            | 0.906         | 0.2481          |   |   |\n",
    "| Recovered                         | 0.641         | 0.1632          |   |   |\n",
    "|                                   |               |                 |   |   |\n",
    "|                CM3                |               |                 |   |   |\n",
    "|  Model 2: DNN with  hidden layers |               |                 |   |   |\n",
    "| Confirmed                         | 0.971         | 0.1167          |   |   |\n",
    "| Deaths                            | 0.906         | 0.2489          |   |   |\n",
    "| Recovered                         | 0.928         | 0.2047          |   |   |\n",
    "|                                   |               |                 |   |   |\n",
    "| Model 3: LSTM with Adam optimizer |               |                 |   |   |\n",
    "| Confirmed                         | 0.971         | 0.0283          |   |   |\n",
    "| Deaths                            | 0.909         | 0.077           |   |   |\n",
    "| Recovered                         | 0.941         | 0.1072          |   |   |\n",
    "|                                   |               |                 |   |   |\n",
    "|  Model 4: LSTM with SGD optimizer |               |                 |   |   |\n",
    "| Confirmed                         | 0.971         | 0.0288          |   |   |\n",
    "| Deaths                            | 0.906         | 0.0932          |   |   |\n",
    "| Recovered                         | 0.873         | 0.0989          |   |   |\n",
    "|                                   |               |                 |   |   |\n",
    "|      Model 5: RNN based NNet      |               |                 |   |   |\n",
    "| Confirmed                         | 0.971         | 0.1467          |   |   |\n",
    "| Deaths                            | 0.909         | 0.3445          |   |   |\n",
    "| Recovered                         | 0.946         | 0.1657          |   |   |"
   ]
  },
  {
   "cell_type": "markdown",
   "metadata": {
    "id": "noYEpTXHPNT-"
   },
   "source": [
    "\\pagebreak"
   ]
  },
  {
   "cell_type": "markdown",
   "metadata": {
    "id": "hgDW-iKKOgLa"
   },
   "source": [
    "#CM5 Kaggle"
   ]
  },
  {
   "cell_type": "markdown",
   "metadata": {
    "id": "tkj9LvsoFsMF"
   },
   "source": [
    "Kaggle Group - Group 100\n",
    "\n",
    "<br>Kaggle url- https://www.kaggle.com/c/ece657as21-asg3\n",
    "\n",
    "<br>Group members- Amy Bhatia, Mengxuan Shi"
   ]
  },
  {
   "cell_type": "code",
   "execution_count": null,
   "metadata": {
    "id": "C-Qw8ljifeFw"
   },
   "outputs": [],
   "source": [
    "# load dkmacovid test data\n",
    "df_test = pd.read_csv('dkmacovid_kaggletest_features.csv')\n",
    "# remove comma from dataframe in 'Resident Population 2020 Census' and 'Population Density 2020 Census'\n",
    "df_test = df_test.replace(',','', regex=True)\n",
    "# convert string to numeric data\n",
    "df_test['Resident Population 2020 Census'] = df_test['Resident Population 2020 Census'].astype(float) \n",
    "df_test['Population Density 2020 Census'] = df_test['Population Density 2020 Census'].astype(float) \n",
    "features=['Day','State ID','Lat','Long_','Active', 'Incident_Rate', 'Total_Test_Results', 'Case_Fatality_Ratio', 'Testing_Rate', 'Resident Population 2020 Census', 'Population Density 2020 Census', 'Density Rank 2020 Census', 'SexRatio']\n",
    "\n",
    "df_test.head()\n",
    "df_test_z= df_test.loc[:,features]\n",
    "\n",
    "# df_z= df.loc[:,features]\n",
    "df_test_z.iloc[:,:]=std_scaler.fit_transform(df_test_z.iloc[:,:])\n",
    "X_kaggle= df_test_z.loc[:,features]\n",
    "df_test_z.head()\n",
    "X_kaggle = X_kaggle.values.reshape(X_kaggle.shape[0], 13,1)"
   ]
  },
  {
   "cell_type": "code",
   "execution_count": null,
   "metadata": {
    "colab": {
     "base_uri": "https://localhost:8080/"
    },
    "id": "9ZwdgAmZfiGu",
    "outputId": "38e5846e-90e4-4e57-936a-9839a49ba2f2"
   },
   "outputs": [
    {
     "name": "stdout",
     "output_type": "stream",
     "text": [
      "Epoch 1/100\n",
      " 3/26 [==>...........................] - ETA: 1s - loss: 0.2474 - accuracy: 0.6667"
     ]
    },
    {
     "name": "stderr",
     "output_type": "stream",
     "text": [
      "/usr/local/lib/python3.7/dist-packages/tensorflow/python/data/ops/dataset_ops.py:3704: UserWarning: Even though the `tf.config.experimental_run_functions_eagerly` option is set, this option does not apply to tf.data functions. To force eager execution of tf.data functions, please use `tf.data.experimental.enable.debug_mode()`.\n",
      "  \"Even though the `tf.config.experimental_run_functions_eagerly` \"\n"
     ]
    },
    {
     "name": "stdout",
     "output_type": "stream",
     "text": [
      "26/26 [==============================] - 2s 66ms/step - loss: 0.2145 - accuracy: 0.7029 - val_loss: 0.1960 - val_accuracy: 0.7283\n",
      "Epoch 2/100\n",
      "26/26 [==============================] - 2s 64ms/step - loss: 0.1727 - accuracy: 0.7585 - val_loss: 0.1707 - val_accuracy: 0.7609\n",
      "Epoch 3/100\n",
      "26/26 [==============================] - 2s 64ms/step - loss: 0.1500 - accuracy: 0.7995 - val_loss: 0.1593 - val_accuracy: 0.7754\n",
      "Epoch 4/100\n",
      "26/26 [==============================] - 2s 60ms/step - loss: 0.1409 - accuracy: 0.8056 - val_loss: 0.1495 - val_accuracy: 0.7971\n",
      "Epoch 5/100\n",
      "26/26 [==============================] - 2s 61ms/step - loss: 0.1201 - accuracy: 0.8430 - val_loss: 0.1194 - val_accuracy: 0.8406\n",
      "Epoch 6/100\n",
      "26/26 [==============================] - 2s 59ms/step - loss: 0.0983 - accuracy: 0.8804 - val_loss: 0.1036 - val_accuracy: 0.8623\n",
      "Epoch 7/100\n",
      "26/26 [==============================] - 2s 60ms/step - loss: 0.0942 - accuracy: 0.8804 - val_loss: 0.0883 - val_accuracy: 0.8877\n",
      "Epoch 8/100\n",
      "26/26 [==============================] - 2s 63ms/step - loss: 0.0774 - accuracy: 0.9070 - val_loss: 0.0800 - val_accuracy: 0.8986\n",
      "Epoch 9/100\n",
      "26/26 [==============================] - 2s 65ms/step - loss: 0.0683 - accuracy: 0.9215 - val_loss: 0.0683 - val_accuracy: 0.9203\n",
      "Epoch 10/100\n",
      "26/26 [==============================] - 2s 63ms/step - loss: 0.0653 - accuracy: 0.9263 - val_loss: 0.0670 - val_accuracy: 0.9203\n",
      "Epoch 11/100\n",
      "26/26 [==============================] - 2s 64ms/step - loss: 0.0645 - accuracy: 0.9275 - val_loss: 0.0656 - val_accuracy: 0.9239\n",
      "Epoch 12/100\n",
      "26/26 [==============================] - 2s 62ms/step - loss: 0.0638 - accuracy: 0.9300 - val_loss: 0.0642 - val_accuracy: 0.9239\n",
      "Epoch 13/100\n",
      "26/26 [==============================] - 2s 60ms/step - loss: 0.0628 - accuracy: 0.9312 - val_loss: 0.0633 - val_accuracy: 0.9275\n",
      "Epoch 14/100\n",
      "26/26 [==============================] - 2s 63ms/step - loss: 0.0609 - accuracy: 0.9348 - val_loss: 0.0627 - val_accuracy: 0.9275\n",
      "Epoch 15/100\n",
      "26/26 [==============================] - 2s 62ms/step - loss: 0.0580 - accuracy: 0.9372 - val_loss: 0.0601 - val_accuracy: 0.9312\n",
      "Epoch 16/100\n",
      "26/26 [==============================] - 2s 64ms/step - loss: 0.0573 - accuracy: 0.9384 - val_loss: 0.0641 - val_accuracy: 0.9203\n",
      "Epoch 17/100\n",
      "26/26 [==============================] - 2s 63ms/step - loss: 0.0536 - accuracy: 0.9420 - val_loss: 0.0424 - val_accuracy: 0.9565\n",
      "Epoch 18/100\n",
      "26/26 [==============================] - 2s 63ms/step - loss: 0.0460 - accuracy: 0.9553 - val_loss: 0.0344 - val_accuracy: 0.9710\n",
      "Epoch 19/100\n",
      "26/26 [==============================] - 2s 65ms/step - loss: 0.0445 - accuracy: 0.9577 - val_loss: 0.0341 - val_accuracy: 0.9710\n",
      "Epoch 20/100\n",
      "26/26 [==============================] - 2s 61ms/step - loss: 0.0443 - accuracy: 0.9577 - val_loss: 0.0339 - val_accuracy: 0.9710\n",
      "Epoch 21/100\n",
      "26/26 [==============================] - 2s 64ms/step - loss: 0.0441 - accuracy: 0.9577 - val_loss: 0.0338 - val_accuracy: 0.9710\n",
      "Epoch 22/100\n",
      "26/26 [==============================] - 2s 62ms/step - loss: 0.0440 - accuracy: 0.9577 - val_loss: 0.0336 - val_accuracy: 0.9710\n",
      "Epoch 23/100\n",
      "26/26 [==============================] - 2s 60ms/step - loss: 0.0438 - accuracy: 0.9577 - val_loss: 0.0335 - val_accuracy: 0.9710\n",
      "Epoch 24/100\n",
      "26/26 [==============================] - 2s 63ms/step - loss: 0.0437 - accuracy: 0.9577 - val_loss: 0.0334 - val_accuracy: 0.9710\n",
      "Epoch 25/100\n",
      "26/26 [==============================] - 2s 59ms/step - loss: 0.0436 - accuracy: 0.9577 - val_loss: 0.0333 - val_accuracy: 0.9710\n",
      "Epoch 26/100\n",
      "26/26 [==============================] - 2s 60ms/step - loss: 0.0435 - accuracy: 0.9577 - val_loss: 0.0332 - val_accuracy: 0.9710\n",
      "Epoch 27/100\n",
      "26/26 [==============================] - 2s 60ms/step - loss: 0.0434 - accuracy: 0.9577 - val_loss: 0.0331 - val_accuracy: 0.9710\n",
      "Epoch 28/100\n",
      "26/26 [==============================] - 2s 63ms/step - loss: 0.0433 - accuracy: 0.9577 - val_loss: 0.0330 - val_accuracy: 0.9710\n",
      "Epoch 29/100\n",
      "26/26 [==============================] - 2s 64ms/step - loss: 0.0432 - accuracy: 0.9577 - val_loss: 0.0329 - val_accuracy: 0.9710\n",
      "Epoch 30/100\n",
      "26/26 [==============================] - 2s 61ms/step - loss: 0.0431 - accuracy: 0.9577 - val_loss: 0.0328 - val_accuracy: 0.9710\n",
      "Epoch 31/100\n",
      "26/26 [==============================] - 1s 58ms/step - loss: 0.0430 - accuracy: 0.9577 - val_loss: 0.0327 - val_accuracy: 0.9710\n",
      "Epoch 32/100\n",
      "26/26 [==============================] - 2s 61ms/step - loss: 0.0429 - accuracy: 0.9577 - val_loss: 0.0326 - val_accuracy: 0.9710\n",
      "Epoch 33/100\n",
      "26/26 [==============================] - 2s 62ms/step - loss: 0.0428 - accuracy: 0.9577 - val_loss: 0.0326 - val_accuracy: 0.9710\n",
      "Epoch 34/100\n",
      "26/26 [==============================] - 2s 69ms/step - loss: 0.0428 - accuracy: 0.9577 - val_loss: 0.0325 - val_accuracy: 0.9710\n",
      "Epoch 35/100\n",
      "26/26 [==============================] - 2s 60ms/step - loss: 0.0427 - accuracy: 0.9577 - val_loss: 0.0324 - val_accuracy: 0.9710\n",
      "Epoch 36/100\n",
      "26/26 [==============================] - 2s 62ms/step - loss: 0.0426 - accuracy: 0.9577 - val_loss: 0.0323 - val_accuracy: 0.9710\n",
      "Epoch 37/100\n",
      "26/26 [==============================] - 2s 62ms/step - loss: 0.0426 - accuracy: 0.9577 - val_loss: 0.0323 - val_accuracy: 0.9710\n",
      "Epoch 38/100\n",
      "26/26 [==============================] - 2s 58ms/step - loss: 0.0425 - accuracy: 0.9577 - val_loss: 0.0322 - val_accuracy: 0.9710\n",
      "Epoch 39/100\n",
      "26/26 [==============================] - 2s 58ms/step - loss: 0.0424 - accuracy: 0.9577 - val_loss: 0.0322 - val_accuracy: 0.9710\n",
      "Epoch 40/100\n",
      "26/26 [==============================] - 2s 67ms/step - loss: 0.0424 - accuracy: 0.9577 - val_loss: 0.0321 - val_accuracy: 0.9710\n",
      "Epoch 41/100\n",
      "26/26 [==============================] - 2s 62ms/step - loss: 0.0423 - accuracy: 0.9577 - val_loss: 0.0320 - val_accuracy: 0.9710\n",
      "Epoch 42/100\n",
      "26/26 [==============================] - 2s 63ms/step - loss: 0.0423 - accuracy: 0.9577 - val_loss: 0.0320 - val_accuracy: 0.9710\n",
      "Epoch 43/100\n",
      "26/26 [==============================] - 2s 63ms/step - loss: 0.0422 - accuracy: 0.9577 - val_loss: 0.0319 - val_accuracy: 0.9710\n",
      "Epoch 44/100\n",
      "26/26 [==============================] - 2s 67ms/step - loss: 0.0422 - accuracy: 0.9577 - val_loss: 0.0319 - val_accuracy: 0.9710\n",
      "Epoch 45/100\n",
      "26/26 [==============================] - 2s 62ms/step - loss: 0.0421 - accuracy: 0.9577 - val_loss: 0.0318 - val_accuracy: 0.9710\n",
      "Epoch 46/100\n",
      "26/26 [==============================] - 2s 61ms/step - loss: 0.0420 - accuracy: 0.9577 - val_loss: 0.0317 - val_accuracy: 0.9710\n",
      "Epoch 47/100\n",
      "26/26 [==============================] - 2s 63ms/step - loss: 0.0420 - accuracy: 0.9577 - val_loss: 0.0317 - val_accuracy: 0.9710\n",
      "Epoch 48/100\n",
      "26/26 [==============================] - 2s 63ms/step - loss: 0.0419 - accuracy: 0.9577 - val_loss: 0.0316 - val_accuracy: 0.9710\n",
      "Epoch 49/100\n",
      "26/26 [==============================] - 2s 67ms/step - loss: 0.0419 - accuracy: 0.9577 - val_loss: 0.0316 - val_accuracy: 0.9710\n",
      "Epoch 50/100\n",
      "26/26 [==============================] - 2s 59ms/step - loss: 0.0418 - accuracy: 0.9577 - val_loss: 0.0315 - val_accuracy: 0.9710\n",
      "Epoch 51/100\n",
      "26/26 [==============================] - 2s 60ms/step - loss: 0.0418 - accuracy: 0.9577 - val_loss: 0.0315 - val_accuracy: 0.9710\n",
      "Epoch 52/100\n",
      "26/26 [==============================] - 2s 61ms/step - loss: 0.0417 - accuracy: 0.9577 - val_loss: 0.0314 - val_accuracy: 0.9710\n",
      "Epoch 53/100\n",
      "26/26 [==============================] - 2s 64ms/step - loss: 0.0417 - accuracy: 0.9577 - val_loss: 0.0314 - val_accuracy: 0.9710\n",
      "Epoch 54/100\n",
      "26/26 [==============================] - 2s 65ms/step - loss: 0.0416 - accuracy: 0.9577 - val_loss: 0.0314 - val_accuracy: 0.9710\n",
      "Epoch 55/100\n",
      "26/26 [==============================] - 2s 60ms/step - loss: 0.0415 - accuracy: 0.9577 - val_loss: 0.0313 - val_accuracy: 0.9710\n",
      "Epoch 56/100\n",
      "26/26 [==============================] - 2s 63ms/step - loss: 0.0415 - accuracy: 0.9577 - val_loss: 0.0313 - val_accuracy: 0.9710\n",
      "Epoch 57/100\n",
      "26/26 [==============================] - 2s 64ms/step - loss: 0.0414 - accuracy: 0.9577 - val_loss: 0.0313 - val_accuracy: 0.9710\n",
      "Epoch 58/100\n",
      "26/26 [==============================] - 2s 60ms/step - loss: 0.0413 - accuracy: 0.9577 - val_loss: 0.0314 - val_accuracy: 0.9710\n",
      "Epoch 59/100\n",
      "26/26 [==============================] - 2s 66ms/step - loss: 0.0413 - accuracy: 0.9577 - val_loss: 0.0314 - val_accuracy: 0.9710\n",
      "Epoch 60/100\n",
      "26/26 [==============================] - 2s 82ms/step - loss: 0.0412 - accuracy: 0.9577 - val_loss: 0.0314 - val_accuracy: 0.9710\n",
      "Epoch 61/100\n",
      "26/26 [==============================] - 2s 66ms/step - loss: 0.0412 - accuracy: 0.9577 - val_loss: 0.0314 - val_accuracy: 0.9710\n",
      "Epoch 62/100\n",
      "26/26 [==============================] - 2s 63ms/step - loss: 0.0411 - accuracy: 0.9589 - val_loss: 0.0314 - val_accuracy: 0.9710\n",
      "Epoch 63/100\n",
      "26/26 [==============================] - 2s 64ms/step - loss: 0.0411 - accuracy: 0.9589 - val_loss: 0.0315 - val_accuracy: 0.9710\n",
      "Epoch 64/100\n",
      "26/26 [==============================] - 2s 64ms/step - loss: 0.0410 - accuracy: 0.9589 - val_loss: 0.0315 - val_accuracy: 0.9710\n",
      "Epoch 65/100\n",
      "26/26 [==============================] - 2s 63ms/step - loss: 0.0410 - accuracy: 0.9589 - val_loss: 0.0315 - val_accuracy: 0.9710\n",
      "Epoch 66/100\n",
      "26/26 [==============================] - 2s 65ms/step - loss: 0.0409 - accuracy: 0.9589 - val_loss: 0.0316 - val_accuracy: 0.9710\n",
      "Epoch 67/100\n",
      "26/26 [==============================] - 2s 60ms/step - loss: 0.0409 - accuracy: 0.9577 - val_loss: 0.0317 - val_accuracy: 0.9710\n",
      "Epoch 68/100\n",
      "26/26 [==============================] - 2s 62ms/step - loss: 0.0408 - accuracy: 0.9589 - val_loss: 0.0317 - val_accuracy: 0.9710\n",
      "Epoch 69/100\n",
      "26/26 [==============================] - 2s 61ms/step - loss: 0.0408 - accuracy: 0.9577 - val_loss: 0.0317 - val_accuracy: 0.9710\n",
      "Epoch 70/100\n",
      "26/26 [==============================] - 2s 63ms/step - loss: 0.0407 - accuracy: 0.9577 - val_loss: 0.0318 - val_accuracy: 0.9710\n",
      "Epoch 71/100\n",
      "26/26 [==============================] - 2s 66ms/step - loss: 0.0407 - accuracy: 0.9577 - val_loss: 0.0319 - val_accuracy: 0.9674\n",
      "Epoch 72/100\n",
      "26/26 [==============================] - 2s 66ms/step - loss: 0.0406 - accuracy: 0.9565 - val_loss: 0.0319 - val_accuracy: 0.9674\n",
      "Epoch 73/100\n",
      "26/26 [==============================] - 2s 62ms/step - loss: 0.0406 - accuracy: 0.9565 - val_loss: 0.0320 - val_accuracy: 0.9674\n",
      "Epoch 74/100\n",
      "26/26 [==============================] - 2s 61ms/step - loss: 0.0405 - accuracy: 0.9565 - val_loss: 0.0320 - val_accuracy: 0.9674\n",
      "Epoch 75/100\n",
      "26/26 [==============================] - 2s 65ms/step - loss: 0.0405 - accuracy: 0.9577 - val_loss: 0.0321 - val_accuracy: 0.9674\n",
      "Epoch 76/100\n",
      "26/26 [==============================] - 2s 61ms/step - loss: 0.0404 - accuracy: 0.9589 - val_loss: 0.0321 - val_accuracy: 0.9674\n",
      "Epoch 77/100\n",
      "26/26 [==============================] - 2s 65ms/step - loss: 0.0404 - accuracy: 0.9577 - val_loss: 0.0323 - val_accuracy: 0.9674\n",
      "Epoch 78/100\n",
      "26/26 [==============================] - 2s 64ms/step - loss: 0.0404 - accuracy: 0.9577 - val_loss: 0.0321 - val_accuracy: 0.9674\n",
      "Epoch 79/100\n",
      "26/26 [==============================] - 2s 62ms/step - loss: 0.0404 - accuracy: 0.9577 - val_loss: 0.0320 - val_accuracy: 0.9674\n",
      "Epoch 80/100\n",
      "26/26 [==============================] - 2s 64ms/step - loss: 0.0403 - accuracy: 0.9577 - val_loss: 0.0320 - val_accuracy: 0.9674\n",
      "Epoch 81/100\n",
      "26/26 [==============================] - 2s 62ms/step - loss: 0.0402 - accuracy: 0.9577 - val_loss: 0.0319 - val_accuracy: 0.9674\n",
      "Epoch 82/100\n",
      "26/26 [==============================] - 2s 63ms/step - loss: 0.0402 - accuracy: 0.9565 - val_loss: 0.0319 - val_accuracy: 0.9674\n",
      "Epoch 83/100\n",
      "26/26 [==============================] - 2s 69ms/step - loss: 0.0402 - accuracy: 0.9577 - val_loss: 0.0322 - val_accuracy: 0.9674\n",
      "Epoch 84/100\n",
      "26/26 [==============================] - 2s 65ms/step - loss: 0.0401 - accuracy: 0.9577 - val_loss: 0.0321 - val_accuracy: 0.9674\n",
      "Epoch 85/100\n",
      "26/26 [==============================] - 2s 63ms/step - loss: 0.0402 - accuracy: 0.9565 - val_loss: 0.0320 - val_accuracy: 0.9674\n",
      "Epoch 86/100\n",
      "26/26 [==============================] - 2s 65ms/step - loss: 0.0400 - accuracy: 0.9577 - val_loss: 0.0320 - val_accuracy: 0.9674\n",
      "Epoch 87/100\n",
      "26/26 [==============================] - 2s 62ms/step - loss: 0.0400 - accuracy: 0.9577 - val_loss: 0.0320 - val_accuracy: 0.9674\n",
      "Epoch 88/100\n",
      "26/26 [==============================] - 2s 64ms/step - loss: 0.0400 - accuracy: 0.9577 - val_loss: 0.0320 - val_accuracy: 0.9674\n",
      "Epoch 89/100\n",
      "26/26 [==============================] - 2s 64ms/step - loss: 0.0399 - accuracy: 0.9577 - val_loss: 0.0320 - val_accuracy: 0.9674\n",
      "Epoch 90/100\n",
      "26/26 [==============================] - 2s 60ms/step - loss: 0.0399 - accuracy: 0.9577 - val_loss: 0.0319 - val_accuracy: 0.9674\n",
      "Epoch 91/100\n",
      "26/26 [==============================] - 2s 61ms/step - loss: 0.0399 - accuracy: 0.9589 - val_loss: 0.0319 - val_accuracy: 0.9674\n",
      "Epoch 92/100\n",
      "26/26 [==============================] - 2s 63ms/step - loss: 0.0399 - accuracy: 0.9577 - val_loss: 0.0319 - val_accuracy: 0.9674\n",
      "Epoch 93/100\n",
      "26/26 [==============================] - 2s 61ms/step - loss: 0.0399 - accuracy: 0.9577 - val_loss: 0.0319 - val_accuracy: 0.9674\n",
      "Epoch 94/100\n",
      "26/26 [==============================] - 2s 63ms/step - loss: 0.0397 - accuracy: 0.9589 - val_loss: 0.0318 - val_accuracy: 0.9674\n",
      "Epoch 95/100\n",
      "26/26 [==============================] - 2s 68ms/step - loss: 0.0397 - accuracy: 0.9577 - val_loss: 0.0316 - val_accuracy: 0.9674\n",
      "Epoch 96/100\n",
      "26/26 [==============================] - 2s 62ms/step - loss: 0.0397 - accuracy: 0.9589 - val_loss: 0.0315 - val_accuracy: 0.9674\n",
      "Epoch 97/100\n",
      "26/26 [==============================] - 2s 64ms/step - loss: 0.0397 - accuracy: 0.9577 - val_loss: 0.0315 - val_accuracy: 0.9674\n",
      "Epoch 98/100\n",
      "26/26 [==============================] - 2s 62ms/step - loss: 0.0396 - accuracy: 0.9589 - val_loss: 0.0316 - val_accuracy: 0.9674\n",
      "Epoch 99/100\n",
      "26/26 [==============================] - 2s 63ms/step - loss: 0.0397 - accuracy: 0.9577 - val_loss: 0.0316 - val_accuracy: 0.9674\n",
      "Epoch 100/100\n",
      "26/26 [==============================] - 2s 62ms/step - loss: 0.0396 - accuracy: 0.9589 - val_loss: 0.0315 - val_accuracy: 0.9674\n",
      "Running time is 162.76 seconds per 100 epoches\n"
     ]
    },
    {
     "name": "stderr",
     "output_type": "stream",
     "text": [
      "/usr/local/lib/python3.7/dist-packages/keras/engine/sequential.py:450: UserWarning: `model.predict_classes()` is deprecated and will be removed after 2021-01-01. Please use instead:* `np.argmax(model.predict(x), axis=-1)`,   if your model does multi-class classification   (e.g. if it uses a `softmax` last-layer activation).* `(model.predict(x) > 0.5).astype(\"int32\")`,   if your model does binary classification   (e.g. if it uses a `sigmoid` last-layer activation).\n",
      "  warnings.warn('`model.predict_classes()` is deprecated and '\n"
     ]
    }
   ],
   "source": [
    "# REPLACE MODEL NAME AND Y1 2 3 FOR OTHER MODELS AND LABELS\n",
    "model_trainer(model_LSTM, y1, X,100 )\n",
    "y1_predict = model_LSTM.predict_classes(X_kaggle)"
   ]
  },
  {
   "cell_type": "code",
   "execution_count": null,
   "metadata": {
    "colab": {
     "base_uri": "https://localhost:8080/"
    },
    "id": "NlmZZ4_rf1BF",
    "outputId": "0ea1d9a8-ef9f-473e-f335-0fd130af7c90"
   },
   "outputs": [
    {
     "name": "stdout",
     "output_type": "stream",
     "text": [
      "Epoch 1/100\n"
     ]
    },
    {
     "name": "stderr",
     "output_type": "stream",
     "text": [
      "/usr/local/lib/python3.7/dist-packages/tensorflow/python/data/ops/dataset_ops.py:3704: UserWarning: Even though the `tf.config.experimental_run_functions_eagerly` option is set, this option does not apply to tf.data functions. To force eager execution of tf.data functions, please use `tf.data.experimental.enable.debug_mode()`.\n",
      "  \"Even though the `tf.config.experimental_run_functions_eagerly` \"\n"
     ]
    },
    {
     "name": "stdout",
     "output_type": "stream",
     "text": [
      "26/26 [==============================] - 2s 65ms/step - loss: 0.0900 - accuracy: 0.9010 - val_loss: 0.0929 - val_accuracy: 0.8986\n",
      "Epoch 2/100\n",
      "26/26 [==============================] - 2s 63ms/step - loss: 0.0899 - accuracy: 0.8998 - val_loss: 0.0927 - val_accuracy: 0.8986\n",
      "Epoch 3/100\n",
      "26/26 [==============================] - 2s 62ms/step - loss: 0.0897 - accuracy: 0.9010 - val_loss: 0.0927 - val_accuracy: 0.8986\n",
      "Epoch 4/100\n",
      "26/26 [==============================] - 2s 59ms/step - loss: 0.0897 - accuracy: 0.8998 - val_loss: 0.0926 - val_accuracy: 0.8986\n",
      "Epoch 5/100\n",
      "26/26 [==============================] - 2s 60ms/step - loss: 0.0896 - accuracy: 0.9010 - val_loss: 0.0926 - val_accuracy: 0.8986\n",
      "Epoch 6/100\n",
      "26/26 [==============================] - 2s 61ms/step - loss: 0.0896 - accuracy: 0.9010 - val_loss: 0.0925 - val_accuracy: 0.8986\n",
      "Epoch 7/100\n",
      "26/26 [==============================] - 2s 63ms/step - loss: 0.0895 - accuracy: 0.9010 - val_loss: 0.0925 - val_accuracy: 0.8986\n",
      "Epoch 8/100\n",
      "26/26 [==============================] - 2s 65ms/step - loss: 0.0894 - accuracy: 0.9010 - val_loss: 0.0926 - val_accuracy: 0.8986\n",
      "Epoch 9/100\n",
      "26/26 [==============================] - 2s 63ms/step - loss: 0.0894 - accuracy: 0.9010 - val_loss: 0.0925 - val_accuracy: 0.8986\n",
      "Epoch 10/100\n",
      "26/26 [==============================] - 2s 62ms/step - loss: 0.0893 - accuracy: 0.9010 - val_loss: 0.0924 - val_accuracy: 0.8986\n",
      "Epoch 11/100\n",
      "26/26 [==============================] - 2s 63ms/step - loss: 0.0892 - accuracy: 0.9010 - val_loss: 0.0925 - val_accuracy: 0.8986\n",
      "Epoch 12/100\n",
      "26/26 [==============================] - 2s 64ms/step - loss: 0.0890 - accuracy: 0.9010 - val_loss: 0.0929 - val_accuracy: 0.8986\n",
      "Epoch 13/100\n",
      "26/26 [==============================] - 2s 60ms/step - loss: 0.0891 - accuracy: 0.9010 - val_loss: 0.0973 - val_accuracy: 0.8841\n",
      "Epoch 14/100\n",
      "26/26 [==============================] - 2s 62ms/step - loss: 0.0887 - accuracy: 0.8998 - val_loss: 0.0937 - val_accuracy: 0.8913\n",
      "Epoch 15/100\n",
      "26/26 [==============================] - 2s 62ms/step - loss: 0.0894 - accuracy: 0.8973 - val_loss: 0.1032 - val_accuracy: 0.8732\n",
      "Epoch 16/100\n",
      "26/26 [==============================] - 2s 62ms/step - loss: 0.0889 - accuracy: 0.8998 - val_loss: 0.1001 - val_accuracy: 0.8768\n",
      "Epoch 17/100\n",
      "26/26 [==============================] - 2s 63ms/step - loss: 0.0867 - accuracy: 0.9034 - val_loss: 0.1011 - val_accuracy: 0.8768\n",
      "Epoch 18/100\n",
      "26/26 [==============================] - 2s 64ms/step - loss: 0.0886 - accuracy: 0.8998 - val_loss: 0.0985 - val_accuracy: 0.8841\n",
      "Epoch 19/100\n",
      "26/26 [==============================] - 2s 62ms/step - loss: 0.0889 - accuracy: 0.8998 - val_loss: 0.0943 - val_accuracy: 0.8913\n",
      "Epoch 20/100\n",
      "26/26 [==============================] - 2s 65ms/step - loss: 0.0876 - accuracy: 0.9010 - val_loss: 0.0957 - val_accuracy: 0.8877\n",
      "Epoch 21/100\n",
      "26/26 [==============================] - 2s 64ms/step - loss: 0.0876 - accuracy: 0.9010 - val_loss: 0.1044 - val_accuracy: 0.8696\n",
      "Epoch 22/100\n",
      "26/26 [==============================] - 2s 59ms/step - loss: 0.0867 - accuracy: 0.9034 - val_loss: 0.0960 - val_accuracy: 0.8841\n",
      "Epoch 23/100\n",
      "26/26 [==============================] - 2s 63ms/step - loss: 0.0873 - accuracy: 0.9010 - val_loss: 0.1007 - val_accuracy: 0.8768\n",
      "Epoch 24/100\n",
      "26/26 [==============================] - 2s 62ms/step - loss: 0.0872 - accuracy: 0.9022 - val_loss: 0.0941 - val_accuracy: 0.8949\n",
      "Epoch 25/100\n",
      "26/26 [==============================] - 2s 61ms/step - loss: 0.0862 - accuracy: 0.9034 - val_loss: 0.1017 - val_accuracy: 0.8732\n",
      "Epoch 26/100\n",
      "26/26 [==============================] - 2s 62ms/step - loss: 0.0884 - accuracy: 0.8998 - val_loss: 0.0937 - val_accuracy: 0.8913\n",
      "Epoch 27/100\n",
      "26/26 [==============================] - 2s 60ms/step - loss: 0.0868 - accuracy: 0.9022 - val_loss: 0.0992 - val_accuracy: 0.8768\n",
      "Epoch 28/100\n",
      "26/26 [==============================] - 2s 64ms/step - loss: 0.0872 - accuracy: 0.9010 - val_loss: 0.1023 - val_accuracy: 0.8768\n",
      "Epoch 29/100\n",
      "26/26 [==============================] - 2s 62ms/step - loss: 0.0885 - accuracy: 0.8998 - val_loss: 0.0997 - val_accuracy: 0.8804\n",
      "Epoch 30/100\n",
      "26/26 [==============================] - 2s 64ms/step - loss: 0.0863 - accuracy: 0.9010 - val_loss: 0.0977 - val_accuracy: 0.8841\n",
      "Epoch 31/100\n",
      "26/26 [==============================] - 2s 63ms/step - loss: 0.0859 - accuracy: 0.9046 - val_loss: 0.1004 - val_accuracy: 0.8804\n",
      "Epoch 32/100\n",
      "26/26 [==============================] - 2s 62ms/step - loss: 0.0880 - accuracy: 0.9010 - val_loss: 0.0997 - val_accuracy: 0.8804\n",
      "Epoch 33/100\n",
      "26/26 [==============================] - 2s 63ms/step - loss: 0.0863 - accuracy: 0.9034 - val_loss: 0.1021 - val_accuracy: 0.8768\n",
      "Epoch 34/100\n",
      "26/26 [==============================] - 2s 61ms/step - loss: 0.0882 - accuracy: 0.8998 - val_loss: 0.0967 - val_accuracy: 0.8841\n",
      "Epoch 35/100\n",
      "26/26 [==============================] - 2s 61ms/step - loss: 0.0855 - accuracy: 0.9034 - val_loss: 0.1008 - val_accuracy: 0.8768\n",
      "Epoch 36/100\n",
      "26/26 [==============================] - 2s 64ms/step - loss: 0.0877 - accuracy: 0.9010 - val_loss: 0.0988 - val_accuracy: 0.8804\n",
      "Epoch 37/100\n",
      "26/26 [==============================] - 2s 63ms/step - loss: 0.0865 - accuracy: 0.9046 - val_loss: 0.0936 - val_accuracy: 0.8913\n",
      "Epoch 38/100\n",
      "26/26 [==============================] - 2s 62ms/step - loss: 0.0886 - accuracy: 0.8998 - val_loss: 0.1003 - val_accuracy: 0.8768\n",
      "Epoch 39/100\n",
      "26/26 [==============================] - 2s 63ms/step - loss: 0.0859 - accuracy: 0.9034 - val_loss: 0.0988 - val_accuracy: 0.8804\n",
      "Epoch 40/100\n",
      "26/26 [==============================] - 2s 65ms/step - loss: 0.0866 - accuracy: 0.9034 - val_loss: 0.1003 - val_accuracy: 0.8768\n",
      "Epoch 41/100\n",
      "26/26 [==============================] - 2s 66ms/step - loss: 0.0876 - accuracy: 0.9022 - val_loss: 0.0975 - val_accuracy: 0.8804\n",
      "Epoch 42/100\n",
      "26/26 [==============================] - 2s 60ms/step - loss: 0.0852 - accuracy: 0.9058 - val_loss: 0.0956 - val_accuracy: 0.8877\n",
      "Epoch 43/100\n",
      "26/26 [==============================] - 2s 62ms/step - loss: 0.0855 - accuracy: 0.9058 - val_loss: 0.0942 - val_accuracy: 0.8913\n",
      "Epoch 44/100\n",
      "26/26 [==============================] - 2s 60ms/step - loss: 0.0872 - accuracy: 0.9022 - val_loss: 0.0992 - val_accuracy: 0.8768\n",
      "Epoch 45/100\n",
      "26/26 [==============================] - 2s 61ms/step - loss: 0.0855 - accuracy: 0.9058 - val_loss: 0.0952 - val_accuracy: 0.8841\n",
      "Epoch 46/100\n",
      "26/26 [==============================] - 2s 63ms/step - loss: 0.0856 - accuracy: 0.9046 - val_loss: 0.0945 - val_accuracy: 0.8877\n",
      "Epoch 47/100\n",
      "26/26 [==============================] - 2s 62ms/step - loss: 0.0858 - accuracy: 0.9046 - val_loss: 0.0951 - val_accuracy: 0.8877\n",
      "Epoch 48/100\n",
      "26/26 [==============================] - 2s 62ms/step - loss: 0.0869 - accuracy: 0.9022 - val_loss: 0.0976 - val_accuracy: 0.8841\n",
      "Epoch 49/100\n",
      "26/26 [==============================] - 2s 64ms/step - loss: 0.0859 - accuracy: 0.9034 - val_loss: 0.1003 - val_accuracy: 0.8804\n",
      "Epoch 50/100\n",
      "26/26 [==============================] - 2s 65ms/step - loss: 0.0863 - accuracy: 0.9034 - val_loss: 0.0988 - val_accuracy: 0.8804\n",
      "Epoch 51/100\n",
      "26/26 [==============================] - 2s 60ms/step - loss: 0.0860 - accuracy: 0.9034 - val_loss: 0.0953 - val_accuracy: 0.8841\n",
      "Epoch 52/100\n",
      "26/26 [==============================] - 2s 65ms/step - loss: 0.0854 - accuracy: 0.9046 - val_loss: 0.0948 - val_accuracy: 0.8877\n",
      "Epoch 53/100\n",
      "26/26 [==============================] - 2s 63ms/step - loss: 0.0850 - accuracy: 0.9058 - val_loss: 0.0951 - val_accuracy: 0.8841\n",
      "Epoch 54/100\n",
      "26/26 [==============================] - 2s 61ms/step - loss: 0.0850 - accuracy: 0.9058 - val_loss: 0.0934 - val_accuracy: 0.8913\n",
      "Epoch 55/100\n",
      "26/26 [==============================] - 2s 66ms/step - loss: 0.0857 - accuracy: 0.9034 - val_loss: 0.0959 - val_accuracy: 0.8841\n",
      "Epoch 56/100\n",
      "26/26 [==============================] - 2s 63ms/step - loss: 0.0856 - accuracy: 0.9034 - val_loss: 0.0939 - val_accuracy: 0.8913\n",
      "Epoch 57/100\n",
      "26/26 [==============================] - 2s 69ms/step - loss: 0.0863 - accuracy: 0.9034 - val_loss: 0.0935 - val_accuracy: 0.8877\n",
      "Epoch 58/100\n",
      "26/26 [==============================] - 2s 63ms/step - loss: 0.0871 - accuracy: 0.9022 - val_loss: 0.0996 - val_accuracy: 0.8804\n",
      "Epoch 59/100\n",
      "26/26 [==============================] - 2s 62ms/step - loss: 0.0861 - accuracy: 0.9034 - val_loss: 0.0958 - val_accuracy: 0.8804\n",
      "Epoch 60/100\n",
      "26/26 [==============================] - 2s 61ms/step - loss: 0.0873 - accuracy: 0.8998 - val_loss: 0.0957 - val_accuracy: 0.8877\n",
      "Epoch 61/100\n",
      "26/26 [==============================] - 2s 63ms/step - loss: 0.0855 - accuracy: 0.9034 - val_loss: 0.0929 - val_accuracy: 0.8949\n",
      "Epoch 62/100\n",
      "26/26 [==============================] - 2s 63ms/step - loss: 0.0866 - accuracy: 0.9034 - val_loss: 0.0968 - val_accuracy: 0.8841\n",
      "Epoch 63/100\n",
      "26/26 [==============================] - 2s 66ms/step - loss: 0.0855 - accuracy: 0.9034 - val_loss: 0.0989 - val_accuracy: 0.8804\n",
      "Epoch 64/100\n",
      "26/26 [==============================] - 2s 60ms/step - loss: 0.0852 - accuracy: 0.9046 - val_loss: 0.1004 - val_accuracy: 0.8768\n",
      "Epoch 65/100\n",
      "26/26 [==============================] - 2s 63ms/step - loss: 0.0850 - accuracy: 0.9046 - val_loss: 0.1011 - val_accuracy: 0.8768\n",
      "Epoch 66/100\n",
      "26/26 [==============================] - 2s 68ms/step - loss: 0.0848 - accuracy: 0.9046 - val_loss: 0.1003 - val_accuracy: 0.8768\n",
      "Epoch 67/100\n",
      "26/26 [==============================] - 2s 62ms/step - loss: 0.0848 - accuracy: 0.9046 - val_loss: 0.1028 - val_accuracy: 0.8732\n",
      "Epoch 68/100\n",
      "26/26 [==============================] - 2s 59ms/step - loss: 0.0858 - accuracy: 0.9034 - val_loss: 0.0980 - val_accuracy: 0.8804\n",
      "Epoch 69/100\n",
      "26/26 [==============================] - 2s 63ms/step - loss: 0.0882 - accuracy: 0.8986 - val_loss: 0.1031 - val_accuracy: 0.8732\n",
      "Epoch 70/100\n",
      "26/26 [==============================] - 2s 61ms/step - loss: 0.0859 - accuracy: 0.9022 - val_loss: 0.0978 - val_accuracy: 0.8804\n",
      "Epoch 71/100\n",
      "26/26 [==============================] - 2s 65ms/step - loss: 0.0848 - accuracy: 0.9046 - val_loss: 0.0981 - val_accuracy: 0.8804\n",
      "Epoch 72/100\n",
      "26/26 [==============================] - 2s 63ms/step - loss: 0.0852 - accuracy: 0.9046 - val_loss: 0.0977 - val_accuracy: 0.8804\n",
      "Epoch 73/100\n",
      "26/26 [==============================] - 2s 63ms/step - loss: 0.0848 - accuracy: 0.9046 - val_loss: 0.0999 - val_accuracy: 0.8804\n",
      "Epoch 74/100\n",
      "26/26 [==============================] - 2s 63ms/step - loss: 0.0848 - accuracy: 0.9046 - val_loss: 0.0987 - val_accuracy: 0.8804\n",
      "Epoch 75/100\n",
      "26/26 [==============================] - 2s 63ms/step - loss: 0.0848 - accuracy: 0.9046 - val_loss: 0.0990 - val_accuracy: 0.8804\n",
      "Epoch 76/100\n",
      "26/26 [==============================] - 2s 65ms/step - loss: 0.0850 - accuracy: 0.9046 - val_loss: 0.0990 - val_accuracy: 0.8804\n",
      "Epoch 77/100\n",
      "26/26 [==============================] - 2s 65ms/step - loss: 0.0846 - accuracy: 0.9046 - val_loss: 0.0992 - val_accuracy: 0.8768\n",
      "Epoch 78/100\n",
      "26/26 [==============================] - 2s 64ms/step - loss: 0.0852 - accuracy: 0.9034 - val_loss: 0.1036 - val_accuracy: 0.8732\n",
      "Epoch 79/100\n",
      "26/26 [==============================] - 2s 66ms/step - loss: 0.0850 - accuracy: 0.9046 - val_loss: 0.0985 - val_accuracy: 0.8804\n",
      "Epoch 80/100\n",
      "26/26 [==============================] - 2s 62ms/step - loss: 0.0851 - accuracy: 0.9046 - val_loss: 0.0972 - val_accuracy: 0.8841\n",
      "Epoch 81/100\n",
      "26/26 [==============================] - 2s 66ms/step - loss: 0.0880 - accuracy: 0.8986 - val_loss: 0.1034 - val_accuracy: 0.8732\n",
      "Epoch 82/100\n",
      "26/26 [==============================] - 2s 62ms/step - loss: 0.0873 - accuracy: 0.8998 - val_loss: 0.1031 - val_accuracy: 0.8732\n",
      "Epoch 83/100\n",
      "26/26 [==============================] - 2s 66ms/step - loss: 0.0860 - accuracy: 0.9022 - val_loss: 0.1026 - val_accuracy: 0.8732\n",
      "Epoch 84/100\n",
      "26/26 [==============================] - 2s 65ms/step - loss: 0.0856 - accuracy: 0.9034 - val_loss: 0.0967 - val_accuracy: 0.8841\n",
      "Epoch 85/100\n",
      "26/26 [==============================] - 2s 63ms/step - loss: 0.0846 - accuracy: 0.9046 - val_loss: 0.0984 - val_accuracy: 0.8804\n",
      "Epoch 86/100\n",
      "26/26 [==============================] - 2s 63ms/step - loss: 0.0848 - accuracy: 0.9046 - val_loss: 0.0986 - val_accuracy: 0.8804\n",
      "Epoch 87/100\n",
      "26/26 [==============================] - 2s 63ms/step - loss: 0.0847 - accuracy: 0.9046 - val_loss: 0.0970 - val_accuracy: 0.8841\n",
      "Epoch 88/100\n",
      "26/26 [==============================] - 2s 65ms/step - loss: 0.0846 - accuracy: 0.9046 - val_loss: 0.0987 - val_accuracy: 0.8804\n",
      "Epoch 89/100\n",
      "26/26 [==============================] - 2s 63ms/step - loss: 0.0847 - accuracy: 0.9046 - val_loss: 0.0984 - val_accuracy: 0.8804\n",
      "Epoch 90/100\n",
      "26/26 [==============================] - 2s 65ms/step - loss: 0.0846 - accuracy: 0.9046 - val_loss: 0.0991 - val_accuracy: 0.8804\n",
      "Epoch 91/100\n",
      "26/26 [==============================] - 2s 64ms/step - loss: 0.0856 - accuracy: 0.9034 - val_loss: 0.1030 - val_accuracy: 0.8732\n",
      "Epoch 92/100\n",
      "26/26 [==============================] - 2s 63ms/step - loss: 0.0852 - accuracy: 0.9046 - val_loss: 0.1033 - val_accuracy: 0.8732\n",
      "Epoch 93/100\n",
      "26/26 [==============================] - 2s 67ms/step - loss: 0.0850 - accuracy: 0.9046 - val_loss: 0.1007 - val_accuracy: 0.8768\n",
      "Epoch 94/100\n",
      "26/26 [==============================] - 2s 66ms/step - loss: 0.0848 - accuracy: 0.9046 - val_loss: 0.1017 - val_accuracy: 0.8732\n",
      "Epoch 95/100\n",
      "26/26 [==============================] - 2s 65ms/step - loss: 0.0849 - accuracy: 0.9046 - val_loss: 0.1017 - val_accuracy: 0.8732\n",
      "Epoch 96/100\n",
      "26/26 [==============================] - 2s 61ms/step - loss: 0.0846 - accuracy: 0.9046 - val_loss: 0.1008 - val_accuracy: 0.8768\n",
      "Epoch 97/100\n",
      "26/26 [==============================] - 2s 62ms/step - loss: 0.0846 - accuracy: 0.9046 - val_loss: 0.1017 - val_accuracy: 0.8732\n",
      "Epoch 98/100\n",
      "26/26 [==============================] - 2s 64ms/step - loss: 0.0846 - accuracy: 0.9046 - val_loss: 0.0997 - val_accuracy: 0.8768\n",
      "Epoch 99/100\n",
      "26/26 [==============================] - 2s 65ms/step - loss: 0.0849 - accuracy: 0.9046 - val_loss: 0.1000 - val_accuracy: 0.8768\n",
      "Epoch 100/100\n",
      "26/26 [==============================] - 2s 65ms/step - loss: 0.0847 - accuracy: 0.9046 - val_loss: 0.1013 - val_accuracy: 0.8768\n",
      "Running time is 201.96 seconds per 100 epoches\n"
     ]
    },
    {
     "name": "stderr",
     "output_type": "stream",
     "text": [
      "/usr/local/lib/python3.7/dist-packages/keras/engine/sequential.py:450: UserWarning: `model.predict_classes()` is deprecated and will be removed after 2021-01-01. Please use instead:* `np.argmax(model.predict(x), axis=-1)`,   if your model does multi-class classification   (e.g. if it uses a `softmax` last-layer activation).* `(model.predict(x) > 0.5).astype(\"int32\")`,   if your model does binary classification   (e.g. if it uses a `sigmoid` last-layer activation).\n",
      "  warnings.warn('`model.predict_classes()` is deprecated and '\n"
     ]
    }
   ],
   "source": [
    "# REPLACE MODEL NAME AND Y1 2 3 FOR OTHER MODELS AND LABELS\n",
    "model_trainer(model_LSTM, y2, X,100 )\n",
    "y2_predict = model_LSTM.predict_classes(X_kaggle)"
   ]
  },
  {
   "cell_type": "code",
   "execution_count": null,
   "metadata": {
    "colab": {
     "base_uri": "https://localhost:8080/"
    },
    "id": "x1cLaod4f1vn",
    "outputId": "6886df00-f1c8-4c9b-d392-6ed3f795c2c9"
   },
   "outputs": [
    {
     "name": "stdout",
     "output_type": "stream",
     "text": [
      "Epoch 1/100\n"
     ]
    },
    {
     "name": "stderr",
     "output_type": "stream",
     "text": [
      "/usr/local/lib/python3.7/dist-packages/tensorflow/python/data/ops/dataset_ops.py:3704: UserWarning: Even though the `tf.config.experimental_run_functions_eagerly` option is set, this option does not apply to tf.data functions. To force eager execution of tf.data functions, please use `tf.data.experimental.enable.debug_mode()`.\n",
      "  \"Even though the `tf.config.experimental_run_functions_eagerly` \"\n"
     ]
    },
    {
     "name": "stdout",
     "output_type": "stream",
     "text": [
      "26/26 [==============================] - 2s 65ms/step - loss: 0.3017 - accuracy: 0.6461 - val_loss: 0.2893 - val_accuracy: 0.6630\n",
      "Epoch 2/100\n",
      "26/26 [==============================] - 2s 65ms/step - loss: 0.2869 - accuracy: 0.6606 - val_loss: 0.2750 - val_accuracy: 0.6667\n",
      "Epoch 3/100\n",
      "26/26 [==============================] - 2s 62ms/step - loss: 0.2731 - accuracy: 0.6739 - val_loss: 0.2571 - val_accuracy: 0.6957\n",
      "Epoch 4/100\n",
      "26/26 [==============================] - 2s 59ms/step - loss: 0.2464 - accuracy: 0.6896 - val_loss: 0.2051 - val_accuracy: 0.7464\n",
      "Epoch 5/100\n",
      "26/26 [==============================] - 2s 61ms/step - loss: 0.1966 - accuracy: 0.7597 - val_loss: 0.1871 - val_accuracy: 0.7717\n",
      "Epoch 6/100\n",
      "26/26 [==============================] - 2s 61ms/step - loss: 0.1687 - accuracy: 0.7923 - val_loss: 0.1675 - val_accuracy: 0.7899\n",
      "Epoch 7/100\n",
      "26/26 [==============================] - 2s 64ms/step - loss: 0.1543 - accuracy: 0.8128 - val_loss: 0.1567 - val_accuracy: 0.8080\n",
      "Epoch 8/100\n",
      "26/26 [==============================] - 2s 65ms/step - loss: 0.1388 - accuracy: 0.8345 - val_loss: 0.1550 - val_accuracy: 0.8152\n",
      "Epoch 9/100\n",
      "26/26 [==============================] - 2s 60ms/step - loss: 0.1312 - accuracy: 0.8478 - val_loss: 0.1571 - val_accuracy: 0.8152\n",
      "Epoch 10/100\n",
      "26/26 [==============================] - 2s 59ms/step - loss: 0.1301 - accuracy: 0.8466 - val_loss: 0.1548 - val_accuracy: 0.8080\n",
      "Epoch 11/100\n",
      "26/26 [==============================] - 2s 63ms/step - loss: 0.1282 - accuracy: 0.8539 - val_loss: 0.1523 - val_accuracy: 0.8188\n",
      "Epoch 12/100\n",
      "26/26 [==============================] - 2s 63ms/step - loss: 0.1271 - accuracy: 0.8502 - val_loss: 0.1487 - val_accuracy: 0.8225\n",
      "Epoch 13/100\n",
      "26/26 [==============================] - 2s 64ms/step - loss: 0.1257 - accuracy: 0.8551 - val_loss: 0.1474 - val_accuracy: 0.8261\n",
      "Epoch 14/100\n",
      "26/26 [==============================] - 2s 62ms/step - loss: 0.1248 - accuracy: 0.8575 - val_loss: 0.1477 - val_accuracy: 0.8297\n",
      "Epoch 15/100\n",
      "26/26 [==============================] - 2s 62ms/step - loss: 0.1231 - accuracy: 0.8623 - val_loss: 0.1466 - val_accuracy: 0.8333\n",
      "Epoch 16/100\n",
      "26/26 [==============================] - 2s 60ms/step - loss: 0.1221 - accuracy: 0.8635 - val_loss: 0.1464 - val_accuracy: 0.8297\n",
      "Epoch 17/100\n",
      "26/26 [==============================] - 2s 60ms/step - loss: 0.1218 - accuracy: 0.8647 - val_loss: 0.1482 - val_accuracy: 0.8152\n",
      "Epoch 18/100\n",
      "26/26 [==============================] - 2s 62ms/step - loss: 0.1217 - accuracy: 0.8659 - val_loss: 0.1470 - val_accuracy: 0.8225\n",
      "Epoch 19/100\n",
      "26/26 [==============================] - 2s 61ms/step - loss: 0.1216 - accuracy: 0.8647 - val_loss: 0.1490 - val_accuracy: 0.8225\n",
      "Epoch 20/100\n",
      "26/26 [==============================] - 2s 64ms/step - loss: 0.1202 - accuracy: 0.8647 - val_loss: 0.1497 - val_accuracy: 0.8188\n",
      "Epoch 21/100\n",
      "26/26 [==============================] - 2s 62ms/step - loss: 0.1200 - accuracy: 0.8684 - val_loss: 0.1488 - val_accuracy: 0.8152\n",
      "Epoch 22/100\n",
      "26/26 [==============================] - 2s 61ms/step - loss: 0.1200 - accuracy: 0.8671 - val_loss: 0.1478 - val_accuracy: 0.8261\n",
      "Epoch 23/100\n",
      "26/26 [==============================] - 2s 61ms/step - loss: 0.1199 - accuracy: 0.8659 - val_loss: 0.1509 - val_accuracy: 0.8116\n",
      "Epoch 24/100\n",
      "26/26 [==============================] - 2s 64ms/step - loss: 0.1190 - accuracy: 0.8684 - val_loss: 0.1495 - val_accuracy: 0.8225\n",
      "Epoch 25/100\n",
      "26/26 [==============================] - 2s 64ms/step - loss: 0.1190 - accuracy: 0.8671 - val_loss: 0.1539 - val_accuracy: 0.8188\n",
      "Epoch 26/100\n",
      "26/26 [==============================] - 2s 66ms/step - loss: 0.1187 - accuracy: 0.8671 - val_loss: 0.1472 - val_accuracy: 0.8225\n",
      "Epoch 27/100\n",
      "26/26 [==============================] - 2s 63ms/step - loss: 0.1186 - accuracy: 0.8684 - val_loss: 0.1497 - val_accuracy: 0.8188\n",
      "Epoch 28/100\n",
      "26/26 [==============================] - 2s 61ms/step - loss: 0.1186 - accuracy: 0.8659 - val_loss: 0.1494 - val_accuracy: 0.8261\n",
      "Epoch 29/100\n",
      "26/26 [==============================] - 2s 67ms/step - loss: 0.1188 - accuracy: 0.8671 - val_loss: 0.1505 - val_accuracy: 0.8188\n",
      "Epoch 30/100\n",
      "26/26 [==============================] - 2s 63ms/step - loss: 0.1179 - accuracy: 0.8684 - val_loss: 0.1499 - val_accuracy: 0.8225\n",
      "Epoch 31/100\n",
      "26/26 [==============================] - 2s 63ms/step - loss: 0.1182 - accuracy: 0.8684 - val_loss: 0.1508 - val_accuracy: 0.8188\n",
      "Epoch 32/100\n",
      "26/26 [==============================] - 2s 61ms/step - loss: 0.1179 - accuracy: 0.8659 - val_loss: 0.1505 - val_accuracy: 0.8188\n",
      "Epoch 33/100\n",
      "26/26 [==============================] - 2s 65ms/step - loss: 0.1175 - accuracy: 0.8696 - val_loss: 0.1502 - val_accuracy: 0.8225\n",
      "Epoch 34/100\n",
      "26/26 [==============================] - 2s 62ms/step - loss: 0.1177 - accuracy: 0.8684 - val_loss: 0.1519 - val_accuracy: 0.8116\n",
      "Epoch 35/100\n",
      "26/26 [==============================] - 2s 62ms/step - loss: 0.1177 - accuracy: 0.8696 - val_loss: 0.1511 - val_accuracy: 0.8188\n",
      "Epoch 36/100\n",
      "26/26 [==============================] - 2s 61ms/step - loss: 0.1169 - accuracy: 0.8696 - val_loss: 0.1492 - val_accuracy: 0.8188\n",
      "Epoch 37/100\n",
      "26/26 [==============================] - 2s 64ms/step - loss: 0.1169 - accuracy: 0.8696 - val_loss: 0.1533 - val_accuracy: 0.8116\n",
      "Epoch 38/100\n",
      "26/26 [==============================] - 2s 60ms/step - loss: 0.1169 - accuracy: 0.8696 - val_loss: 0.1553 - val_accuracy: 0.8080\n",
      "Epoch 39/100\n",
      "26/26 [==============================] - 2s 66ms/step - loss: 0.1169 - accuracy: 0.8708 - val_loss: 0.1549 - val_accuracy: 0.8080\n",
      "Epoch 40/100\n",
      "26/26 [==============================] - 2s 64ms/step - loss: 0.1166 - accuracy: 0.8696 - val_loss: 0.1518 - val_accuracy: 0.8188\n",
      "Epoch 41/100\n",
      "26/26 [==============================] - 2s 65ms/step - loss: 0.1168 - accuracy: 0.8696 - val_loss: 0.1503 - val_accuracy: 0.8188\n",
      "Epoch 42/100\n",
      "26/26 [==============================] - 2s 69ms/step - loss: 0.1165 - accuracy: 0.8696 - val_loss: 0.1524 - val_accuracy: 0.8188\n",
      "Epoch 43/100\n",
      "26/26 [==============================] - 2s 64ms/step - loss: 0.1168 - accuracy: 0.8684 - val_loss: 0.1497 - val_accuracy: 0.8188\n",
      "Epoch 44/100\n",
      "26/26 [==============================] - 2s 63ms/step - loss: 0.1160 - accuracy: 0.8708 - val_loss: 0.1506 - val_accuracy: 0.8116\n",
      "Epoch 45/100\n",
      "26/26 [==============================] - 2s 64ms/step - loss: 0.1164 - accuracy: 0.8708 - val_loss: 0.1491 - val_accuracy: 0.8225\n",
      "Epoch 46/100\n",
      "26/26 [==============================] - 2s 61ms/step - loss: 0.1161 - accuracy: 0.8696 - val_loss: 0.1492 - val_accuracy: 0.8188\n",
      "Epoch 47/100\n",
      "26/26 [==============================] - 2s 64ms/step - loss: 0.1163 - accuracy: 0.8696 - val_loss: 0.1512 - val_accuracy: 0.8188\n",
      "Epoch 48/100\n",
      "26/26 [==============================] - 2s 64ms/step - loss: 0.1154 - accuracy: 0.8720 - val_loss: 0.1542 - val_accuracy: 0.8116\n",
      "Epoch 49/100\n",
      "26/26 [==============================] - 2s 62ms/step - loss: 0.1161 - accuracy: 0.8708 - val_loss: 0.1546 - val_accuracy: 0.8152\n",
      "Epoch 50/100\n",
      "26/26 [==============================] - 2s 59ms/step - loss: 0.1160 - accuracy: 0.8684 - val_loss: 0.1529 - val_accuracy: 0.8152\n",
      "Epoch 51/100\n",
      "26/26 [==============================] - 2s 61ms/step - loss: 0.1153 - accuracy: 0.8708 - val_loss: 0.1496 - val_accuracy: 0.8188\n",
      "Epoch 52/100\n",
      "26/26 [==============================] - 2s 63ms/step - loss: 0.1152 - accuracy: 0.8708 - val_loss: 0.1524 - val_accuracy: 0.8080\n",
      "Epoch 53/100\n",
      "26/26 [==============================] - 2s 61ms/step - loss: 0.1155 - accuracy: 0.8696 - val_loss: 0.1505 - val_accuracy: 0.8188\n",
      "Epoch 54/100\n",
      "26/26 [==============================] - 2s 61ms/step - loss: 0.1151 - accuracy: 0.8696 - val_loss: 0.1515 - val_accuracy: 0.8152\n",
      "Epoch 55/100\n",
      "26/26 [==============================] - 2s 60ms/step - loss: 0.1149 - accuracy: 0.8684 - val_loss: 0.1545 - val_accuracy: 0.8080\n",
      "Epoch 56/100\n",
      "26/26 [==============================] - 2s 62ms/step - loss: 0.1149 - accuracy: 0.8671 - val_loss: 0.1495 - val_accuracy: 0.8188\n",
      "Epoch 57/100\n",
      "26/26 [==============================] - 2s 64ms/step - loss: 0.1152 - accuracy: 0.8696 - val_loss: 0.1521 - val_accuracy: 0.8152\n",
      "Epoch 58/100\n",
      "26/26 [==============================] - 2s 61ms/step - loss: 0.1147 - accuracy: 0.8708 - val_loss: 0.1501 - val_accuracy: 0.8188\n",
      "Epoch 59/100\n",
      "26/26 [==============================] - 2s 63ms/step - loss: 0.1149 - accuracy: 0.8671 - val_loss: 0.1514 - val_accuracy: 0.8152\n",
      "Epoch 60/100\n",
      "26/26 [==============================] - 2s 62ms/step - loss: 0.1149 - accuracy: 0.8696 - val_loss: 0.1500 - val_accuracy: 0.8188\n",
      "Epoch 61/100\n",
      "26/26 [==============================] - 2s 61ms/step - loss: 0.1145 - accuracy: 0.8708 - val_loss: 0.1494 - val_accuracy: 0.8225\n",
      "Epoch 62/100\n",
      "26/26 [==============================] - 2s 60ms/step - loss: 0.1148 - accuracy: 0.8684 - val_loss: 0.1505 - val_accuracy: 0.8188\n",
      "Epoch 63/100\n",
      "26/26 [==============================] - 2s 62ms/step - loss: 0.1146 - accuracy: 0.8696 - val_loss: 0.1504 - val_accuracy: 0.8188\n",
      "Epoch 64/100\n",
      "26/26 [==============================] - 2s 59ms/step - loss: 0.1141 - accuracy: 0.8696 - val_loss: 0.1522 - val_accuracy: 0.8152\n",
      "Epoch 65/100\n",
      "26/26 [==============================] - 2s 60ms/step - loss: 0.1141 - accuracy: 0.8696 - val_loss: 0.1514 - val_accuracy: 0.8152\n",
      "Epoch 66/100\n",
      "26/26 [==============================] - 2s 64ms/step - loss: 0.1141 - accuracy: 0.8708 - val_loss: 0.1509 - val_accuracy: 0.8116\n",
      "Epoch 67/100\n",
      "26/26 [==============================] - 2s 61ms/step - loss: 0.1142 - accuracy: 0.8696 - val_loss: 0.1509 - val_accuracy: 0.8188\n",
      "Epoch 68/100\n",
      "26/26 [==============================] - 2s 63ms/step - loss: 0.1138 - accuracy: 0.8708 - val_loss: 0.1543 - val_accuracy: 0.8116\n",
      "Epoch 69/100\n",
      "26/26 [==============================] - 2s 59ms/step - loss: 0.1140 - accuracy: 0.8708 - val_loss: 0.1505 - val_accuracy: 0.8225\n",
      "Epoch 70/100\n",
      "26/26 [==============================] - 2s 61ms/step - loss: 0.1138 - accuracy: 0.8720 - val_loss: 0.1517 - val_accuracy: 0.8152\n",
      "Epoch 71/100\n",
      "26/26 [==============================] - 2s 61ms/step - loss: 0.1135 - accuracy: 0.8720 - val_loss: 0.1507 - val_accuracy: 0.8152\n",
      "Epoch 72/100\n",
      "26/26 [==============================] - 2s 64ms/step - loss: 0.1141 - accuracy: 0.8708 - val_loss: 0.1503 - val_accuracy: 0.8225\n",
      "Epoch 73/100\n",
      "26/26 [==============================] - 2s 60ms/step - loss: 0.1136 - accuracy: 0.8720 - val_loss: 0.1519 - val_accuracy: 0.8188\n",
      "Epoch 74/100\n",
      "26/26 [==============================] - 2s 60ms/step - loss: 0.1139 - accuracy: 0.8708 - val_loss: 0.1529 - val_accuracy: 0.8116\n",
      "Epoch 75/100\n",
      "26/26 [==============================] - 2s 60ms/step - loss: 0.1136 - accuracy: 0.8708 - val_loss: 0.1497 - val_accuracy: 0.8188\n",
      "Epoch 76/100\n",
      "26/26 [==============================] - 2s 60ms/step - loss: 0.1134 - accuracy: 0.8708 - val_loss: 0.1540 - val_accuracy: 0.8116\n",
      "Epoch 77/100\n",
      "26/26 [==============================] - 2s 64ms/step - loss: 0.1135 - accuracy: 0.8708 - val_loss: 0.1517 - val_accuracy: 0.8188\n",
      "Epoch 78/100\n",
      "26/26 [==============================] - 2s 66ms/step - loss: 0.1133 - accuracy: 0.8708 - val_loss: 0.1538 - val_accuracy: 0.8116\n",
      "Epoch 79/100\n",
      "26/26 [==============================] - 2s 61ms/step - loss: 0.1137 - accuracy: 0.8696 - val_loss: 0.1511 - val_accuracy: 0.8188\n",
      "Epoch 80/100\n",
      "26/26 [==============================] - 2s 62ms/step - loss: 0.1131 - accuracy: 0.8720 - val_loss: 0.1515 - val_accuracy: 0.8188\n",
      "Epoch 81/100\n",
      "26/26 [==============================] - 2s 63ms/step - loss: 0.1133 - accuracy: 0.8708 - val_loss: 0.1498 - val_accuracy: 0.8225\n",
      "Epoch 82/100\n",
      "26/26 [==============================] - 2s 63ms/step - loss: 0.1128 - accuracy: 0.8732 - val_loss: 0.1511 - val_accuracy: 0.8188\n",
      "Epoch 83/100\n",
      "26/26 [==============================] - 2s 62ms/step - loss: 0.1129 - accuracy: 0.8720 - val_loss: 0.1527 - val_accuracy: 0.8188\n",
      "Epoch 84/100\n",
      "26/26 [==============================] - 2s 65ms/step - loss: 0.1131 - accuracy: 0.8708 - val_loss: 0.1511 - val_accuracy: 0.8188\n",
      "Epoch 85/100\n",
      "26/26 [==============================] - 2s 61ms/step - loss: 0.1130 - accuracy: 0.8720 - val_loss: 0.1519 - val_accuracy: 0.8188\n",
      "Epoch 86/100\n",
      "26/26 [==============================] - 2s 61ms/step - loss: 0.1128 - accuracy: 0.8720 - val_loss: 0.1510 - val_accuracy: 0.8188\n",
      "Epoch 87/100\n",
      "26/26 [==============================] - 2s 61ms/step - loss: 0.1128 - accuracy: 0.8732 - val_loss: 0.1514 - val_accuracy: 0.8188\n",
      "Epoch 88/100\n",
      "26/26 [==============================] - 2s 60ms/step - loss: 0.1132 - accuracy: 0.8696 - val_loss: 0.1501 - val_accuracy: 0.8188\n",
      "Epoch 89/100\n",
      "26/26 [==============================] - 2s 62ms/step - loss: 0.1126 - accuracy: 0.8720 - val_loss: 0.1496 - val_accuracy: 0.8188\n",
      "Epoch 90/100\n",
      "26/26 [==============================] - 2s 63ms/step - loss: 0.1126 - accuracy: 0.8708 - val_loss: 0.1515 - val_accuracy: 0.8152\n",
      "Epoch 91/100\n",
      "26/26 [==============================] - 2s 60ms/step - loss: 0.1127 - accuracy: 0.8696 - val_loss: 0.1499 - val_accuracy: 0.8225\n",
      "Epoch 92/100\n",
      "26/26 [==============================] - 2s 60ms/step - loss: 0.1126 - accuracy: 0.8720 - val_loss: 0.1506 - val_accuracy: 0.8225\n",
      "Epoch 93/100\n",
      "21/26 [=======================>......] - ETA: 0s - loss: 0.1124 - accuracy: 0.8705"
     ]
    }
   ],
   "source": [
    "# REPLACE MODEL NAME AND Y1 2 3 FOR OTHER MODELS AND LABELS\n",
    "model_trainer(model_LSTM, y3, X,100 )\n",
    "y3_predict = model_LSTM.predict_classes(X_kaggle)"
   ]
  },
  {
   "cell_type": "code",
   "execution_count": null,
   "metadata": {
    "id": "J6W9ykCHf6vU"
   },
   "outputs": [],
   "source": [
    "import datetime\n",
    "now = datetime.datetime.now()\n",
    "time_string=now.strftime(\"%Y-%m-%d %H:%M\")\n",
    "\n",
    "Confirmed= pd.DataFrame(data= y1_predict, columns=['Confirmed']).astype(int)\n",
    "Deaths= pd.DataFrame(data= y2_predict, columns=['Deaths']).astype(int)\n",
    "Recovered= pd.DataFrame(data= y3_predict, columns=['Recovered']).astype(int)\n",
    "\n",
    "ID = pd.DataFrame(df_test['Id'],columns=['Id'])\n",
    "df_result=pd.concat([ID,Confirmed,Deaths,Recovered], axis=1)\n",
    "df_result.to_csv('Kaggle_Decision_'+time_string+'.csv', index=False)"
   ]
  },
  {
   "cell_type": "markdown",
   "metadata": {
    "id": "RHEVFNb-OPWb"
   },
   "source": [
    "# References"
   ]
  },
  {
   "cell_type": "markdown",
   "metadata": {
    "id": "S75hi9nMORhn"
   },
   "source": [
    "[1] https://towardsdatascience.com/a-practical-introduction-to-early-stopping-in-machine-learning-550ac88bc8fd\n",
    "\n",
    "[2] https://www.kdnuggets.com/2019/11/designing-neural-networks.html\n",
    "\n",
    "[3] https://machinelearningmastery.com/timedistributed-layer-for-long-short-term-memory-networks-in-python/\n",
    "\n",
    "[4] https://stats.stackexchange.com/questions/324896/training-loss-increases-with-time"
   ]
  }
 ],
 "metadata": {
  "colab": {
   "collapsed_sections": [],
   "name": "ECE657A_A3COVID_Group100.ipynb",
   "provenance": []
  },
  "kernelspec": {
   "display_name": "Python 3",
   "language": "python",
   "name": "python3"
  },
  "language_info": {
   "codemirror_mode": {
    "name": "ipython",
    "version": 3
   },
   "file_extension": ".py",
   "mimetype": "text/x-python",
   "name": "python",
   "nbconvert_exporter": "python",
   "pygments_lexer": "ipython3",
   "version": "3.8.8"
  }
 },
 "nbformat": 4,
 "nbformat_minor": 1
}
